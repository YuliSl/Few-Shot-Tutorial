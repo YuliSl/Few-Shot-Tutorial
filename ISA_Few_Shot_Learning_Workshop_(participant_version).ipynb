{
  "nbformat": 4,
  "nbformat_minor": 0,
  "metadata": {
    "colab": {
      "provenance": [],
      "machine_shape": "hm"
    },
    "kernelspec": {
      "name": "python3",
      "display_name": "Python 3"
    },
    "language_info": {
      "name": "python"
    },
    "accelerator": "GPU",
    "gpuClass": "standard",
    "widgets": {
      "application/vnd.jupyter.widget-state+json": {
        "49bdfe9851e44c1dbebb7d47b25e5780": {
          "model_module": "@jupyter-widgets/controls",
          "model_name": "HBoxModel",
          "model_module_version": "1.5.0",
          "state": {
            "_dom_classes": [],
            "_model_module": "@jupyter-widgets/controls",
            "_model_module_version": "1.5.0",
            "_model_name": "HBoxModel",
            "_view_count": null,
            "_view_module": "@jupyter-widgets/controls",
            "_view_module_version": "1.5.0",
            "_view_name": "HBoxView",
            "box_style": "",
            "children": [
              "IPY_MODEL_e5071912bb3f4a0da1f40eb7499c3bda",
              "IPY_MODEL_4b5377655f744bf0a06c57573c88c997",
              "IPY_MODEL_40d471128213429ca4b746dfb00e5e7b"
            ],
            "layout": "IPY_MODEL_cbf931628cc94a13aae90038ca25f086"
          }
        },
        "e5071912bb3f4a0da1f40eb7499c3bda": {
          "model_module": "@jupyter-widgets/controls",
          "model_name": "HTMLModel",
          "model_module_version": "1.5.0",
          "state": {
            "_dom_classes": [],
            "_model_module": "@jupyter-widgets/controls",
            "_model_module_version": "1.5.0",
            "_model_name": "HTMLModel",
            "_view_count": null,
            "_view_module": "@jupyter-widgets/controls",
            "_view_module_version": "1.5.0",
            "_view_name": "HTMLView",
            "description": "",
            "description_tooltip": null,
            "layout": "IPY_MODEL_916384babdef4cdc82cdf210289a8ebf",
            "placeholder": "​",
            "style": "IPY_MODEL_c460a333a9214732b4a1d74a04e8cd64",
            "value": "100%"
          }
        },
        "4b5377655f744bf0a06c57573c88c997": {
          "model_module": "@jupyter-widgets/controls",
          "model_name": "FloatProgressModel",
          "model_module_version": "1.5.0",
          "state": {
            "_dom_classes": [],
            "_model_module": "@jupyter-widgets/controls",
            "_model_module_version": "1.5.0",
            "_model_name": "FloatProgressModel",
            "_view_count": null,
            "_view_module": "@jupyter-widgets/controls",
            "_view_module_version": "1.5.0",
            "_view_name": "ProgressView",
            "bar_style": "success",
            "description": "",
            "description_tooltip": null,
            "layout": "IPY_MODEL_f1d21f33f5e5427ca492b7cbd5a12125",
            "max": 300,
            "min": 0,
            "orientation": "horizontal",
            "style": "IPY_MODEL_9683f0360e144015884fcee6d1efe43a",
            "value": 300
          }
        },
        "40d471128213429ca4b746dfb00e5e7b": {
          "model_module": "@jupyter-widgets/controls",
          "model_name": "HTMLModel",
          "model_module_version": "1.5.0",
          "state": {
            "_dom_classes": [],
            "_model_module": "@jupyter-widgets/controls",
            "_model_module_version": "1.5.0",
            "_model_name": "HTMLModel",
            "_view_count": null,
            "_view_module": "@jupyter-widgets/controls",
            "_view_module_version": "1.5.0",
            "_view_name": "HTMLView",
            "description": "",
            "description_tooltip": null,
            "layout": "IPY_MODEL_ae0158ed1f1344b984834ac5e83ed964",
            "placeholder": "​",
            "style": "IPY_MODEL_808c6f7090af47ff8b850111c00abb3e",
            "value": " 300/300 [00:02&lt;00:00, 125.11it/s]"
          }
        },
        "cbf931628cc94a13aae90038ca25f086": {
          "model_module": "@jupyter-widgets/base",
          "model_name": "LayoutModel",
          "model_module_version": "1.2.0",
          "state": {
            "_model_module": "@jupyter-widgets/base",
            "_model_module_version": "1.2.0",
            "_model_name": "LayoutModel",
            "_view_count": null,
            "_view_module": "@jupyter-widgets/base",
            "_view_module_version": "1.2.0",
            "_view_name": "LayoutView",
            "align_content": null,
            "align_items": null,
            "align_self": null,
            "border": null,
            "bottom": null,
            "display": null,
            "flex": null,
            "flex_flow": null,
            "grid_area": null,
            "grid_auto_columns": null,
            "grid_auto_flow": null,
            "grid_auto_rows": null,
            "grid_column": null,
            "grid_gap": null,
            "grid_row": null,
            "grid_template_areas": null,
            "grid_template_columns": null,
            "grid_template_rows": null,
            "height": null,
            "justify_content": null,
            "justify_items": null,
            "left": null,
            "margin": null,
            "max_height": null,
            "max_width": null,
            "min_height": null,
            "min_width": null,
            "object_fit": null,
            "object_position": null,
            "order": null,
            "overflow": null,
            "overflow_x": null,
            "overflow_y": null,
            "padding": null,
            "right": null,
            "top": null,
            "visibility": null,
            "width": null
          }
        },
        "916384babdef4cdc82cdf210289a8ebf": {
          "model_module": "@jupyter-widgets/base",
          "model_name": "LayoutModel",
          "model_module_version": "1.2.0",
          "state": {
            "_model_module": "@jupyter-widgets/base",
            "_model_module_version": "1.2.0",
            "_model_name": "LayoutModel",
            "_view_count": null,
            "_view_module": "@jupyter-widgets/base",
            "_view_module_version": "1.2.0",
            "_view_name": "LayoutView",
            "align_content": null,
            "align_items": null,
            "align_self": null,
            "border": null,
            "bottom": null,
            "display": null,
            "flex": null,
            "flex_flow": null,
            "grid_area": null,
            "grid_auto_columns": null,
            "grid_auto_flow": null,
            "grid_auto_rows": null,
            "grid_column": null,
            "grid_gap": null,
            "grid_row": null,
            "grid_template_areas": null,
            "grid_template_columns": null,
            "grid_template_rows": null,
            "height": null,
            "justify_content": null,
            "justify_items": null,
            "left": null,
            "margin": null,
            "max_height": null,
            "max_width": null,
            "min_height": null,
            "min_width": null,
            "object_fit": null,
            "object_position": null,
            "order": null,
            "overflow": null,
            "overflow_x": null,
            "overflow_y": null,
            "padding": null,
            "right": null,
            "top": null,
            "visibility": null,
            "width": null
          }
        },
        "c460a333a9214732b4a1d74a04e8cd64": {
          "model_module": "@jupyter-widgets/controls",
          "model_name": "DescriptionStyleModel",
          "model_module_version": "1.5.0",
          "state": {
            "_model_module": "@jupyter-widgets/controls",
            "_model_module_version": "1.5.0",
            "_model_name": "DescriptionStyleModel",
            "_view_count": null,
            "_view_module": "@jupyter-widgets/base",
            "_view_module_version": "1.2.0",
            "_view_name": "StyleView",
            "description_width": ""
          }
        },
        "f1d21f33f5e5427ca492b7cbd5a12125": {
          "model_module": "@jupyter-widgets/base",
          "model_name": "LayoutModel",
          "model_module_version": "1.2.0",
          "state": {
            "_model_module": "@jupyter-widgets/base",
            "_model_module_version": "1.2.0",
            "_model_name": "LayoutModel",
            "_view_count": null,
            "_view_module": "@jupyter-widgets/base",
            "_view_module_version": "1.2.0",
            "_view_name": "LayoutView",
            "align_content": null,
            "align_items": null,
            "align_self": null,
            "border": null,
            "bottom": null,
            "display": null,
            "flex": null,
            "flex_flow": null,
            "grid_area": null,
            "grid_auto_columns": null,
            "grid_auto_flow": null,
            "grid_auto_rows": null,
            "grid_column": null,
            "grid_gap": null,
            "grid_row": null,
            "grid_template_areas": null,
            "grid_template_columns": null,
            "grid_template_rows": null,
            "height": null,
            "justify_content": null,
            "justify_items": null,
            "left": null,
            "margin": null,
            "max_height": null,
            "max_width": null,
            "min_height": null,
            "min_width": null,
            "object_fit": null,
            "object_position": null,
            "order": null,
            "overflow": null,
            "overflow_x": null,
            "overflow_y": null,
            "padding": null,
            "right": null,
            "top": null,
            "visibility": null,
            "width": null
          }
        },
        "9683f0360e144015884fcee6d1efe43a": {
          "model_module": "@jupyter-widgets/controls",
          "model_name": "ProgressStyleModel",
          "model_module_version": "1.5.0",
          "state": {
            "_model_module": "@jupyter-widgets/controls",
            "_model_module_version": "1.5.0",
            "_model_name": "ProgressStyleModel",
            "_view_count": null,
            "_view_module": "@jupyter-widgets/base",
            "_view_module_version": "1.2.0",
            "_view_name": "StyleView",
            "bar_color": null,
            "description_width": ""
          }
        },
        "ae0158ed1f1344b984834ac5e83ed964": {
          "model_module": "@jupyter-widgets/base",
          "model_name": "LayoutModel",
          "model_module_version": "1.2.0",
          "state": {
            "_model_module": "@jupyter-widgets/base",
            "_model_module_version": "1.2.0",
            "_model_name": "LayoutModel",
            "_view_count": null,
            "_view_module": "@jupyter-widgets/base",
            "_view_module_version": "1.2.0",
            "_view_name": "LayoutView",
            "align_content": null,
            "align_items": null,
            "align_self": null,
            "border": null,
            "bottom": null,
            "display": null,
            "flex": null,
            "flex_flow": null,
            "grid_area": null,
            "grid_auto_columns": null,
            "grid_auto_flow": null,
            "grid_auto_rows": null,
            "grid_column": null,
            "grid_gap": null,
            "grid_row": null,
            "grid_template_areas": null,
            "grid_template_columns": null,
            "grid_template_rows": null,
            "height": null,
            "justify_content": null,
            "justify_items": null,
            "left": null,
            "margin": null,
            "max_height": null,
            "max_width": null,
            "min_height": null,
            "min_width": null,
            "object_fit": null,
            "object_position": null,
            "order": null,
            "overflow": null,
            "overflow_x": null,
            "overflow_y": null,
            "padding": null,
            "right": null,
            "top": null,
            "visibility": null,
            "width": null
          }
        },
        "808c6f7090af47ff8b850111c00abb3e": {
          "model_module": "@jupyter-widgets/controls",
          "model_name": "DescriptionStyleModel",
          "model_module_version": "1.5.0",
          "state": {
            "_model_module": "@jupyter-widgets/controls",
            "_model_module_version": "1.5.0",
            "_model_name": "DescriptionStyleModel",
            "_view_count": null,
            "_view_module": "@jupyter-widgets/base",
            "_view_module_version": "1.2.0",
            "_view_name": "StyleView",
            "description_width": ""
          }
        },
        "f0e1af0f9cc74e00bbdccba8ba5c9421": {
          "model_module": "@jupyter-widgets/controls",
          "model_name": "HBoxModel",
          "model_module_version": "1.5.0",
          "state": {
            "_dom_classes": [],
            "_model_module": "@jupyter-widgets/controls",
            "_model_module_version": "1.5.0",
            "_model_name": "HBoxModel",
            "_view_count": null,
            "_view_module": "@jupyter-widgets/controls",
            "_view_module_version": "1.5.0",
            "_view_name": "HBoxView",
            "box_style": "",
            "children": [
              "IPY_MODEL_12cb35c580754d09b1164556a7b81196",
              "IPY_MODEL_ff3537a0270645d29fa812530477c6dc",
              "IPY_MODEL_9e03ca5de5524a218bf62e4b704fe6bc"
            ],
            "layout": "IPY_MODEL_3c33c26ebb4841dd9ae03511a83a9b55"
          }
        },
        "12cb35c580754d09b1164556a7b81196": {
          "model_module": "@jupyter-widgets/controls",
          "model_name": "HTMLModel",
          "model_module_version": "1.5.0",
          "state": {
            "_dom_classes": [],
            "_model_module": "@jupyter-widgets/controls",
            "_model_module_version": "1.5.0",
            "_model_name": "HTMLModel",
            "_view_count": null,
            "_view_module": "@jupyter-widgets/controls",
            "_view_module_version": "1.5.0",
            "_view_name": "HTMLView",
            "description": "",
            "description_tooltip": null,
            "layout": "IPY_MODEL_cf0f1efb63154dc28418f0d0a695f9f0",
            "placeholder": "​",
            "style": "IPY_MODEL_6f82d1b6e53a48388f79226c8d042a4b",
            "value": "100%"
          }
        },
        "ff3537a0270645d29fa812530477c6dc": {
          "model_module": "@jupyter-widgets/controls",
          "model_name": "FloatProgressModel",
          "model_module_version": "1.5.0",
          "state": {
            "_dom_classes": [],
            "_model_module": "@jupyter-widgets/controls",
            "_model_module_version": "1.5.0",
            "_model_name": "FloatProgressModel",
            "_view_count": null,
            "_view_module": "@jupyter-widgets/controls",
            "_view_module_version": "1.5.0",
            "_view_name": "ProgressView",
            "bar_style": "success",
            "description": "",
            "description_tooltip": null,
            "layout": "IPY_MODEL_191ff33be7d94b0ca70de1277956f5cf",
            "max": 19280,
            "min": 0,
            "orientation": "horizontal",
            "style": "IPY_MODEL_e7bf263ad2014be688d66602f94f132e",
            "value": 19280
          }
        },
        "9e03ca5de5524a218bf62e4b704fe6bc": {
          "model_module": "@jupyter-widgets/controls",
          "model_name": "HTMLModel",
          "model_module_version": "1.5.0",
          "state": {
            "_dom_classes": [],
            "_model_module": "@jupyter-widgets/controls",
            "_model_module_version": "1.5.0",
            "_model_name": "HTMLModel",
            "_view_count": null,
            "_view_module": "@jupyter-widgets/controls",
            "_view_module_version": "1.5.0",
            "_view_name": "HTMLView",
            "description": "",
            "description_tooltip": null,
            "layout": "IPY_MODEL_9ddb97b8b37e441f998f10265e567e70",
            "placeholder": "​",
            "style": "IPY_MODEL_7af92ba78be246a1912768b5a1c56cd6",
            "value": " 19280/19280 [00:05&lt;00:00, 3541.17it/s]"
          }
        },
        "3c33c26ebb4841dd9ae03511a83a9b55": {
          "model_module": "@jupyter-widgets/base",
          "model_name": "LayoutModel",
          "model_module_version": "1.2.0",
          "state": {
            "_model_module": "@jupyter-widgets/base",
            "_model_module_version": "1.2.0",
            "_model_name": "LayoutModel",
            "_view_count": null,
            "_view_module": "@jupyter-widgets/base",
            "_view_module_version": "1.2.0",
            "_view_name": "LayoutView",
            "align_content": null,
            "align_items": null,
            "align_self": null,
            "border": null,
            "bottom": null,
            "display": null,
            "flex": null,
            "flex_flow": null,
            "grid_area": null,
            "grid_auto_columns": null,
            "grid_auto_flow": null,
            "grid_auto_rows": null,
            "grid_column": null,
            "grid_gap": null,
            "grid_row": null,
            "grid_template_areas": null,
            "grid_template_columns": null,
            "grid_template_rows": null,
            "height": null,
            "justify_content": null,
            "justify_items": null,
            "left": null,
            "margin": null,
            "max_height": null,
            "max_width": null,
            "min_height": null,
            "min_width": null,
            "object_fit": null,
            "object_position": null,
            "order": null,
            "overflow": null,
            "overflow_x": null,
            "overflow_y": null,
            "padding": null,
            "right": null,
            "top": null,
            "visibility": null,
            "width": null
          }
        },
        "cf0f1efb63154dc28418f0d0a695f9f0": {
          "model_module": "@jupyter-widgets/base",
          "model_name": "LayoutModel",
          "model_module_version": "1.2.0",
          "state": {
            "_model_module": "@jupyter-widgets/base",
            "_model_module_version": "1.2.0",
            "_model_name": "LayoutModel",
            "_view_count": null,
            "_view_module": "@jupyter-widgets/base",
            "_view_module_version": "1.2.0",
            "_view_name": "LayoutView",
            "align_content": null,
            "align_items": null,
            "align_self": null,
            "border": null,
            "bottom": null,
            "display": null,
            "flex": null,
            "flex_flow": null,
            "grid_area": null,
            "grid_auto_columns": null,
            "grid_auto_flow": null,
            "grid_auto_rows": null,
            "grid_column": null,
            "grid_gap": null,
            "grid_row": null,
            "grid_template_areas": null,
            "grid_template_columns": null,
            "grid_template_rows": null,
            "height": null,
            "justify_content": null,
            "justify_items": null,
            "left": null,
            "margin": null,
            "max_height": null,
            "max_width": null,
            "min_height": null,
            "min_width": null,
            "object_fit": null,
            "object_position": null,
            "order": null,
            "overflow": null,
            "overflow_x": null,
            "overflow_y": null,
            "padding": null,
            "right": null,
            "top": null,
            "visibility": null,
            "width": null
          }
        },
        "6f82d1b6e53a48388f79226c8d042a4b": {
          "model_module": "@jupyter-widgets/controls",
          "model_name": "DescriptionStyleModel",
          "model_module_version": "1.5.0",
          "state": {
            "_model_module": "@jupyter-widgets/controls",
            "_model_module_version": "1.5.0",
            "_model_name": "DescriptionStyleModel",
            "_view_count": null,
            "_view_module": "@jupyter-widgets/base",
            "_view_module_version": "1.2.0",
            "_view_name": "StyleView",
            "description_width": ""
          }
        },
        "191ff33be7d94b0ca70de1277956f5cf": {
          "model_module": "@jupyter-widgets/base",
          "model_name": "LayoutModel",
          "model_module_version": "1.2.0",
          "state": {
            "_model_module": "@jupyter-widgets/base",
            "_model_module_version": "1.2.0",
            "_model_name": "LayoutModel",
            "_view_count": null,
            "_view_module": "@jupyter-widgets/base",
            "_view_module_version": "1.2.0",
            "_view_name": "LayoutView",
            "align_content": null,
            "align_items": null,
            "align_self": null,
            "border": null,
            "bottom": null,
            "display": null,
            "flex": null,
            "flex_flow": null,
            "grid_area": null,
            "grid_auto_columns": null,
            "grid_auto_flow": null,
            "grid_auto_rows": null,
            "grid_column": null,
            "grid_gap": null,
            "grid_row": null,
            "grid_template_areas": null,
            "grid_template_columns": null,
            "grid_template_rows": null,
            "height": null,
            "justify_content": null,
            "justify_items": null,
            "left": null,
            "margin": null,
            "max_height": null,
            "max_width": null,
            "min_height": null,
            "min_width": null,
            "object_fit": null,
            "object_position": null,
            "order": null,
            "overflow": null,
            "overflow_x": null,
            "overflow_y": null,
            "padding": null,
            "right": null,
            "top": null,
            "visibility": null,
            "width": null
          }
        },
        "e7bf263ad2014be688d66602f94f132e": {
          "model_module": "@jupyter-widgets/controls",
          "model_name": "ProgressStyleModel",
          "model_module_version": "1.5.0",
          "state": {
            "_model_module": "@jupyter-widgets/controls",
            "_model_module_version": "1.5.0",
            "_model_name": "ProgressStyleModel",
            "_view_count": null,
            "_view_module": "@jupyter-widgets/base",
            "_view_module_version": "1.2.0",
            "_view_name": "StyleView",
            "bar_color": null,
            "description_width": ""
          }
        },
        "9ddb97b8b37e441f998f10265e567e70": {
          "model_module": "@jupyter-widgets/base",
          "model_name": "LayoutModel",
          "model_module_version": "1.2.0",
          "state": {
            "_model_module": "@jupyter-widgets/base",
            "_model_module_version": "1.2.0",
            "_model_name": "LayoutModel",
            "_view_count": null,
            "_view_module": "@jupyter-widgets/base",
            "_view_module_version": "1.2.0",
            "_view_name": "LayoutView",
            "align_content": null,
            "align_items": null,
            "align_self": null,
            "border": null,
            "bottom": null,
            "display": null,
            "flex": null,
            "flex_flow": null,
            "grid_area": null,
            "grid_auto_columns": null,
            "grid_auto_flow": null,
            "grid_auto_rows": null,
            "grid_column": null,
            "grid_gap": null,
            "grid_row": null,
            "grid_template_areas": null,
            "grid_template_columns": null,
            "grid_template_rows": null,
            "height": null,
            "justify_content": null,
            "justify_items": null,
            "left": null,
            "margin": null,
            "max_height": null,
            "max_width": null,
            "min_height": null,
            "min_width": null,
            "object_fit": null,
            "object_position": null,
            "order": null,
            "overflow": null,
            "overflow_x": null,
            "overflow_y": null,
            "padding": null,
            "right": null,
            "top": null,
            "visibility": null,
            "width": null
          }
        },
        "7af92ba78be246a1912768b5a1c56cd6": {
          "model_module": "@jupyter-widgets/controls",
          "model_name": "DescriptionStyleModel",
          "model_module_version": "1.5.0",
          "state": {
            "_model_module": "@jupyter-widgets/controls",
            "_model_module_version": "1.5.0",
            "_model_name": "DescriptionStyleModel",
            "_view_count": null,
            "_view_module": "@jupyter-widgets/base",
            "_view_module_version": "1.2.0",
            "_view_name": "StyleView",
            "description_width": ""
          }
        },
        "71974aae179c43c9a4b7528974a89dfa": {
          "model_module": "@jupyter-widgets/controls",
          "model_name": "HBoxModel",
          "model_module_version": "1.5.0",
          "state": {
            "_dom_classes": [],
            "_model_module": "@jupyter-widgets/controls",
            "_model_module_version": "1.5.0",
            "_model_name": "HBoxModel",
            "_view_count": null,
            "_view_module": "@jupyter-widgets/controls",
            "_view_module_version": "1.5.0",
            "_view_name": "HBoxView",
            "box_style": "",
            "children": [
              "IPY_MODEL_f3dd6a361c6f4ff9afd1f52b9e7e29d4",
              "IPY_MODEL_014e1aa0fe844beda8be7d3ca0be66d6",
              "IPY_MODEL_25c2b775cbd948309fcddaa65b4774d7"
            ],
            "layout": "IPY_MODEL_58d81e37934548d1a542f775d4048d25"
          }
        },
        "f3dd6a361c6f4ff9afd1f52b9e7e29d4": {
          "model_module": "@jupyter-widgets/controls",
          "model_name": "HTMLModel",
          "model_module_version": "1.5.0",
          "state": {
            "_dom_classes": [],
            "_model_module": "@jupyter-widgets/controls",
            "_model_module_version": "1.5.0",
            "_model_name": "HTMLModel",
            "_view_count": null,
            "_view_module": "@jupyter-widgets/controls",
            "_view_module_version": "1.5.0",
            "_view_name": "HTMLView",
            "description": "",
            "description_tooltip": null,
            "layout": "IPY_MODEL_d06db511d8064d5abd6e3e65b921af6a",
            "placeholder": "​",
            "style": "IPY_MODEL_087806fc23e84346888650d27f24d372",
            "value": "100%"
          }
        },
        "014e1aa0fe844beda8be7d3ca0be66d6": {
          "model_module": "@jupyter-widgets/controls",
          "model_name": "FloatProgressModel",
          "model_module_version": "1.5.0",
          "state": {
            "_dom_classes": [],
            "_model_module": "@jupyter-widgets/controls",
            "_model_module_version": "1.5.0",
            "_model_name": "FloatProgressModel",
            "_view_count": null,
            "_view_module": "@jupyter-widgets/controls",
            "_view_module_version": "1.5.0",
            "_view_name": "ProgressView",
            "bar_style": "success",
            "description": "",
            "description_tooltip": null,
            "layout": "IPY_MODEL_f6643288d7c846d3b9cfdba8bc815281",
            "max": 13180,
            "min": 0,
            "orientation": "horizontal",
            "style": "IPY_MODEL_0378b2cf0b944e0da6e7f08b6eb440b2",
            "value": 13180
          }
        },
        "25c2b775cbd948309fcddaa65b4774d7": {
          "model_module": "@jupyter-widgets/controls",
          "model_name": "HTMLModel",
          "model_module_version": "1.5.0",
          "state": {
            "_dom_classes": [],
            "_model_module": "@jupyter-widgets/controls",
            "_model_module_version": "1.5.0",
            "_model_name": "HTMLModel",
            "_view_count": null,
            "_view_module": "@jupyter-widgets/controls",
            "_view_module_version": "1.5.0",
            "_view_name": "HTMLView",
            "description": "",
            "description_tooltip": null,
            "layout": "IPY_MODEL_7c4f6ef7f584458a910d46093cfa0e1a",
            "placeholder": "​",
            "style": "IPY_MODEL_3064ff3f9b344d6dadf9d994e1a7efa3",
            "value": " 13180/13180 [00:04&lt;00:00, 3398.07it/s]"
          }
        },
        "58d81e37934548d1a542f775d4048d25": {
          "model_module": "@jupyter-widgets/base",
          "model_name": "LayoutModel",
          "model_module_version": "1.2.0",
          "state": {
            "_model_module": "@jupyter-widgets/base",
            "_model_module_version": "1.2.0",
            "_model_name": "LayoutModel",
            "_view_count": null,
            "_view_module": "@jupyter-widgets/base",
            "_view_module_version": "1.2.0",
            "_view_name": "LayoutView",
            "align_content": null,
            "align_items": null,
            "align_self": null,
            "border": null,
            "bottom": null,
            "display": null,
            "flex": null,
            "flex_flow": null,
            "grid_area": null,
            "grid_auto_columns": null,
            "grid_auto_flow": null,
            "grid_auto_rows": null,
            "grid_column": null,
            "grid_gap": null,
            "grid_row": null,
            "grid_template_areas": null,
            "grid_template_columns": null,
            "grid_template_rows": null,
            "height": null,
            "justify_content": null,
            "justify_items": null,
            "left": null,
            "margin": null,
            "max_height": null,
            "max_width": null,
            "min_height": null,
            "min_width": null,
            "object_fit": null,
            "object_position": null,
            "order": null,
            "overflow": null,
            "overflow_x": null,
            "overflow_y": null,
            "padding": null,
            "right": null,
            "top": null,
            "visibility": null,
            "width": null
          }
        },
        "d06db511d8064d5abd6e3e65b921af6a": {
          "model_module": "@jupyter-widgets/base",
          "model_name": "LayoutModel",
          "model_module_version": "1.2.0",
          "state": {
            "_model_module": "@jupyter-widgets/base",
            "_model_module_version": "1.2.0",
            "_model_name": "LayoutModel",
            "_view_count": null,
            "_view_module": "@jupyter-widgets/base",
            "_view_module_version": "1.2.0",
            "_view_name": "LayoutView",
            "align_content": null,
            "align_items": null,
            "align_self": null,
            "border": null,
            "bottom": null,
            "display": null,
            "flex": null,
            "flex_flow": null,
            "grid_area": null,
            "grid_auto_columns": null,
            "grid_auto_flow": null,
            "grid_auto_rows": null,
            "grid_column": null,
            "grid_gap": null,
            "grid_row": null,
            "grid_template_areas": null,
            "grid_template_columns": null,
            "grid_template_rows": null,
            "height": null,
            "justify_content": null,
            "justify_items": null,
            "left": null,
            "margin": null,
            "max_height": null,
            "max_width": null,
            "min_height": null,
            "min_width": null,
            "object_fit": null,
            "object_position": null,
            "order": null,
            "overflow": null,
            "overflow_x": null,
            "overflow_y": null,
            "padding": null,
            "right": null,
            "top": null,
            "visibility": null,
            "width": null
          }
        },
        "087806fc23e84346888650d27f24d372": {
          "model_module": "@jupyter-widgets/controls",
          "model_name": "DescriptionStyleModel",
          "model_module_version": "1.5.0",
          "state": {
            "_model_module": "@jupyter-widgets/controls",
            "_model_module_version": "1.5.0",
            "_model_name": "DescriptionStyleModel",
            "_view_count": null,
            "_view_module": "@jupyter-widgets/base",
            "_view_module_version": "1.2.0",
            "_view_name": "StyleView",
            "description_width": ""
          }
        },
        "f6643288d7c846d3b9cfdba8bc815281": {
          "model_module": "@jupyter-widgets/base",
          "model_name": "LayoutModel",
          "model_module_version": "1.2.0",
          "state": {
            "_model_module": "@jupyter-widgets/base",
            "_model_module_version": "1.2.0",
            "_model_name": "LayoutModel",
            "_view_count": null,
            "_view_module": "@jupyter-widgets/base",
            "_view_module_version": "1.2.0",
            "_view_name": "LayoutView",
            "align_content": null,
            "align_items": null,
            "align_self": null,
            "border": null,
            "bottom": null,
            "display": null,
            "flex": null,
            "flex_flow": null,
            "grid_area": null,
            "grid_auto_columns": null,
            "grid_auto_flow": null,
            "grid_auto_rows": null,
            "grid_column": null,
            "grid_gap": null,
            "grid_row": null,
            "grid_template_areas": null,
            "grid_template_columns": null,
            "grid_template_rows": null,
            "height": null,
            "justify_content": null,
            "justify_items": null,
            "left": null,
            "margin": null,
            "max_height": null,
            "max_width": null,
            "min_height": null,
            "min_width": null,
            "object_fit": null,
            "object_position": null,
            "order": null,
            "overflow": null,
            "overflow_x": null,
            "overflow_y": null,
            "padding": null,
            "right": null,
            "top": null,
            "visibility": null,
            "width": null
          }
        },
        "0378b2cf0b944e0da6e7f08b6eb440b2": {
          "model_module": "@jupyter-widgets/controls",
          "model_name": "ProgressStyleModel",
          "model_module_version": "1.5.0",
          "state": {
            "_model_module": "@jupyter-widgets/controls",
            "_model_module_version": "1.5.0",
            "_model_name": "ProgressStyleModel",
            "_view_count": null,
            "_view_module": "@jupyter-widgets/base",
            "_view_module_version": "1.2.0",
            "_view_name": "StyleView",
            "bar_color": null,
            "description_width": ""
          }
        },
        "7c4f6ef7f584458a910d46093cfa0e1a": {
          "model_module": "@jupyter-widgets/base",
          "model_name": "LayoutModel",
          "model_module_version": "1.2.0",
          "state": {
            "_model_module": "@jupyter-widgets/base",
            "_model_module_version": "1.2.0",
            "_model_name": "LayoutModel",
            "_view_count": null,
            "_view_module": "@jupyter-widgets/base",
            "_view_module_version": "1.2.0",
            "_view_name": "LayoutView",
            "align_content": null,
            "align_items": null,
            "align_self": null,
            "border": null,
            "bottom": null,
            "display": null,
            "flex": null,
            "flex_flow": null,
            "grid_area": null,
            "grid_auto_columns": null,
            "grid_auto_flow": null,
            "grid_auto_rows": null,
            "grid_column": null,
            "grid_gap": null,
            "grid_row": null,
            "grid_template_areas": null,
            "grid_template_columns": null,
            "grid_template_rows": null,
            "height": null,
            "justify_content": null,
            "justify_items": null,
            "left": null,
            "margin": null,
            "max_height": null,
            "max_width": null,
            "min_height": null,
            "min_width": null,
            "object_fit": null,
            "object_position": null,
            "order": null,
            "overflow": null,
            "overflow_x": null,
            "overflow_y": null,
            "padding": null,
            "right": null,
            "top": null,
            "visibility": null,
            "width": null
          }
        },
        "3064ff3f9b344d6dadf9d994e1a7efa3": {
          "model_module": "@jupyter-widgets/controls",
          "model_name": "DescriptionStyleModel",
          "model_module_version": "1.5.0",
          "state": {
            "_model_module": "@jupyter-widgets/controls",
            "_model_module_version": "1.5.0",
            "_model_name": "DescriptionStyleModel",
            "_view_count": null,
            "_view_module": "@jupyter-widgets/base",
            "_view_module_version": "1.2.0",
            "_view_name": "StyleView",
            "description_width": ""
          }
        },
        "ef509991f5fa4c8da6e3400439cc03e5": {
          "model_module": "@jupyter-widgets/controls",
          "model_name": "HBoxModel",
          "model_module_version": "1.5.0",
          "state": {
            "_dom_classes": [],
            "_model_module": "@jupyter-widgets/controls",
            "_model_module_version": "1.5.0",
            "_model_name": "HBoxModel",
            "_view_count": null,
            "_view_module": "@jupyter-widgets/controls",
            "_view_module_version": "1.5.0",
            "_view_name": "HBoxView",
            "box_style": "",
            "children": [
              "IPY_MODEL_6e178c1ef2bb4d2587f861f5c226eee3",
              "IPY_MODEL_b841c884e1a949f28de1608d99a62db0",
              "IPY_MODEL_7996cf9f58d64661a7e6771cece25cf1"
            ],
            "layout": "IPY_MODEL_ec622922718740859812cd22cd4c34d8"
          }
        },
        "6e178c1ef2bb4d2587f861f5c226eee3": {
          "model_module": "@jupyter-widgets/controls",
          "model_name": "HTMLModel",
          "model_module_version": "1.5.0",
          "state": {
            "_dom_classes": [],
            "_model_module": "@jupyter-widgets/controls",
            "_model_module_version": "1.5.0",
            "_model_name": "HTMLModel",
            "_view_count": null,
            "_view_module": "@jupyter-widgets/controls",
            "_view_module_version": "1.5.0",
            "_view_name": "HTMLView",
            "description": "",
            "description_tooltip": null,
            "layout": "IPY_MODEL_c3ed06023ed14283b49e97da68d40fac",
            "placeholder": "​",
            "style": "IPY_MODEL_ec8014d7d31043dd90d46242c70c0c39",
            "value": "100%"
          }
        },
        "b841c884e1a949f28de1608d99a62db0": {
          "model_module": "@jupyter-widgets/controls",
          "model_name": "FloatProgressModel",
          "model_module_version": "1.5.0",
          "state": {
            "_dom_classes": [],
            "_model_module": "@jupyter-widgets/controls",
            "_model_module_version": "1.5.0",
            "_model_name": "FloatProgressModel",
            "_view_count": null,
            "_view_module": "@jupyter-widgets/controls",
            "_view_module_version": "1.5.0",
            "_view_name": "ProgressView",
            "bar_style": "success",
            "description": "",
            "description_tooltip": null,
            "layout": "IPY_MODEL_db4985ddf45b4554a680f44c9f721f81",
            "max": 100,
            "min": 0,
            "orientation": "horizontal",
            "style": "IPY_MODEL_e45a4c6db6694ffba9f3b35201719e38",
            "value": 100
          }
        },
        "7996cf9f58d64661a7e6771cece25cf1": {
          "model_module": "@jupyter-widgets/controls",
          "model_name": "HTMLModel",
          "model_module_version": "1.5.0",
          "state": {
            "_dom_classes": [],
            "_model_module": "@jupyter-widgets/controls",
            "_model_module_version": "1.5.0",
            "_model_name": "HTMLModel",
            "_view_count": null,
            "_view_module": "@jupyter-widgets/controls",
            "_view_module_version": "1.5.0",
            "_view_name": "HTMLView",
            "description": "",
            "description_tooltip": null,
            "layout": "IPY_MODEL_4ff664517afb465fab4b225cd729a2f1",
            "placeholder": "​",
            "style": "IPY_MODEL_dc017db108b54a3db1787c7bcfdbddbc",
            "value": " 100/100 [00:27&lt;00:00,  4.01it/s]"
          }
        },
        "ec622922718740859812cd22cd4c34d8": {
          "model_module": "@jupyter-widgets/base",
          "model_name": "LayoutModel",
          "model_module_version": "1.2.0",
          "state": {
            "_model_module": "@jupyter-widgets/base",
            "_model_module_version": "1.2.0",
            "_model_name": "LayoutModel",
            "_view_count": null,
            "_view_module": "@jupyter-widgets/base",
            "_view_module_version": "1.2.0",
            "_view_name": "LayoutView",
            "align_content": null,
            "align_items": null,
            "align_self": null,
            "border": null,
            "bottom": null,
            "display": null,
            "flex": null,
            "flex_flow": null,
            "grid_area": null,
            "grid_auto_columns": null,
            "grid_auto_flow": null,
            "grid_auto_rows": null,
            "grid_column": null,
            "grid_gap": null,
            "grid_row": null,
            "grid_template_areas": null,
            "grid_template_columns": null,
            "grid_template_rows": null,
            "height": null,
            "justify_content": null,
            "justify_items": null,
            "left": null,
            "margin": null,
            "max_height": null,
            "max_width": null,
            "min_height": null,
            "min_width": null,
            "object_fit": null,
            "object_position": null,
            "order": null,
            "overflow": null,
            "overflow_x": null,
            "overflow_y": null,
            "padding": null,
            "right": null,
            "top": null,
            "visibility": null,
            "width": null
          }
        },
        "c3ed06023ed14283b49e97da68d40fac": {
          "model_module": "@jupyter-widgets/base",
          "model_name": "LayoutModel",
          "model_module_version": "1.2.0",
          "state": {
            "_model_module": "@jupyter-widgets/base",
            "_model_module_version": "1.2.0",
            "_model_name": "LayoutModel",
            "_view_count": null,
            "_view_module": "@jupyter-widgets/base",
            "_view_module_version": "1.2.0",
            "_view_name": "LayoutView",
            "align_content": null,
            "align_items": null,
            "align_self": null,
            "border": null,
            "bottom": null,
            "display": null,
            "flex": null,
            "flex_flow": null,
            "grid_area": null,
            "grid_auto_columns": null,
            "grid_auto_flow": null,
            "grid_auto_rows": null,
            "grid_column": null,
            "grid_gap": null,
            "grid_row": null,
            "grid_template_areas": null,
            "grid_template_columns": null,
            "grid_template_rows": null,
            "height": null,
            "justify_content": null,
            "justify_items": null,
            "left": null,
            "margin": null,
            "max_height": null,
            "max_width": null,
            "min_height": null,
            "min_width": null,
            "object_fit": null,
            "object_position": null,
            "order": null,
            "overflow": null,
            "overflow_x": null,
            "overflow_y": null,
            "padding": null,
            "right": null,
            "top": null,
            "visibility": null,
            "width": null
          }
        },
        "ec8014d7d31043dd90d46242c70c0c39": {
          "model_module": "@jupyter-widgets/controls",
          "model_name": "DescriptionStyleModel",
          "model_module_version": "1.5.0",
          "state": {
            "_model_module": "@jupyter-widgets/controls",
            "_model_module_version": "1.5.0",
            "_model_name": "DescriptionStyleModel",
            "_view_count": null,
            "_view_module": "@jupyter-widgets/base",
            "_view_module_version": "1.2.0",
            "_view_name": "StyleView",
            "description_width": ""
          }
        },
        "db4985ddf45b4554a680f44c9f721f81": {
          "model_module": "@jupyter-widgets/base",
          "model_name": "LayoutModel",
          "model_module_version": "1.2.0",
          "state": {
            "_model_module": "@jupyter-widgets/base",
            "_model_module_version": "1.2.0",
            "_model_name": "LayoutModel",
            "_view_count": null,
            "_view_module": "@jupyter-widgets/base",
            "_view_module_version": "1.2.0",
            "_view_name": "LayoutView",
            "align_content": null,
            "align_items": null,
            "align_self": null,
            "border": null,
            "bottom": null,
            "display": null,
            "flex": null,
            "flex_flow": null,
            "grid_area": null,
            "grid_auto_columns": null,
            "grid_auto_flow": null,
            "grid_auto_rows": null,
            "grid_column": null,
            "grid_gap": null,
            "grid_row": null,
            "grid_template_areas": null,
            "grid_template_columns": null,
            "grid_template_rows": null,
            "height": null,
            "justify_content": null,
            "justify_items": null,
            "left": null,
            "margin": null,
            "max_height": null,
            "max_width": null,
            "min_height": null,
            "min_width": null,
            "object_fit": null,
            "object_position": null,
            "order": null,
            "overflow": null,
            "overflow_x": null,
            "overflow_y": null,
            "padding": null,
            "right": null,
            "top": null,
            "visibility": null,
            "width": null
          }
        },
        "e45a4c6db6694ffba9f3b35201719e38": {
          "model_module": "@jupyter-widgets/controls",
          "model_name": "ProgressStyleModel",
          "model_module_version": "1.5.0",
          "state": {
            "_model_module": "@jupyter-widgets/controls",
            "_model_module_version": "1.5.0",
            "_model_name": "ProgressStyleModel",
            "_view_count": null,
            "_view_module": "@jupyter-widgets/base",
            "_view_module_version": "1.2.0",
            "_view_name": "StyleView",
            "bar_color": null,
            "description_width": ""
          }
        },
        "4ff664517afb465fab4b225cd729a2f1": {
          "model_module": "@jupyter-widgets/base",
          "model_name": "LayoutModel",
          "model_module_version": "1.2.0",
          "state": {
            "_model_module": "@jupyter-widgets/base",
            "_model_module_version": "1.2.0",
            "_model_name": "LayoutModel",
            "_view_count": null,
            "_view_module": "@jupyter-widgets/base",
            "_view_module_version": "1.2.0",
            "_view_name": "LayoutView",
            "align_content": null,
            "align_items": null,
            "align_self": null,
            "border": null,
            "bottom": null,
            "display": null,
            "flex": null,
            "flex_flow": null,
            "grid_area": null,
            "grid_auto_columns": null,
            "grid_auto_flow": null,
            "grid_auto_rows": null,
            "grid_column": null,
            "grid_gap": null,
            "grid_row": null,
            "grid_template_areas": null,
            "grid_template_columns": null,
            "grid_template_rows": null,
            "height": null,
            "justify_content": null,
            "justify_items": null,
            "left": null,
            "margin": null,
            "max_height": null,
            "max_width": null,
            "min_height": null,
            "min_width": null,
            "object_fit": null,
            "object_position": null,
            "order": null,
            "overflow": null,
            "overflow_x": null,
            "overflow_y": null,
            "padding": null,
            "right": null,
            "top": null,
            "visibility": null,
            "width": null
          }
        },
        "dc017db108b54a3db1787c7bcfdbddbc": {
          "model_module": "@jupyter-widgets/controls",
          "model_name": "DescriptionStyleModel",
          "model_module_version": "1.5.0",
          "state": {
            "_model_module": "@jupyter-widgets/controls",
            "_model_module_version": "1.5.0",
            "_model_name": "DescriptionStyleModel",
            "_view_count": null,
            "_view_module": "@jupyter-widgets/base",
            "_view_module_version": "1.2.0",
            "_view_name": "StyleView",
            "description_width": ""
          }
        },
        "b081b63f4f124279a97671a6af163bcb": {
          "model_module": "@jupyter-widgets/controls",
          "model_name": "HBoxModel",
          "model_module_version": "1.5.0",
          "state": {
            "_dom_classes": [],
            "_model_module": "@jupyter-widgets/controls",
            "_model_module_version": "1.5.0",
            "_model_name": "HBoxModel",
            "_view_count": null,
            "_view_module": "@jupyter-widgets/controls",
            "_view_module_version": "1.5.0",
            "_view_name": "HBoxView",
            "box_style": "",
            "children": [
              "IPY_MODEL_28647ad8973549a68a35913c8b97e686",
              "IPY_MODEL_fcb842e63a634df8b3d8a16def1d3afe",
              "IPY_MODEL_135e26134bcd4e639bbeae6dbbe79681"
            ],
            "layout": "IPY_MODEL_abb299e7772249e481356711392dd751"
          }
        },
        "28647ad8973549a68a35913c8b97e686": {
          "model_module": "@jupyter-widgets/controls",
          "model_name": "HTMLModel",
          "model_module_version": "1.5.0",
          "state": {
            "_dom_classes": [],
            "_model_module": "@jupyter-widgets/controls",
            "_model_module_version": "1.5.0",
            "_model_name": "HTMLModel",
            "_view_count": null,
            "_view_module": "@jupyter-widgets/controls",
            "_view_module_version": "1.5.0",
            "_view_name": "HTMLView",
            "description": "",
            "description_tooltip": null,
            "layout": "IPY_MODEL_2c0d8c150ee24f73a61c04a34a22e6a8",
            "placeholder": "​",
            "style": "IPY_MODEL_48c046f8c2a442b196b283f2c3575e6c",
            "value": "100%"
          }
        },
        "fcb842e63a634df8b3d8a16def1d3afe": {
          "model_module": "@jupyter-widgets/controls",
          "model_name": "FloatProgressModel",
          "model_module_version": "1.5.0",
          "state": {
            "_dom_classes": [],
            "_model_module": "@jupyter-widgets/controls",
            "_model_module_version": "1.5.0",
            "_model_name": "FloatProgressModel",
            "_view_count": null,
            "_view_module": "@jupyter-widgets/controls",
            "_view_module_version": "1.5.0",
            "_view_name": "ProgressView",
            "bar_style": "success",
            "description": "",
            "description_tooltip": null,
            "layout": "IPY_MODEL_7267127200814800b267176e9ed30685",
            "max": 50,
            "min": 0,
            "orientation": "horizontal",
            "style": "IPY_MODEL_eee757ac0e9843bfa698c88b0658f294",
            "value": 50
          }
        },
        "135e26134bcd4e639bbeae6dbbe79681": {
          "model_module": "@jupyter-widgets/controls",
          "model_name": "HTMLModel",
          "model_module_version": "1.5.0",
          "state": {
            "_dom_classes": [],
            "_model_module": "@jupyter-widgets/controls",
            "_model_module_version": "1.5.0",
            "_model_name": "HTMLModel",
            "_view_count": null,
            "_view_module": "@jupyter-widgets/controls",
            "_view_module_version": "1.5.0",
            "_view_name": "HTMLView",
            "description": "",
            "description_tooltip": null,
            "layout": "IPY_MODEL_3c41c646a5b848969a6ee9d78b0e00b9",
            "placeholder": "​",
            "style": "IPY_MODEL_4ed2f1522d904c699913d1e5ef574df3",
            "value": " 50/50 [00:02&lt;00:00, 24.80it/s]"
          }
        },
        "abb299e7772249e481356711392dd751": {
          "model_module": "@jupyter-widgets/base",
          "model_name": "LayoutModel",
          "model_module_version": "1.2.0",
          "state": {
            "_model_module": "@jupyter-widgets/base",
            "_model_module_version": "1.2.0",
            "_model_name": "LayoutModel",
            "_view_count": null,
            "_view_module": "@jupyter-widgets/base",
            "_view_module_version": "1.2.0",
            "_view_name": "LayoutView",
            "align_content": null,
            "align_items": null,
            "align_self": null,
            "border": null,
            "bottom": null,
            "display": null,
            "flex": null,
            "flex_flow": null,
            "grid_area": null,
            "grid_auto_columns": null,
            "grid_auto_flow": null,
            "grid_auto_rows": null,
            "grid_column": null,
            "grid_gap": null,
            "grid_row": null,
            "grid_template_areas": null,
            "grid_template_columns": null,
            "grid_template_rows": null,
            "height": null,
            "justify_content": null,
            "justify_items": null,
            "left": null,
            "margin": null,
            "max_height": null,
            "max_width": null,
            "min_height": null,
            "min_width": null,
            "object_fit": null,
            "object_position": null,
            "order": null,
            "overflow": null,
            "overflow_x": null,
            "overflow_y": null,
            "padding": null,
            "right": null,
            "top": null,
            "visibility": null,
            "width": null
          }
        },
        "2c0d8c150ee24f73a61c04a34a22e6a8": {
          "model_module": "@jupyter-widgets/base",
          "model_name": "LayoutModel",
          "model_module_version": "1.2.0",
          "state": {
            "_model_module": "@jupyter-widgets/base",
            "_model_module_version": "1.2.0",
            "_model_name": "LayoutModel",
            "_view_count": null,
            "_view_module": "@jupyter-widgets/base",
            "_view_module_version": "1.2.0",
            "_view_name": "LayoutView",
            "align_content": null,
            "align_items": null,
            "align_self": null,
            "border": null,
            "bottom": null,
            "display": null,
            "flex": null,
            "flex_flow": null,
            "grid_area": null,
            "grid_auto_columns": null,
            "grid_auto_flow": null,
            "grid_auto_rows": null,
            "grid_column": null,
            "grid_gap": null,
            "grid_row": null,
            "grid_template_areas": null,
            "grid_template_columns": null,
            "grid_template_rows": null,
            "height": null,
            "justify_content": null,
            "justify_items": null,
            "left": null,
            "margin": null,
            "max_height": null,
            "max_width": null,
            "min_height": null,
            "min_width": null,
            "object_fit": null,
            "object_position": null,
            "order": null,
            "overflow": null,
            "overflow_x": null,
            "overflow_y": null,
            "padding": null,
            "right": null,
            "top": null,
            "visibility": null,
            "width": null
          }
        },
        "48c046f8c2a442b196b283f2c3575e6c": {
          "model_module": "@jupyter-widgets/controls",
          "model_name": "DescriptionStyleModel",
          "model_module_version": "1.5.0",
          "state": {
            "_model_module": "@jupyter-widgets/controls",
            "_model_module_version": "1.5.0",
            "_model_name": "DescriptionStyleModel",
            "_view_count": null,
            "_view_module": "@jupyter-widgets/base",
            "_view_module_version": "1.2.0",
            "_view_name": "StyleView",
            "description_width": ""
          }
        },
        "7267127200814800b267176e9ed30685": {
          "model_module": "@jupyter-widgets/base",
          "model_name": "LayoutModel",
          "model_module_version": "1.2.0",
          "state": {
            "_model_module": "@jupyter-widgets/base",
            "_model_module_version": "1.2.0",
            "_model_name": "LayoutModel",
            "_view_count": null,
            "_view_module": "@jupyter-widgets/base",
            "_view_module_version": "1.2.0",
            "_view_name": "LayoutView",
            "align_content": null,
            "align_items": null,
            "align_self": null,
            "border": null,
            "bottom": null,
            "display": null,
            "flex": null,
            "flex_flow": null,
            "grid_area": null,
            "grid_auto_columns": null,
            "grid_auto_flow": null,
            "grid_auto_rows": null,
            "grid_column": null,
            "grid_gap": null,
            "grid_row": null,
            "grid_template_areas": null,
            "grid_template_columns": null,
            "grid_template_rows": null,
            "height": null,
            "justify_content": null,
            "justify_items": null,
            "left": null,
            "margin": null,
            "max_height": null,
            "max_width": null,
            "min_height": null,
            "min_width": null,
            "object_fit": null,
            "object_position": null,
            "order": null,
            "overflow": null,
            "overflow_x": null,
            "overflow_y": null,
            "padding": null,
            "right": null,
            "top": null,
            "visibility": null,
            "width": null
          }
        },
        "eee757ac0e9843bfa698c88b0658f294": {
          "model_module": "@jupyter-widgets/controls",
          "model_name": "ProgressStyleModel",
          "model_module_version": "1.5.0",
          "state": {
            "_model_module": "@jupyter-widgets/controls",
            "_model_module_version": "1.5.0",
            "_model_name": "ProgressStyleModel",
            "_view_count": null,
            "_view_module": "@jupyter-widgets/base",
            "_view_module_version": "1.2.0",
            "_view_name": "StyleView",
            "bar_color": null,
            "description_width": ""
          }
        },
        "3c41c646a5b848969a6ee9d78b0e00b9": {
          "model_module": "@jupyter-widgets/base",
          "model_name": "LayoutModel",
          "model_module_version": "1.2.0",
          "state": {
            "_model_module": "@jupyter-widgets/base",
            "_model_module_version": "1.2.0",
            "_model_name": "LayoutModel",
            "_view_count": null,
            "_view_module": "@jupyter-widgets/base",
            "_view_module_version": "1.2.0",
            "_view_name": "LayoutView",
            "align_content": null,
            "align_items": null,
            "align_self": null,
            "border": null,
            "bottom": null,
            "display": null,
            "flex": null,
            "flex_flow": null,
            "grid_area": null,
            "grid_auto_columns": null,
            "grid_auto_flow": null,
            "grid_auto_rows": null,
            "grid_column": null,
            "grid_gap": null,
            "grid_row": null,
            "grid_template_areas": null,
            "grid_template_columns": null,
            "grid_template_rows": null,
            "height": null,
            "justify_content": null,
            "justify_items": null,
            "left": null,
            "margin": null,
            "max_height": null,
            "max_width": null,
            "min_height": null,
            "min_width": null,
            "object_fit": null,
            "object_position": null,
            "order": null,
            "overflow": null,
            "overflow_x": null,
            "overflow_y": null,
            "padding": null,
            "right": null,
            "top": null,
            "visibility": null,
            "width": null
          }
        },
        "4ed2f1522d904c699913d1e5ef574df3": {
          "model_module": "@jupyter-widgets/controls",
          "model_name": "DescriptionStyleModel",
          "model_module_version": "1.5.0",
          "state": {
            "_model_module": "@jupyter-widgets/controls",
            "_model_module_version": "1.5.0",
            "_model_name": "DescriptionStyleModel",
            "_view_count": null,
            "_view_module": "@jupyter-widgets/base",
            "_view_module_version": "1.2.0",
            "_view_name": "StyleView",
            "description_width": ""
          }
        },
        "f70c991bf09149ac940b1bee61561812": {
          "model_module": "@jupyter-widgets/controls",
          "model_name": "HBoxModel",
          "model_module_version": "1.5.0",
          "state": {
            "_dom_classes": [],
            "_model_module": "@jupyter-widgets/controls",
            "_model_module_version": "1.5.0",
            "_model_name": "HBoxModel",
            "_view_count": null,
            "_view_module": "@jupyter-widgets/controls",
            "_view_module_version": "1.5.0",
            "_view_name": "HBoxView",
            "box_style": "",
            "children": [
              "IPY_MODEL_3a03d140156f4cb491df927be489cbbe",
              "IPY_MODEL_6960f2bfe3ce4802b156c7ad41a69603",
              "IPY_MODEL_7b33a048f8084f12955ca3444dd574ec"
            ],
            "layout": "IPY_MODEL_2bf23a87815a47c9a6e23a793470788c"
          }
        },
        "3a03d140156f4cb491df927be489cbbe": {
          "model_module": "@jupyter-widgets/controls",
          "model_name": "HTMLModel",
          "model_module_version": "1.5.0",
          "state": {
            "_dom_classes": [],
            "_model_module": "@jupyter-widgets/controls",
            "_model_module_version": "1.5.0",
            "_model_name": "HTMLModel",
            "_view_count": null,
            "_view_module": "@jupyter-widgets/controls",
            "_view_module_version": "1.5.0",
            "_view_name": "HTMLView",
            "description": "",
            "description_tooltip": null,
            "layout": "IPY_MODEL_b159852b7c41457abeea684228d1a9bc",
            "placeholder": "​",
            "style": "IPY_MODEL_cca8f059610b4a1283fb008a2649e9f7",
            "value": "100%"
          }
        },
        "6960f2bfe3ce4802b156c7ad41a69603": {
          "model_module": "@jupyter-widgets/controls",
          "model_name": "FloatProgressModel",
          "model_module_version": "1.5.0",
          "state": {
            "_dom_classes": [],
            "_model_module": "@jupyter-widgets/controls",
            "_model_module_version": "1.5.0",
            "_model_name": "FloatProgressModel",
            "_view_count": null,
            "_view_module": "@jupyter-widgets/controls",
            "_view_module_version": "1.5.0",
            "_view_name": "ProgressView",
            "bar_style": "success",
            "description": "",
            "description_tooltip": null,
            "layout": "IPY_MODEL_ccb663ffcc624be7b552e2979cb4fa3a",
            "max": 50,
            "min": 0,
            "orientation": "horizontal",
            "style": "IPY_MODEL_6a5508f94cbc4a44bead8141825d7002",
            "value": 50
          }
        },
        "7b33a048f8084f12955ca3444dd574ec": {
          "model_module": "@jupyter-widgets/controls",
          "model_name": "HTMLModel",
          "model_module_version": "1.5.0",
          "state": {
            "_dom_classes": [],
            "_model_module": "@jupyter-widgets/controls",
            "_model_module_version": "1.5.0",
            "_model_name": "HTMLModel",
            "_view_count": null,
            "_view_module": "@jupyter-widgets/controls",
            "_view_module_version": "1.5.0",
            "_view_name": "HTMLView",
            "description": "",
            "description_tooltip": null,
            "layout": "IPY_MODEL_fa523700ee5f483c9a49a60dcbcf307b",
            "placeholder": "​",
            "style": "IPY_MODEL_5df283849cc44a0eb7e2807917b1b623",
            "value": " 50/50 [00:01&lt;00:00, 27.54it/s]"
          }
        },
        "2bf23a87815a47c9a6e23a793470788c": {
          "model_module": "@jupyter-widgets/base",
          "model_name": "LayoutModel",
          "model_module_version": "1.2.0",
          "state": {
            "_model_module": "@jupyter-widgets/base",
            "_model_module_version": "1.2.0",
            "_model_name": "LayoutModel",
            "_view_count": null,
            "_view_module": "@jupyter-widgets/base",
            "_view_module_version": "1.2.0",
            "_view_name": "LayoutView",
            "align_content": null,
            "align_items": null,
            "align_self": null,
            "border": null,
            "bottom": null,
            "display": null,
            "flex": null,
            "flex_flow": null,
            "grid_area": null,
            "grid_auto_columns": null,
            "grid_auto_flow": null,
            "grid_auto_rows": null,
            "grid_column": null,
            "grid_gap": null,
            "grid_row": null,
            "grid_template_areas": null,
            "grid_template_columns": null,
            "grid_template_rows": null,
            "height": null,
            "justify_content": null,
            "justify_items": null,
            "left": null,
            "margin": null,
            "max_height": null,
            "max_width": null,
            "min_height": null,
            "min_width": null,
            "object_fit": null,
            "object_position": null,
            "order": null,
            "overflow": null,
            "overflow_x": null,
            "overflow_y": null,
            "padding": null,
            "right": null,
            "top": null,
            "visibility": null,
            "width": null
          }
        },
        "b159852b7c41457abeea684228d1a9bc": {
          "model_module": "@jupyter-widgets/base",
          "model_name": "LayoutModel",
          "model_module_version": "1.2.0",
          "state": {
            "_model_module": "@jupyter-widgets/base",
            "_model_module_version": "1.2.0",
            "_model_name": "LayoutModel",
            "_view_count": null,
            "_view_module": "@jupyter-widgets/base",
            "_view_module_version": "1.2.0",
            "_view_name": "LayoutView",
            "align_content": null,
            "align_items": null,
            "align_self": null,
            "border": null,
            "bottom": null,
            "display": null,
            "flex": null,
            "flex_flow": null,
            "grid_area": null,
            "grid_auto_columns": null,
            "grid_auto_flow": null,
            "grid_auto_rows": null,
            "grid_column": null,
            "grid_gap": null,
            "grid_row": null,
            "grid_template_areas": null,
            "grid_template_columns": null,
            "grid_template_rows": null,
            "height": null,
            "justify_content": null,
            "justify_items": null,
            "left": null,
            "margin": null,
            "max_height": null,
            "max_width": null,
            "min_height": null,
            "min_width": null,
            "object_fit": null,
            "object_position": null,
            "order": null,
            "overflow": null,
            "overflow_x": null,
            "overflow_y": null,
            "padding": null,
            "right": null,
            "top": null,
            "visibility": null,
            "width": null
          }
        },
        "cca8f059610b4a1283fb008a2649e9f7": {
          "model_module": "@jupyter-widgets/controls",
          "model_name": "DescriptionStyleModel",
          "model_module_version": "1.5.0",
          "state": {
            "_model_module": "@jupyter-widgets/controls",
            "_model_module_version": "1.5.0",
            "_model_name": "DescriptionStyleModel",
            "_view_count": null,
            "_view_module": "@jupyter-widgets/base",
            "_view_module_version": "1.2.0",
            "_view_name": "StyleView",
            "description_width": ""
          }
        },
        "ccb663ffcc624be7b552e2979cb4fa3a": {
          "model_module": "@jupyter-widgets/base",
          "model_name": "LayoutModel",
          "model_module_version": "1.2.0",
          "state": {
            "_model_module": "@jupyter-widgets/base",
            "_model_module_version": "1.2.0",
            "_model_name": "LayoutModel",
            "_view_count": null,
            "_view_module": "@jupyter-widgets/base",
            "_view_module_version": "1.2.0",
            "_view_name": "LayoutView",
            "align_content": null,
            "align_items": null,
            "align_self": null,
            "border": null,
            "bottom": null,
            "display": null,
            "flex": null,
            "flex_flow": null,
            "grid_area": null,
            "grid_auto_columns": null,
            "grid_auto_flow": null,
            "grid_auto_rows": null,
            "grid_column": null,
            "grid_gap": null,
            "grid_row": null,
            "grid_template_areas": null,
            "grid_template_columns": null,
            "grid_template_rows": null,
            "height": null,
            "justify_content": null,
            "justify_items": null,
            "left": null,
            "margin": null,
            "max_height": null,
            "max_width": null,
            "min_height": null,
            "min_width": null,
            "object_fit": null,
            "object_position": null,
            "order": null,
            "overflow": null,
            "overflow_x": null,
            "overflow_y": null,
            "padding": null,
            "right": null,
            "top": null,
            "visibility": null,
            "width": null
          }
        },
        "6a5508f94cbc4a44bead8141825d7002": {
          "model_module": "@jupyter-widgets/controls",
          "model_name": "ProgressStyleModel",
          "model_module_version": "1.5.0",
          "state": {
            "_model_module": "@jupyter-widgets/controls",
            "_model_module_version": "1.5.0",
            "_model_name": "ProgressStyleModel",
            "_view_count": null,
            "_view_module": "@jupyter-widgets/base",
            "_view_module_version": "1.2.0",
            "_view_name": "StyleView",
            "bar_color": null,
            "description_width": ""
          }
        },
        "fa523700ee5f483c9a49a60dcbcf307b": {
          "model_module": "@jupyter-widgets/base",
          "model_name": "LayoutModel",
          "model_module_version": "1.2.0",
          "state": {
            "_model_module": "@jupyter-widgets/base",
            "_model_module_version": "1.2.0",
            "_model_name": "LayoutModel",
            "_view_count": null,
            "_view_module": "@jupyter-widgets/base",
            "_view_module_version": "1.2.0",
            "_view_name": "LayoutView",
            "align_content": null,
            "align_items": null,
            "align_self": null,
            "border": null,
            "bottom": null,
            "display": null,
            "flex": null,
            "flex_flow": null,
            "grid_area": null,
            "grid_auto_columns": null,
            "grid_auto_flow": null,
            "grid_auto_rows": null,
            "grid_column": null,
            "grid_gap": null,
            "grid_row": null,
            "grid_template_areas": null,
            "grid_template_columns": null,
            "grid_template_rows": null,
            "height": null,
            "justify_content": null,
            "justify_items": null,
            "left": null,
            "margin": null,
            "max_height": null,
            "max_width": null,
            "min_height": null,
            "min_width": null,
            "object_fit": null,
            "object_position": null,
            "order": null,
            "overflow": null,
            "overflow_x": null,
            "overflow_y": null,
            "padding": null,
            "right": null,
            "top": null,
            "visibility": null,
            "width": null
          }
        },
        "5df283849cc44a0eb7e2807917b1b623": {
          "model_module": "@jupyter-widgets/controls",
          "model_name": "DescriptionStyleModel",
          "model_module_version": "1.5.0",
          "state": {
            "_model_module": "@jupyter-widgets/controls",
            "_model_module_version": "1.5.0",
            "_model_name": "DescriptionStyleModel",
            "_view_count": null,
            "_view_module": "@jupyter-widgets/base",
            "_view_module_version": "1.2.0",
            "_view_name": "StyleView",
            "description_width": ""
          }
        },
        "f819b079019240aabee941a5c83fc68a": {
          "model_module": "@jupyter-widgets/controls",
          "model_name": "HBoxModel",
          "model_module_version": "1.5.0",
          "state": {
            "_dom_classes": [],
            "_model_module": "@jupyter-widgets/controls",
            "_model_module_version": "1.5.0",
            "_model_name": "HBoxModel",
            "_view_count": null,
            "_view_module": "@jupyter-widgets/controls",
            "_view_module_version": "1.5.0",
            "_view_name": "HBoxView",
            "box_style": "",
            "children": [
              "IPY_MODEL_6ebaef3461714788aac53305c52c0ed0",
              "IPY_MODEL_5946edaa827d48c883532ff26b075f81",
              "IPY_MODEL_e3ff012175a44ab8ab35d2043019ddd6"
            ],
            "layout": "IPY_MODEL_af582f4310b44608aaaf3dab0ac14b6b"
          }
        },
        "6ebaef3461714788aac53305c52c0ed0": {
          "model_module": "@jupyter-widgets/controls",
          "model_name": "HTMLModel",
          "model_module_version": "1.5.0",
          "state": {
            "_dom_classes": [],
            "_model_module": "@jupyter-widgets/controls",
            "_model_module_version": "1.5.0",
            "_model_name": "HTMLModel",
            "_view_count": null,
            "_view_module": "@jupyter-widgets/controls",
            "_view_module_version": "1.5.0",
            "_view_name": "HTMLView",
            "description": "",
            "description_tooltip": null,
            "layout": "IPY_MODEL_6dc3cb49fa7f4940be8e2299397e4a00",
            "placeholder": "​",
            "style": "IPY_MODEL_490ff3cf881d4bf9b318e8a3f0c5c0b3",
            "value": "100%"
          }
        },
        "5946edaa827d48c883532ff26b075f81": {
          "model_module": "@jupyter-widgets/controls",
          "model_name": "FloatProgressModel",
          "model_module_version": "1.5.0",
          "state": {
            "_dom_classes": [],
            "_model_module": "@jupyter-widgets/controls",
            "_model_module_version": "1.5.0",
            "_model_name": "FloatProgressModel",
            "_view_count": null,
            "_view_module": "@jupyter-widgets/controls",
            "_view_module_version": "1.5.0",
            "_view_name": "ProgressView",
            "bar_style": "success",
            "description": "",
            "description_tooltip": null,
            "layout": "IPY_MODEL_cf47ae1b2e33477f85d0e781611ac90d",
            "max": 50,
            "min": 0,
            "orientation": "horizontal",
            "style": "IPY_MODEL_a54fd3374b294a46911dc08475d02ccc",
            "value": 50
          }
        },
        "e3ff012175a44ab8ab35d2043019ddd6": {
          "model_module": "@jupyter-widgets/controls",
          "model_name": "HTMLModel",
          "model_module_version": "1.5.0",
          "state": {
            "_dom_classes": [],
            "_model_module": "@jupyter-widgets/controls",
            "_model_module_version": "1.5.0",
            "_model_name": "HTMLModel",
            "_view_count": null,
            "_view_module": "@jupyter-widgets/controls",
            "_view_module_version": "1.5.0",
            "_view_name": "HTMLView",
            "description": "",
            "description_tooltip": null,
            "layout": "IPY_MODEL_f88d78e5b83d4bd49cd5f575ce200776",
            "placeholder": "​",
            "style": "IPY_MODEL_73223052fe8b445cadeb2cd28e5cec80",
            "value": " 50/50 [00:01&lt;00:00, 27.36it/s]"
          }
        },
        "af582f4310b44608aaaf3dab0ac14b6b": {
          "model_module": "@jupyter-widgets/base",
          "model_name": "LayoutModel",
          "model_module_version": "1.2.0",
          "state": {
            "_model_module": "@jupyter-widgets/base",
            "_model_module_version": "1.2.0",
            "_model_name": "LayoutModel",
            "_view_count": null,
            "_view_module": "@jupyter-widgets/base",
            "_view_module_version": "1.2.0",
            "_view_name": "LayoutView",
            "align_content": null,
            "align_items": null,
            "align_self": null,
            "border": null,
            "bottom": null,
            "display": null,
            "flex": null,
            "flex_flow": null,
            "grid_area": null,
            "grid_auto_columns": null,
            "grid_auto_flow": null,
            "grid_auto_rows": null,
            "grid_column": null,
            "grid_gap": null,
            "grid_row": null,
            "grid_template_areas": null,
            "grid_template_columns": null,
            "grid_template_rows": null,
            "height": null,
            "justify_content": null,
            "justify_items": null,
            "left": null,
            "margin": null,
            "max_height": null,
            "max_width": null,
            "min_height": null,
            "min_width": null,
            "object_fit": null,
            "object_position": null,
            "order": null,
            "overflow": null,
            "overflow_x": null,
            "overflow_y": null,
            "padding": null,
            "right": null,
            "top": null,
            "visibility": null,
            "width": null
          }
        },
        "6dc3cb49fa7f4940be8e2299397e4a00": {
          "model_module": "@jupyter-widgets/base",
          "model_name": "LayoutModel",
          "model_module_version": "1.2.0",
          "state": {
            "_model_module": "@jupyter-widgets/base",
            "_model_module_version": "1.2.0",
            "_model_name": "LayoutModel",
            "_view_count": null,
            "_view_module": "@jupyter-widgets/base",
            "_view_module_version": "1.2.0",
            "_view_name": "LayoutView",
            "align_content": null,
            "align_items": null,
            "align_self": null,
            "border": null,
            "bottom": null,
            "display": null,
            "flex": null,
            "flex_flow": null,
            "grid_area": null,
            "grid_auto_columns": null,
            "grid_auto_flow": null,
            "grid_auto_rows": null,
            "grid_column": null,
            "grid_gap": null,
            "grid_row": null,
            "grid_template_areas": null,
            "grid_template_columns": null,
            "grid_template_rows": null,
            "height": null,
            "justify_content": null,
            "justify_items": null,
            "left": null,
            "margin": null,
            "max_height": null,
            "max_width": null,
            "min_height": null,
            "min_width": null,
            "object_fit": null,
            "object_position": null,
            "order": null,
            "overflow": null,
            "overflow_x": null,
            "overflow_y": null,
            "padding": null,
            "right": null,
            "top": null,
            "visibility": null,
            "width": null
          }
        },
        "490ff3cf881d4bf9b318e8a3f0c5c0b3": {
          "model_module": "@jupyter-widgets/controls",
          "model_name": "DescriptionStyleModel",
          "model_module_version": "1.5.0",
          "state": {
            "_model_module": "@jupyter-widgets/controls",
            "_model_module_version": "1.5.0",
            "_model_name": "DescriptionStyleModel",
            "_view_count": null,
            "_view_module": "@jupyter-widgets/base",
            "_view_module_version": "1.2.0",
            "_view_name": "StyleView",
            "description_width": ""
          }
        },
        "cf47ae1b2e33477f85d0e781611ac90d": {
          "model_module": "@jupyter-widgets/base",
          "model_name": "LayoutModel",
          "model_module_version": "1.2.0",
          "state": {
            "_model_module": "@jupyter-widgets/base",
            "_model_module_version": "1.2.0",
            "_model_name": "LayoutModel",
            "_view_count": null,
            "_view_module": "@jupyter-widgets/base",
            "_view_module_version": "1.2.0",
            "_view_name": "LayoutView",
            "align_content": null,
            "align_items": null,
            "align_self": null,
            "border": null,
            "bottom": null,
            "display": null,
            "flex": null,
            "flex_flow": null,
            "grid_area": null,
            "grid_auto_columns": null,
            "grid_auto_flow": null,
            "grid_auto_rows": null,
            "grid_column": null,
            "grid_gap": null,
            "grid_row": null,
            "grid_template_areas": null,
            "grid_template_columns": null,
            "grid_template_rows": null,
            "height": null,
            "justify_content": null,
            "justify_items": null,
            "left": null,
            "margin": null,
            "max_height": null,
            "max_width": null,
            "min_height": null,
            "min_width": null,
            "object_fit": null,
            "object_position": null,
            "order": null,
            "overflow": null,
            "overflow_x": null,
            "overflow_y": null,
            "padding": null,
            "right": null,
            "top": null,
            "visibility": null,
            "width": null
          }
        },
        "a54fd3374b294a46911dc08475d02ccc": {
          "model_module": "@jupyter-widgets/controls",
          "model_name": "ProgressStyleModel",
          "model_module_version": "1.5.0",
          "state": {
            "_model_module": "@jupyter-widgets/controls",
            "_model_module_version": "1.5.0",
            "_model_name": "ProgressStyleModel",
            "_view_count": null,
            "_view_module": "@jupyter-widgets/base",
            "_view_module_version": "1.2.0",
            "_view_name": "StyleView",
            "bar_color": null,
            "description_width": ""
          }
        },
        "f88d78e5b83d4bd49cd5f575ce200776": {
          "model_module": "@jupyter-widgets/base",
          "model_name": "LayoutModel",
          "model_module_version": "1.2.0",
          "state": {
            "_model_module": "@jupyter-widgets/base",
            "_model_module_version": "1.2.0",
            "_model_name": "LayoutModel",
            "_view_count": null,
            "_view_module": "@jupyter-widgets/base",
            "_view_module_version": "1.2.0",
            "_view_name": "LayoutView",
            "align_content": null,
            "align_items": null,
            "align_self": null,
            "border": null,
            "bottom": null,
            "display": null,
            "flex": null,
            "flex_flow": null,
            "grid_area": null,
            "grid_auto_columns": null,
            "grid_auto_flow": null,
            "grid_auto_rows": null,
            "grid_column": null,
            "grid_gap": null,
            "grid_row": null,
            "grid_template_areas": null,
            "grid_template_columns": null,
            "grid_template_rows": null,
            "height": null,
            "justify_content": null,
            "justify_items": null,
            "left": null,
            "margin": null,
            "max_height": null,
            "max_width": null,
            "min_height": null,
            "min_width": null,
            "object_fit": null,
            "object_position": null,
            "order": null,
            "overflow": null,
            "overflow_x": null,
            "overflow_y": null,
            "padding": null,
            "right": null,
            "top": null,
            "visibility": null,
            "width": null
          }
        },
        "73223052fe8b445cadeb2cd28e5cec80": {
          "model_module": "@jupyter-widgets/controls",
          "model_name": "DescriptionStyleModel",
          "model_module_version": "1.5.0",
          "state": {
            "_model_module": "@jupyter-widgets/controls",
            "_model_module_version": "1.5.0",
            "_model_name": "DescriptionStyleModel",
            "_view_count": null,
            "_view_module": "@jupyter-widgets/base",
            "_view_module_version": "1.2.0",
            "_view_name": "StyleView",
            "description_width": ""
          }
        },
        "7db4e4228f9040afa22b3ac6ace8889e": {
          "model_module": "@jupyter-widgets/controls",
          "model_name": "HBoxModel",
          "model_module_version": "1.5.0",
          "state": {
            "_dom_classes": [],
            "_model_module": "@jupyter-widgets/controls",
            "_model_module_version": "1.5.0",
            "_model_name": "HBoxModel",
            "_view_count": null,
            "_view_module": "@jupyter-widgets/controls",
            "_view_module_version": "1.5.0",
            "_view_name": "HBoxView",
            "box_style": "",
            "children": [
              "IPY_MODEL_9d53153a97824e1e8a6cc9239713441a",
              "IPY_MODEL_cfc6a9b55af04b8199d1aba4e77b6b2c",
              "IPY_MODEL_c1b74d933adc4fdb81f7dd07b8abc06a"
            ],
            "layout": "IPY_MODEL_c40d53fe508347deadfa8f811b87750f"
          }
        },
        "9d53153a97824e1e8a6cc9239713441a": {
          "model_module": "@jupyter-widgets/controls",
          "model_name": "HTMLModel",
          "model_module_version": "1.5.0",
          "state": {
            "_dom_classes": [],
            "_model_module": "@jupyter-widgets/controls",
            "_model_module_version": "1.5.0",
            "_model_name": "HTMLModel",
            "_view_count": null,
            "_view_module": "@jupyter-widgets/controls",
            "_view_module_version": "1.5.0",
            "_view_name": "HTMLView",
            "description": "",
            "description_tooltip": null,
            "layout": "IPY_MODEL_881a2f45a82a4513a78032130831a8b0",
            "placeholder": "​",
            "style": "IPY_MODEL_7e4857b00613458d93a6c46bf24a7410",
            "value": "100%"
          }
        },
        "cfc6a9b55af04b8199d1aba4e77b6b2c": {
          "model_module": "@jupyter-widgets/controls",
          "model_name": "FloatProgressModel",
          "model_module_version": "1.5.0",
          "state": {
            "_dom_classes": [],
            "_model_module": "@jupyter-widgets/controls",
            "_model_module_version": "1.5.0",
            "_model_name": "FloatProgressModel",
            "_view_count": null,
            "_view_module": "@jupyter-widgets/controls",
            "_view_module_version": "1.5.0",
            "_view_name": "ProgressView",
            "bar_style": "success",
            "description": "",
            "description_tooltip": null,
            "layout": "IPY_MODEL_8958fa33a26e4dd88ce4e7a42465b970",
            "max": 50,
            "min": 0,
            "orientation": "horizontal",
            "style": "IPY_MODEL_de1364a9c6a741ccb92ef2f79e6f69e4",
            "value": 50
          }
        },
        "c1b74d933adc4fdb81f7dd07b8abc06a": {
          "model_module": "@jupyter-widgets/controls",
          "model_name": "HTMLModel",
          "model_module_version": "1.5.0",
          "state": {
            "_dom_classes": [],
            "_model_module": "@jupyter-widgets/controls",
            "_model_module_version": "1.5.0",
            "_model_name": "HTMLModel",
            "_view_count": null,
            "_view_module": "@jupyter-widgets/controls",
            "_view_module_version": "1.5.0",
            "_view_name": "HTMLView",
            "description": "",
            "description_tooltip": null,
            "layout": "IPY_MODEL_7f77d68d568146d68da92e180f652047",
            "placeholder": "​",
            "style": "IPY_MODEL_c81b71ea5cd547bea521152fb7a700df",
            "value": " 50/50 [00:01&lt;00:00, 26.68it/s]"
          }
        },
        "c40d53fe508347deadfa8f811b87750f": {
          "model_module": "@jupyter-widgets/base",
          "model_name": "LayoutModel",
          "model_module_version": "1.2.0",
          "state": {
            "_model_module": "@jupyter-widgets/base",
            "_model_module_version": "1.2.0",
            "_model_name": "LayoutModel",
            "_view_count": null,
            "_view_module": "@jupyter-widgets/base",
            "_view_module_version": "1.2.0",
            "_view_name": "LayoutView",
            "align_content": null,
            "align_items": null,
            "align_self": null,
            "border": null,
            "bottom": null,
            "display": null,
            "flex": null,
            "flex_flow": null,
            "grid_area": null,
            "grid_auto_columns": null,
            "grid_auto_flow": null,
            "grid_auto_rows": null,
            "grid_column": null,
            "grid_gap": null,
            "grid_row": null,
            "grid_template_areas": null,
            "grid_template_columns": null,
            "grid_template_rows": null,
            "height": null,
            "justify_content": null,
            "justify_items": null,
            "left": null,
            "margin": null,
            "max_height": null,
            "max_width": null,
            "min_height": null,
            "min_width": null,
            "object_fit": null,
            "object_position": null,
            "order": null,
            "overflow": null,
            "overflow_x": null,
            "overflow_y": null,
            "padding": null,
            "right": null,
            "top": null,
            "visibility": null,
            "width": null
          }
        },
        "881a2f45a82a4513a78032130831a8b0": {
          "model_module": "@jupyter-widgets/base",
          "model_name": "LayoutModel",
          "model_module_version": "1.2.0",
          "state": {
            "_model_module": "@jupyter-widgets/base",
            "_model_module_version": "1.2.0",
            "_model_name": "LayoutModel",
            "_view_count": null,
            "_view_module": "@jupyter-widgets/base",
            "_view_module_version": "1.2.0",
            "_view_name": "LayoutView",
            "align_content": null,
            "align_items": null,
            "align_self": null,
            "border": null,
            "bottom": null,
            "display": null,
            "flex": null,
            "flex_flow": null,
            "grid_area": null,
            "grid_auto_columns": null,
            "grid_auto_flow": null,
            "grid_auto_rows": null,
            "grid_column": null,
            "grid_gap": null,
            "grid_row": null,
            "grid_template_areas": null,
            "grid_template_columns": null,
            "grid_template_rows": null,
            "height": null,
            "justify_content": null,
            "justify_items": null,
            "left": null,
            "margin": null,
            "max_height": null,
            "max_width": null,
            "min_height": null,
            "min_width": null,
            "object_fit": null,
            "object_position": null,
            "order": null,
            "overflow": null,
            "overflow_x": null,
            "overflow_y": null,
            "padding": null,
            "right": null,
            "top": null,
            "visibility": null,
            "width": null
          }
        },
        "7e4857b00613458d93a6c46bf24a7410": {
          "model_module": "@jupyter-widgets/controls",
          "model_name": "DescriptionStyleModel",
          "model_module_version": "1.5.0",
          "state": {
            "_model_module": "@jupyter-widgets/controls",
            "_model_module_version": "1.5.0",
            "_model_name": "DescriptionStyleModel",
            "_view_count": null,
            "_view_module": "@jupyter-widgets/base",
            "_view_module_version": "1.2.0",
            "_view_name": "StyleView",
            "description_width": ""
          }
        },
        "8958fa33a26e4dd88ce4e7a42465b970": {
          "model_module": "@jupyter-widgets/base",
          "model_name": "LayoutModel",
          "model_module_version": "1.2.0",
          "state": {
            "_model_module": "@jupyter-widgets/base",
            "_model_module_version": "1.2.0",
            "_model_name": "LayoutModel",
            "_view_count": null,
            "_view_module": "@jupyter-widgets/base",
            "_view_module_version": "1.2.0",
            "_view_name": "LayoutView",
            "align_content": null,
            "align_items": null,
            "align_self": null,
            "border": null,
            "bottom": null,
            "display": null,
            "flex": null,
            "flex_flow": null,
            "grid_area": null,
            "grid_auto_columns": null,
            "grid_auto_flow": null,
            "grid_auto_rows": null,
            "grid_column": null,
            "grid_gap": null,
            "grid_row": null,
            "grid_template_areas": null,
            "grid_template_columns": null,
            "grid_template_rows": null,
            "height": null,
            "justify_content": null,
            "justify_items": null,
            "left": null,
            "margin": null,
            "max_height": null,
            "max_width": null,
            "min_height": null,
            "min_width": null,
            "object_fit": null,
            "object_position": null,
            "order": null,
            "overflow": null,
            "overflow_x": null,
            "overflow_y": null,
            "padding": null,
            "right": null,
            "top": null,
            "visibility": null,
            "width": null
          }
        },
        "de1364a9c6a741ccb92ef2f79e6f69e4": {
          "model_module": "@jupyter-widgets/controls",
          "model_name": "ProgressStyleModel",
          "model_module_version": "1.5.0",
          "state": {
            "_model_module": "@jupyter-widgets/controls",
            "_model_module_version": "1.5.0",
            "_model_name": "ProgressStyleModel",
            "_view_count": null,
            "_view_module": "@jupyter-widgets/base",
            "_view_module_version": "1.2.0",
            "_view_name": "StyleView",
            "bar_color": null,
            "description_width": ""
          }
        },
        "7f77d68d568146d68da92e180f652047": {
          "model_module": "@jupyter-widgets/base",
          "model_name": "LayoutModel",
          "model_module_version": "1.2.0",
          "state": {
            "_model_module": "@jupyter-widgets/base",
            "_model_module_version": "1.2.0",
            "_model_name": "LayoutModel",
            "_view_count": null,
            "_view_module": "@jupyter-widgets/base",
            "_view_module_version": "1.2.0",
            "_view_name": "LayoutView",
            "align_content": null,
            "align_items": null,
            "align_self": null,
            "border": null,
            "bottom": null,
            "display": null,
            "flex": null,
            "flex_flow": null,
            "grid_area": null,
            "grid_auto_columns": null,
            "grid_auto_flow": null,
            "grid_auto_rows": null,
            "grid_column": null,
            "grid_gap": null,
            "grid_row": null,
            "grid_template_areas": null,
            "grid_template_columns": null,
            "grid_template_rows": null,
            "height": null,
            "justify_content": null,
            "justify_items": null,
            "left": null,
            "margin": null,
            "max_height": null,
            "max_width": null,
            "min_height": null,
            "min_width": null,
            "object_fit": null,
            "object_position": null,
            "order": null,
            "overflow": null,
            "overflow_x": null,
            "overflow_y": null,
            "padding": null,
            "right": null,
            "top": null,
            "visibility": null,
            "width": null
          }
        },
        "c81b71ea5cd547bea521152fb7a700df": {
          "model_module": "@jupyter-widgets/controls",
          "model_name": "DescriptionStyleModel",
          "model_module_version": "1.5.0",
          "state": {
            "_model_module": "@jupyter-widgets/controls",
            "_model_module_version": "1.5.0",
            "_model_name": "DescriptionStyleModel",
            "_view_count": null,
            "_view_module": "@jupyter-widgets/base",
            "_view_module_version": "1.2.0",
            "_view_name": "StyleView",
            "description_width": ""
          }
        },
        "26b1fa71a688491193669abd991276e8": {
          "model_module": "@jupyter-widgets/controls",
          "model_name": "HBoxModel",
          "model_module_version": "1.5.0",
          "state": {
            "_dom_classes": [],
            "_model_module": "@jupyter-widgets/controls",
            "_model_module_version": "1.5.0",
            "_model_name": "HBoxModel",
            "_view_count": null,
            "_view_module": "@jupyter-widgets/controls",
            "_view_module_version": "1.5.0",
            "_view_name": "HBoxView",
            "box_style": "",
            "children": [
              "IPY_MODEL_74db776f9ee04ce48d844e2421a14fee",
              "IPY_MODEL_98fe988761b04046971c766fb114fba8",
              "IPY_MODEL_e0274ae69f4c4c7f81198b174dbae45c"
            ],
            "layout": "IPY_MODEL_ea1843dc2cae44bdbc5976e1da5b84b7"
          }
        },
        "74db776f9ee04ce48d844e2421a14fee": {
          "model_module": "@jupyter-widgets/controls",
          "model_name": "HTMLModel",
          "model_module_version": "1.5.0",
          "state": {
            "_dom_classes": [],
            "_model_module": "@jupyter-widgets/controls",
            "_model_module_version": "1.5.0",
            "_model_name": "HTMLModel",
            "_view_count": null,
            "_view_module": "@jupyter-widgets/controls",
            "_view_module_version": "1.5.0",
            "_view_name": "HTMLView",
            "description": "",
            "description_tooltip": null,
            "layout": "IPY_MODEL_860719a59f614d919c94ab8f77aac866",
            "placeholder": "​",
            "style": "IPY_MODEL_988c1e4f882a40d7bf19d64e3775087c",
            "value": "100%"
          }
        },
        "98fe988761b04046971c766fb114fba8": {
          "model_module": "@jupyter-widgets/controls",
          "model_name": "FloatProgressModel",
          "model_module_version": "1.5.0",
          "state": {
            "_dom_classes": [],
            "_model_module": "@jupyter-widgets/controls",
            "_model_module_version": "1.5.0",
            "_model_name": "FloatProgressModel",
            "_view_count": null,
            "_view_module": "@jupyter-widgets/controls",
            "_view_module_version": "1.5.0",
            "_view_name": "ProgressView",
            "bar_style": "success",
            "description": "",
            "description_tooltip": null,
            "layout": "IPY_MODEL_ce6c75e2da864bdc94f31010e4673c86",
            "max": 50,
            "min": 0,
            "orientation": "horizontal",
            "style": "IPY_MODEL_8a90d0d7cf504ee480e46c5da49a6f72",
            "value": 50
          }
        },
        "e0274ae69f4c4c7f81198b174dbae45c": {
          "model_module": "@jupyter-widgets/controls",
          "model_name": "HTMLModel",
          "model_module_version": "1.5.0",
          "state": {
            "_dom_classes": [],
            "_model_module": "@jupyter-widgets/controls",
            "_model_module_version": "1.5.0",
            "_model_name": "HTMLModel",
            "_view_count": null,
            "_view_module": "@jupyter-widgets/controls",
            "_view_module_version": "1.5.0",
            "_view_name": "HTMLView",
            "description": "",
            "description_tooltip": null,
            "layout": "IPY_MODEL_8a31621e939a45edb4375a5ff92b7c1a",
            "placeholder": "​",
            "style": "IPY_MODEL_5156a78a81444d0288c3e2580a73ddad",
            "value": " 50/50 [00:01&lt;00:00, 26.47it/s]"
          }
        },
        "ea1843dc2cae44bdbc5976e1da5b84b7": {
          "model_module": "@jupyter-widgets/base",
          "model_name": "LayoutModel",
          "model_module_version": "1.2.0",
          "state": {
            "_model_module": "@jupyter-widgets/base",
            "_model_module_version": "1.2.0",
            "_model_name": "LayoutModel",
            "_view_count": null,
            "_view_module": "@jupyter-widgets/base",
            "_view_module_version": "1.2.0",
            "_view_name": "LayoutView",
            "align_content": null,
            "align_items": null,
            "align_self": null,
            "border": null,
            "bottom": null,
            "display": null,
            "flex": null,
            "flex_flow": null,
            "grid_area": null,
            "grid_auto_columns": null,
            "grid_auto_flow": null,
            "grid_auto_rows": null,
            "grid_column": null,
            "grid_gap": null,
            "grid_row": null,
            "grid_template_areas": null,
            "grid_template_columns": null,
            "grid_template_rows": null,
            "height": null,
            "justify_content": null,
            "justify_items": null,
            "left": null,
            "margin": null,
            "max_height": null,
            "max_width": null,
            "min_height": null,
            "min_width": null,
            "object_fit": null,
            "object_position": null,
            "order": null,
            "overflow": null,
            "overflow_x": null,
            "overflow_y": null,
            "padding": null,
            "right": null,
            "top": null,
            "visibility": null,
            "width": null
          }
        },
        "860719a59f614d919c94ab8f77aac866": {
          "model_module": "@jupyter-widgets/base",
          "model_name": "LayoutModel",
          "model_module_version": "1.2.0",
          "state": {
            "_model_module": "@jupyter-widgets/base",
            "_model_module_version": "1.2.0",
            "_model_name": "LayoutModel",
            "_view_count": null,
            "_view_module": "@jupyter-widgets/base",
            "_view_module_version": "1.2.0",
            "_view_name": "LayoutView",
            "align_content": null,
            "align_items": null,
            "align_self": null,
            "border": null,
            "bottom": null,
            "display": null,
            "flex": null,
            "flex_flow": null,
            "grid_area": null,
            "grid_auto_columns": null,
            "grid_auto_flow": null,
            "grid_auto_rows": null,
            "grid_column": null,
            "grid_gap": null,
            "grid_row": null,
            "grid_template_areas": null,
            "grid_template_columns": null,
            "grid_template_rows": null,
            "height": null,
            "justify_content": null,
            "justify_items": null,
            "left": null,
            "margin": null,
            "max_height": null,
            "max_width": null,
            "min_height": null,
            "min_width": null,
            "object_fit": null,
            "object_position": null,
            "order": null,
            "overflow": null,
            "overflow_x": null,
            "overflow_y": null,
            "padding": null,
            "right": null,
            "top": null,
            "visibility": null,
            "width": null
          }
        },
        "988c1e4f882a40d7bf19d64e3775087c": {
          "model_module": "@jupyter-widgets/controls",
          "model_name": "DescriptionStyleModel",
          "model_module_version": "1.5.0",
          "state": {
            "_model_module": "@jupyter-widgets/controls",
            "_model_module_version": "1.5.0",
            "_model_name": "DescriptionStyleModel",
            "_view_count": null,
            "_view_module": "@jupyter-widgets/base",
            "_view_module_version": "1.2.0",
            "_view_name": "StyleView",
            "description_width": ""
          }
        },
        "ce6c75e2da864bdc94f31010e4673c86": {
          "model_module": "@jupyter-widgets/base",
          "model_name": "LayoutModel",
          "model_module_version": "1.2.0",
          "state": {
            "_model_module": "@jupyter-widgets/base",
            "_model_module_version": "1.2.0",
            "_model_name": "LayoutModel",
            "_view_count": null,
            "_view_module": "@jupyter-widgets/base",
            "_view_module_version": "1.2.0",
            "_view_name": "LayoutView",
            "align_content": null,
            "align_items": null,
            "align_self": null,
            "border": null,
            "bottom": null,
            "display": null,
            "flex": null,
            "flex_flow": null,
            "grid_area": null,
            "grid_auto_columns": null,
            "grid_auto_flow": null,
            "grid_auto_rows": null,
            "grid_column": null,
            "grid_gap": null,
            "grid_row": null,
            "grid_template_areas": null,
            "grid_template_columns": null,
            "grid_template_rows": null,
            "height": null,
            "justify_content": null,
            "justify_items": null,
            "left": null,
            "margin": null,
            "max_height": null,
            "max_width": null,
            "min_height": null,
            "min_width": null,
            "object_fit": null,
            "object_position": null,
            "order": null,
            "overflow": null,
            "overflow_x": null,
            "overflow_y": null,
            "padding": null,
            "right": null,
            "top": null,
            "visibility": null,
            "width": null
          }
        },
        "8a90d0d7cf504ee480e46c5da49a6f72": {
          "model_module": "@jupyter-widgets/controls",
          "model_name": "ProgressStyleModel",
          "model_module_version": "1.5.0",
          "state": {
            "_model_module": "@jupyter-widgets/controls",
            "_model_module_version": "1.5.0",
            "_model_name": "ProgressStyleModel",
            "_view_count": null,
            "_view_module": "@jupyter-widgets/base",
            "_view_module_version": "1.2.0",
            "_view_name": "StyleView",
            "bar_color": null,
            "description_width": ""
          }
        },
        "8a31621e939a45edb4375a5ff92b7c1a": {
          "model_module": "@jupyter-widgets/base",
          "model_name": "LayoutModel",
          "model_module_version": "1.2.0",
          "state": {
            "_model_module": "@jupyter-widgets/base",
            "_model_module_version": "1.2.0",
            "_model_name": "LayoutModel",
            "_view_count": null,
            "_view_module": "@jupyter-widgets/base",
            "_view_module_version": "1.2.0",
            "_view_name": "LayoutView",
            "align_content": null,
            "align_items": null,
            "align_self": null,
            "border": null,
            "bottom": null,
            "display": null,
            "flex": null,
            "flex_flow": null,
            "grid_area": null,
            "grid_auto_columns": null,
            "grid_auto_flow": null,
            "grid_auto_rows": null,
            "grid_column": null,
            "grid_gap": null,
            "grid_row": null,
            "grid_template_areas": null,
            "grid_template_columns": null,
            "grid_template_rows": null,
            "height": null,
            "justify_content": null,
            "justify_items": null,
            "left": null,
            "margin": null,
            "max_height": null,
            "max_width": null,
            "min_height": null,
            "min_width": null,
            "object_fit": null,
            "object_position": null,
            "order": null,
            "overflow": null,
            "overflow_x": null,
            "overflow_y": null,
            "padding": null,
            "right": null,
            "top": null,
            "visibility": null,
            "width": null
          }
        },
        "5156a78a81444d0288c3e2580a73ddad": {
          "model_module": "@jupyter-widgets/controls",
          "model_name": "DescriptionStyleModel",
          "model_module_version": "1.5.0",
          "state": {
            "_model_module": "@jupyter-widgets/controls",
            "_model_module_version": "1.5.0",
            "_model_name": "DescriptionStyleModel",
            "_view_count": null,
            "_view_module": "@jupyter-widgets/base",
            "_view_module_version": "1.2.0",
            "_view_name": "StyleView",
            "description_width": ""
          }
        },
        "6ed6c074d6bb4c47b5004cf5c773d934": {
          "model_module": "@jupyter-widgets/controls",
          "model_name": "HBoxModel",
          "model_module_version": "1.5.0",
          "state": {
            "_dom_classes": [],
            "_model_module": "@jupyter-widgets/controls",
            "_model_module_version": "1.5.0",
            "_model_name": "HBoxModel",
            "_view_count": null,
            "_view_module": "@jupyter-widgets/controls",
            "_view_module_version": "1.5.0",
            "_view_name": "HBoxView",
            "box_style": "",
            "children": [
              "IPY_MODEL_264bb773e916469baa89f766aafa2ad5",
              "IPY_MODEL_71403bfb558b432696e83f9fac8b070b",
              "IPY_MODEL_9a1f7c0846754285836c759368f33ce3"
            ],
            "layout": "IPY_MODEL_f06986035c8046eda3268814f0a9e9ac"
          }
        },
        "264bb773e916469baa89f766aafa2ad5": {
          "model_module": "@jupyter-widgets/controls",
          "model_name": "HTMLModel",
          "model_module_version": "1.5.0",
          "state": {
            "_dom_classes": [],
            "_model_module": "@jupyter-widgets/controls",
            "_model_module_version": "1.5.0",
            "_model_name": "HTMLModel",
            "_view_count": null,
            "_view_module": "@jupyter-widgets/controls",
            "_view_module_version": "1.5.0",
            "_view_name": "HTMLView",
            "description": "",
            "description_tooltip": null,
            "layout": "IPY_MODEL_eb4af2eea5fd45d486519791edf69a31",
            "placeholder": "​",
            "style": "IPY_MODEL_0cb4b1329eae489b92f27224816f1504",
            "value": "100%"
          }
        },
        "71403bfb558b432696e83f9fac8b070b": {
          "model_module": "@jupyter-widgets/controls",
          "model_name": "FloatProgressModel",
          "model_module_version": "1.5.0",
          "state": {
            "_dom_classes": [],
            "_model_module": "@jupyter-widgets/controls",
            "_model_module_version": "1.5.0",
            "_model_name": "FloatProgressModel",
            "_view_count": null,
            "_view_module": "@jupyter-widgets/controls",
            "_view_module_version": "1.5.0",
            "_view_name": "ProgressView",
            "bar_style": "success",
            "description": "",
            "description_tooltip": null,
            "layout": "IPY_MODEL_1748f835e3f84023a344d32162ff3ab9",
            "max": 50,
            "min": 0,
            "orientation": "horizontal",
            "style": "IPY_MODEL_58b0d382a24448ebbed793174f17cf16",
            "value": 50
          }
        },
        "9a1f7c0846754285836c759368f33ce3": {
          "model_module": "@jupyter-widgets/controls",
          "model_name": "HTMLModel",
          "model_module_version": "1.5.0",
          "state": {
            "_dom_classes": [],
            "_model_module": "@jupyter-widgets/controls",
            "_model_module_version": "1.5.0",
            "_model_name": "HTMLModel",
            "_view_count": null,
            "_view_module": "@jupyter-widgets/controls",
            "_view_module_version": "1.5.0",
            "_view_name": "HTMLView",
            "description": "",
            "description_tooltip": null,
            "layout": "IPY_MODEL_561c146c35774f0f9c1470b764c8f80f",
            "placeholder": "​",
            "style": "IPY_MODEL_d0de36a0ffb2402ba7a5284c75fe41f1",
            "value": " 50/50 [00:01&lt;00:00, 26.43it/s]"
          }
        },
        "f06986035c8046eda3268814f0a9e9ac": {
          "model_module": "@jupyter-widgets/base",
          "model_name": "LayoutModel",
          "model_module_version": "1.2.0",
          "state": {
            "_model_module": "@jupyter-widgets/base",
            "_model_module_version": "1.2.0",
            "_model_name": "LayoutModel",
            "_view_count": null,
            "_view_module": "@jupyter-widgets/base",
            "_view_module_version": "1.2.0",
            "_view_name": "LayoutView",
            "align_content": null,
            "align_items": null,
            "align_self": null,
            "border": null,
            "bottom": null,
            "display": null,
            "flex": null,
            "flex_flow": null,
            "grid_area": null,
            "grid_auto_columns": null,
            "grid_auto_flow": null,
            "grid_auto_rows": null,
            "grid_column": null,
            "grid_gap": null,
            "grid_row": null,
            "grid_template_areas": null,
            "grid_template_columns": null,
            "grid_template_rows": null,
            "height": null,
            "justify_content": null,
            "justify_items": null,
            "left": null,
            "margin": null,
            "max_height": null,
            "max_width": null,
            "min_height": null,
            "min_width": null,
            "object_fit": null,
            "object_position": null,
            "order": null,
            "overflow": null,
            "overflow_x": null,
            "overflow_y": null,
            "padding": null,
            "right": null,
            "top": null,
            "visibility": null,
            "width": null
          }
        },
        "eb4af2eea5fd45d486519791edf69a31": {
          "model_module": "@jupyter-widgets/base",
          "model_name": "LayoutModel",
          "model_module_version": "1.2.0",
          "state": {
            "_model_module": "@jupyter-widgets/base",
            "_model_module_version": "1.2.0",
            "_model_name": "LayoutModel",
            "_view_count": null,
            "_view_module": "@jupyter-widgets/base",
            "_view_module_version": "1.2.0",
            "_view_name": "LayoutView",
            "align_content": null,
            "align_items": null,
            "align_self": null,
            "border": null,
            "bottom": null,
            "display": null,
            "flex": null,
            "flex_flow": null,
            "grid_area": null,
            "grid_auto_columns": null,
            "grid_auto_flow": null,
            "grid_auto_rows": null,
            "grid_column": null,
            "grid_gap": null,
            "grid_row": null,
            "grid_template_areas": null,
            "grid_template_columns": null,
            "grid_template_rows": null,
            "height": null,
            "justify_content": null,
            "justify_items": null,
            "left": null,
            "margin": null,
            "max_height": null,
            "max_width": null,
            "min_height": null,
            "min_width": null,
            "object_fit": null,
            "object_position": null,
            "order": null,
            "overflow": null,
            "overflow_x": null,
            "overflow_y": null,
            "padding": null,
            "right": null,
            "top": null,
            "visibility": null,
            "width": null
          }
        },
        "0cb4b1329eae489b92f27224816f1504": {
          "model_module": "@jupyter-widgets/controls",
          "model_name": "DescriptionStyleModel",
          "model_module_version": "1.5.0",
          "state": {
            "_model_module": "@jupyter-widgets/controls",
            "_model_module_version": "1.5.0",
            "_model_name": "DescriptionStyleModel",
            "_view_count": null,
            "_view_module": "@jupyter-widgets/base",
            "_view_module_version": "1.2.0",
            "_view_name": "StyleView",
            "description_width": ""
          }
        },
        "1748f835e3f84023a344d32162ff3ab9": {
          "model_module": "@jupyter-widgets/base",
          "model_name": "LayoutModel",
          "model_module_version": "1.2.0",
          "state": {
            "_model_module": "@jupyter-widgets/base",
            "_model_module_version": "1.2.0",
            "_model_name": "LayoutModel",
            "_view_count": null,
            "_view_module": "@jupyter-widgets/base",
            "_view_module_version": "1.2.0",
            "_view_name": "LayoutView",
            "align_content": null,
            "align_items": null,
            "align_self": null,
            "border": null,
            "bottom": null,
            "display": null,
            "flex": null,
            "flex_flow": null,
            "grid_area": null,
            "grid_auto_columns": null,
            "grid_auto_flow": null,
            "grid_auto_rows": null,
            "grid_column": null,
            "grid_gap": null,
            "grid_row": null,
            "grid_template_areas": null,
            "grid_template_columns": null,
            "grid_template_rows": null,
            "height": null,
            "justify_content": null,
            "justify_items": null,
            "left": null,
            "margin": null,
            "max_height": null,
            "max_width": null,
            "min_height": null,
            "min_width": null,
            "object_fit": null,
            "object_position": null,
            "order": null,
            "overflow": null,
            "overflow_x": null,
            "overflow_y": null,
            "padding": null,
            "right": null,
            "top": null,
            "visibility": null,
            "width": null
          }
        },
        "58b0d382a24448ebbed793174f17cf16": {
          "model_module": "@jupyter-widgets/controls",
          "model_name": "ProgressStyleModel",
          "model_module_version": "1.5.0",
          "state": {
            "_model_module": "@jupyter-widgets/controls",
            "_model_module_version": "1.5.0",
            "_model_name": "ProgressStyleModel",
            "_view_count": null,
            "_view_module": "@jupyter-widgets/base",
            "_view_module_version": "1.2.0",
            "_view_name": "StyleView",
            "bar_color": null,
            "description_width": ""
          }
        },
        "561c146c35774f0f9c1470b764c8f80f": {
          "model_module": "@jupyter-widgets/base",
          "model_name": "LayoutModel",
          "model_module_version": "1.2.0",
          "state": {
            "_model_module": "@jupyter-widgets/base",
            "_model_module_version": "1.2.0",
            "_model_name": "LayoutModel",
            "_view_count": null,
            "_view_module": "@jupyter-widgets/base",
            "_view_module_version": "1.2.0",
            "_view_name": "LayoutView",
            "align_content": null,
            "align_items": null,
            "align_self": null,
            "border": null,
            "bottom": null,
            "display": null,
            "flex": null,
            "flex_flow": null,
            "grid_area": null,
            "grid_auto_columns": null,
            "grid_auto_flow": null,
            "grid_auto_rows": null,
            "grid_column": null,
            "grid_gap": null,
            "grid_row": null,
            "grid_template_areas": null,
            "grid_template_columns": null,
            "grid_template_rows": null,
            "height": null,
            "justify_content": null,
            "justify_items": null,
            "left": null,
            "margin": null,
            "max_height": null,
            "max_width": null,
            "min_height": null,
            "min_width": null,
            "object_fit": null,
            "object_position": null,
            "order": null,
            "overflow": null,
            "overflow_x": null,
            "overflow_y": null,
            "padding": null,
            "right": null,
            "top": null,
            "visibility": null,
            "width": null
          }
        },
        "d0de36a0ffb2402ba7a5284c75fe41f1": {
          "model_module": "@jupyter-widgets/controls",
          "model_name": "DescriptionStyleModel",
          "model_module_version": "1.5.0",
          "state": {
            "_model_module": "@jupyter-widgets/controls",
            "_model_module_version": "1.5.0",
            "_model_name": "DescriptionStyleModel",
            "_view_count": null,
            "_view_module": "@jupyter-widgets/base",
            "_view_module_version": "1.2.0",
            "_view_name": "StyleView",
            "description_width": ""
          }
        },
        "2c37326ed27144d38d93392238691ac1": {
          "model_module": "@jupyter-widgets/controls",
          "model_name": "HBoxModel",
          "model_module_version": "1.5.0",
          "state": {
            "_dom_classes": [],
            "_model_module": "@jupyter-widgets/controls",
            "_model_module_version": "1.5.0",
            "_model_name": "HBoxModel",
            "_view_count": null,
            "_view_module": "@jupyter-widgets/controls",
            "_view_module_version": "1.5.0",
            "_view_name": "HBoxView",
            "box_style": "",
            "children": [
              "IPY_MODEL_9fa13568d11641bead7dd6ebcc2e20f6",
              "IPY_MODEL_fbc7cb7e11b14ad88798d7cd937fc4b1",
              "IPY_MODEL_e51667607f6c4b6c9956a9a570284b5f"
            ],
            "layout": "IPY_MODEL_ed92b8c906584a6d82a3c97ce758afa2"
          }
        },
        "9fa13568d11641bead7dd6ebcc2e20f6": {
          "model_module": "@jupyter-widgets/controls",
          "model_name": "HTMLModel",
          "model_module_version": "1.5.0",
          "state": {
            "_dom_classes": [],
            "_model_module": "@jupyter-widgets/controls",
            "_model_module_version": "1.5.0",
            "_model_name": "HTMLModel",
            "_view_count": null,
            "_view_module": "@jupyter-widgets/controls",
            "_view_module_version": "1.5.0",
            "_view_name": "HTMLView",
            "description": "",
            "description_tooltip": null,
            "layout": "IPY_MODEL_7151830e1154440c977aa6b02ad8d931",
            "placeholder": "​",
            "style": "IPY_MODEL_8bc6dadd45f1499da491e7d532e02f3f",
            "value": "100%"
          }
        },
        "fbc7cb7e11b14ad88798d7cd937fc4b1": {
          "model_module": "@jupyter-widgets/controls",
          "model_name": "FloatProgressModel",
          "model_module_version": "1.5.0",
          "state": {
            "_dom_classes": [],
            "_model_module": "@jupyter-widgets/controls",
            "_model_module_version": "1.5.0",
            "_model_name": "FloatProgressModel",
            "_view_count": null,
            "_view_module": "@jupyter-widgets/controls",
            "_view_module_version": "1.5.0",
            "_view_name": "ProgressView",
            "bar_style": "success",
            "description": "",
            "description_tooltip": null,
            "layout": "IPY_MODEL_7fab63610a1b4e238d3118cff409c854",
            "max": 50,
            "min": 0,
            "orientation": "horizontal",
            "style": "IPY_MODEL_ad033ddb7f9c417b8b4d9da63d069769",
            "value": 50
          }
        },
        "e51667607f6c4b6c9956a9a570284b5f": {
          "model_module": "@jupyter-widgets/controls",
          "model_name": "HTMLModel",
          "model_module_version": "1.5.0",
          "state": {
            "_dom_classes": [],
            "_model_module": "@jupyter-widgets/controls",
            "_model_module_version": "1.5.0",
            "_model_name": "HTMLModel",
            "_view_count": null,
            "_view_module": "@jupyter-widgets/controls",
            "_view_module_version": "1.5.0",
            "_view_name": "HTMLView",
            "description": "",
            "description_tooltip": null,
            "layout": "IPY_MODEL_84a04bb84ca541cf8b2733831432fd55",
            "placeholder": "​",
            "style": "IPY_MODEL_7b7072410af04851af272ccafa547f8f",
            "value": " 50/50 [00:01&lt;00:00, 25.77it/s]"
          }
        },
        "ed92b8c906584a6d82a3c97ce758afa2": {
          "model_module": "@jupyter-widgets/base",
          "model_name": "LayoutModel",
          "model_module_version": "1.2.0",
          "state": {
            "_model_module": "@jupyter-widgets/base",
            "_model_module_version": "1.2.0",
            "_model_name": "LayoutModel",
            "_view_count": null,
            "_view_module": "@jupyter-widgets/base",
            "_view_module_version": "1.2.0",
            "_view_name": "LayoutView",
            "align_content": null,
            "align_items": null,
            "align_self": null,
            "border": null,
            "bottom": null,
            "display": null,
            "flex": null,
            "flex_flow": null,
            "grid_area": null,
            "grid_auto_columns": null,
            "grid_auto_flow": null,
            "grid_auto_rows": null,
            "grid_column": null,
            "grid_gap": null,
            "grid_row": null,
            "grid_template_areas": null,
            "grid_template_columns": null,
            "grid_template_rows": null,
            "height": null,
            "justify_content": null,
            "justify_items": null,
            "left": null,
            "margin": null,
            "max_height": null,
            "max_width": null,
            "min_height": null,
            "min_width": null,
            "object_fit": null,
            "object_position": null,
            "order": null,
            "overflow": null,
            "overflow_x": null,
            "overflow_y": null,
            "padding": null,
            "right": null,
            "top": null,
            "visibility": null,
            "width": null
          }
        },
        "7151830e1154440c977aa6b02ad8d931": {
          "model_module": "@jupyter-widgets/base",
          "model_name": "LayoutModel",
          "model_module_version": "1.2.0",
          "state": {
            "_model_module": "@jupyter-widgets/base",
            "_model_module_version": "1.2.0",
            "_model_name": "LayoutModel",
            "_view_count": null,
            "_view_module": "@jupyter-widgets/base",
            "_view_module_version": "1.2.0",
            "_view_name": "LayoutView",
            "align_content": null,
            "align_items": null,
            "align_self": null,
            "border": null,
            "bottom": null,
            "display": null,
            "flex": null,
            "flex_flow": null,
            "grid_area": null,
            "grid_auto_columns": null,
            "grid_auto_flow": null,
            "grid_auto_rows": null,
            "grid_column": null,
            "grid_gap": null,
            "grid_row": null,
            "grid_template_areas": null,
            "grid_template_columns": null,
            "grid_template_rows": null,
            "height": null,
            "justify_content": null,
            "justify_items": null,
            "left": null,
            "margin": null,
            "max_height": null,
            "max_width": null,
            "min_height": null,
            "min_width": null,
            "object_fit": null,
            "object_position": null,
            "order": null,
            "overflow": null,
            "overflow_x": null,
            "overflow_y": null,
            "padding": null,
            "right": null,
            "top": null,
            "visibility": null,
            "width": null
          }
        },
        "8bc6dadd45f1499da491e7d532e02f3f": {
          "model_module": "@jupyter-widgets/controls",
          "model_name": "DescriptionStyleModel",
          "model_module_version": "1.5.0",
          "state": {
            "_model_module": "@jupyter-widgets/controls",
            "_model_module_version": "1.5.0",
            "_model_name": "DescriptionStyleModel",
            "_view_count": null,
            "_view_module": "@jupyter-widgets/base",
            "_view_module_version": "1.2.0",
            "_view_name": "StyleView",
            "description_width": ""
          }
        },
        "7fab63610a1b4e238d3118cff409c854": {
          "model_module": "@jupyter-widgets/base",
          "model_name": "LayoutModel",
          "model_module_version": "1.2.0",
          "state": {
            "_model_module": "@jupyter-widgets/base",
            "_model_module_version": "1.2.0",
            "_model_name": "LayoutModel",
            "_view_count": null,
            "_view_module": "@jupyter-widgets/base",
            "_view_module_version": "1.2.0",
            "_view_name": "LayoutView",
            "align_content": null,
            "align_items": null,
            "align_self": null,
            "border": null,
            "bottom": null,
            "display": null,
            "flex": null,
            "flex_flow": null,
            "grid_area": null,
            "grid_auto_columns": null,
            "grid_auto_flow": null,
            "grid_auto_rows": null,
            "grid_column": null,
            "grid_gap": null,
            "grid_row": null,
            "grid_template_areas": null,
            "grid_template_columns": null,
            "grid_template_rows": null,
            "height": null,
            "justify_content": null,
            "justify_items": null,
            "left": null,
            "margin": null,
            "max_height": null,
            "max_width": null,
            "min_height": null,
            "min_width": null,
            "object_fit": null,
            "object_position": null,
            "order": null,
            "overflow": null,
            "overflow_x": null,
            "overflow_y": null,
            "padding": null,
            "right": null,
            "top": null,
            "visibility": null,
            "width": null
          }
        },
        "ad033ddb7f9c417b8b4d9da63d069769": {
          "model_module": "@jupyter-widgets/controls",
          "model_name": "ProgressStyleModel",
          "model_module_version": "1.5.0",
          "state": {
            "_model_module": "@jupyter-widgets/controls",
            "_model_module_version": "1.5.0",
            "_model_name": "ProgressStyleModel",
            "_view_count": null,
            "_view_module": "@jupyter-widgets/base",
            "_view_module_version": "1.2.0",
            "_view_name": "StyleView",
            "bar_color": null,
            "description_width": ""
          }
        },
        "84a04bb84ca541cf8b2733831432fd55": {
          "model_module": "@jupyter-widgets/base",
          "model_name": "LayoutModel",
          "model_module_version": "1.2.0",
          "state": {
            "_model_module": "@jupyter-widgets/base",
            "_model_module_version": "1.2.0",
            "_model_name": "LayoutModel",
            "_view_count": null,
            "_view_module": "@jupyter-widgets/base",
            "_view_module_version": "1.2.0",
            "_view_name": "LayoutView",
            "align_content": null,
            "align_items": null,
            "align_self": null,
            "border": null,
            "bottom": null,
            "display": null,
            "flex": null,
            "flex_flow": null,
            "grid_area": null,
            "grid_auto_columns": null,
            "grid_auto_flow": null,
            "grid_auto_rows": null,
            "grid_column": null,
            "grid_gap": null,
            "grid_row": null,
            "grid_template_areas": null,
            "grid_template_columns": null,
            "grid_template_rows": null,
            "height": null,
            "justify_content": null,
            "justify_items": null,
            "left": null,
            "margin": null,
            "max_height": null,
            "max_width": null,
            "min_height": null,
            "min_width": null,
            "object_fit": null,
            "object_position": null,
            "order": null,
            "overflow": null,
            "overflow_x": null,
            "overflow_y": null,
            "padding": null,
            "right": null,
            "top": null,
            "visibility": null,
            "width": null
          }
        },
        "7b7072410af04851af272ccafa547f8f": {
          "model_module": "@jupyter-widgets/controls",
          "model_name": "DescriptionStyleModel",
          "model_module_version": "1.5.0",
          "state": {
            "_model_module": "@jupyter-widgets/controls",
            "_model_module_version": "1.5.0",
            "_model_name": "DescriptionStyleModel",
            "_view_count": null,
            "_view_module": "@jupyter-widgets/base",
            "_view_module_version": "1.2.0",
            "_view_name": "StyleView",
            "description_width": ""
          }
        },
        "2f4f3cdee99946dcb9a36c6fe034704b": {
          "model_module": "@jupyter-widgets/controls",
          "model_name": "HBoxModel",
          "model_module_version": "1.5.0",
          "state": {
            "_dom_classes": [],
            "_model_module": "@jupyter-widgets/controls",
            "_model_module_version": "1.5.0",
            "_model_name": "HBoxModel",
            "_view_count": null,
            "_view_module": "@jupyter-widgets/controls",
            "_view_module_version": "1.5.0",
            "_view_name": "HBoxView",
            "box_style": "",
            "children": [
              "IPY_MODEL_6f7cad610d6247e1af96989ac4cb954e",
              "IPY_MODEL_f8de7728c47545e2a57f62f1a6ed4880",
              "IPY_MODEL_3c9372961bce44dc8da634b3a231a625"
            ],
            "layout": "IPY_MODEL_9c14508cd750419b84b052ff2f327cd7"
          }
        },
        "6f7cad610d6247e1af96989ac4cb954e": {
          "model_module": "@jupyter-widgets/controls",
          "model_name": "HTMLModel",
          "model_module_version": "1.5.0",
          "state": {
            "_dom_classes": [],
            "_model_module": "@jupyter-widgets/controls",
            "_model_module_version": "1.5.0",
            "_model_name": "HTMLModel",
            "_view_count": null,
            "_view_module": "@jupyter-widgets/controls",
            "_view_module_version": "1.5.0",
            "_view_name": "HTMLView",
            "description": "",
            "description_tooltip": null,
            "layout": "IPY_MODEL_c5393245517f4ba391d40c41bc6a5cb4",
            "placeholder": "​",
            "style": "IPY_MODEL_6c81ecc1635a40ffbfc2103566e4419b",
            "value": "100%"
          }
        },
        "f8de7728c47545e2a57f62f1a6ed4880": {
          "model_module": "@jupyter-widgets/controls",
          "model_name": "FloatProgressModel",
          "model_module_version": "1.5.0",
          "state": {
            "_dom_classes": [],
            "_model_module": "@jupyter-widgets/controls",
            "_model_module_version": "1.5.0",
            "_model_name": "FloatProgressModel",
            "_view_count": null,
            "_view_module": "@jupyter-widgets/controls",
            "_view_module_version": "1.5.0",
            "_view_name": "ProgressView",
            "bar_style": "success",
            "description": "",
            "description_tooltip": null,
            "layout": "IPY_MODEL_d4682153993344fe908af460e908fbb1",
            "max": 50,
            "min": 0,
            "orientation": "horizontal",
            "style": "IPY_MODEL_52319d15a12b4e9ea5aec2541f199b83",
            "value": 50
          }
        },
        "3c9372961bce44dc8da634b3a231a625": {
          "model_module": "@jupyter-widgets/controls",
          "model_name": "HTMLModel",
          "model_module_version": "1.5.0",
          "state": {
            "_dom_classes": [],
            "_model_module": "@jupyter-widgets/controls",
            "_model_module_version": "1.5.0",
            "_model_name": "HTMLModel",
            "_view_count": null,
            "_view_module": "@jupyter-widgets/controls",
            "_view_module_version": "1.5.0",
            "_view_name": "HTMLView",
            "description": "",
            "description_tooltip": null,
            "layout": "IPY_MODEL_9e24de61e3aa4b128b807d8580233bf8",
            "placeholder": "​",
            "style": "IPY_MODEL_e00b08699b4942fa94fd92d35e4f9189",
            "value": " 50/50 [00:02&lt;00:00, 24.15it/s]"
          }
        },
        "9c14508cd750419b84b052ff2f327cd7": {
          "model_module": "@jupyter-widgets/base",
          "model_name": "LayoutModel",
          "model_module_version": "1.2.0",
          "state": {
            "_model_module": "@jupyter-widgets/base",
            "_model_module_version": "1.2.0",
            "_model_name": "LayoutModel",
            "_view_count": null,
            "_view_module": "@jupyter-widgets/base",
            "_view_module_version": "1.2.0",
            "_view_name": "LayoutView",
            "align_content": null,
            "align_items": null,
            "align_self": null,
            "border": null,
            "bottom": null,
            "display": null,
            "flex": null,
            "flex_flow": null,
            "grid_area": null,
            "grid_auto_columns": null,
            "grid_auto_flow": null,
            "grid_auto_rows": null,
            "grid_column": null,
            "grid_gap": null,
            "grid_row": null,
            "grid_template_areas": null,
            "grid_template_columns": null,
            "grid_template_rows": null,
            "height": null,
            "justify_content": null,
            "justify_items": null,
            "left": null,
            "margin": null,
            "max_height": null,
            "max_width": null,
            "min_height": null,
            "min_width": null,
            "object_fit": null,
            "object_position": null,
            "order": null,
            "overflow": null,
            "overflow_x": null,
            "overflow_y": null,
            "padding": null,
            "right": null,
            "top": null,
            "visibility": null,
            "width": null
          }
        },
        "c5393245517f4ba391d40c41bc6a5cb4": {
          "model_module": "@jupyter-widgets/base",
          "model_name": "LayoutModel",
          "model_module_version": "1.2.0",
          "state": {
            "_model_module": "@jupyter-widgets/base",
            "_model_module_version": "1.2.0",
            "_model_name": "LayoutModel",
            "_view_count": null,
            "_view_module": "@jupyter-widgets/base",
            "_view_module_version": "1.2.0",
            "_view_name": "LayoutView",
            "align_content": null,
            "align_items": null,
            "align_self": null,
            "border": null,
            "bottom": null,
            "display": null,
            "flex": null,
            "flex_flow": null,
            "grid_area": null,
            "grid_auto_columns": null,
            "grid_auto_flow": null,
            "grid_auto_rows": null,
            "grid_column": null,
            "grid_gap": null,
            "grid_row": null,
            "grid_template_areas": null,
            "grid_template_columns": null,
            "grid_template_rows": null,
            "height": null,
            "justify_content": null,
            "justify_items": null,
            "left": null,
            "margin": null,
            "max_height": null,
            "max_width": null,
            "min_height": null,
            "min_width": null,
            "object_fit": null,
            "object_position": null,
            "order": null,
            "overflow": null,
            "overflow_x": null,
            "overflow_y": null,
            "padding": null,
            "right": null,
            "top": null,
            "visibility": null,
            "width": null
          }
        },
        "6c81ecc1635a40ffbfc2103566e4419b": {
          "model_module": "@jupyter-widgets/controls",
          "model_name": "DescriptionStyleModel",
          "model_module_version": "1.5.0",
          "state": {
            "_model_module": "@jupyter-widgets/controls",
            "_model_module_version": "1.5.0",
            "_model_name": "DescriptionStyleModel",
            "_view_count": null,
            "_view_module": "@jupyter-widgets/base",
            "_view_module_version": "1.2.0",
            "_view_name": "StyleView",
            "description_width": ""
          }
        },
        "d4682153993344fe908af460e908fbb1": {
          "model_module": "@jupyter-widgets/base",
          "model_name": "LayoutModel",
          "model_module_version": "1.2.0",
          "state": {
            "_model_module": "@jupyter-widgets/base",
            "_model_module_version": "1.2.0",
            "_model_name": "LayoutModel",
            "_view_count": null,
            "_view_module": "@jupyter-widgets/base",
            "_view_module_version": "1.2.0",
            "_view_name": "LayoutView",
            "align_content": null,
            "align_items": null,
            "align_self": null,
            "border": null,
            "bottom": null,
            "display": null,
            "flex": null,
            "flex_flow": null,
            "grid_area": null,
            "grid_auto_columns": null,
            "grid_auto_flow": null,
            "grid_auto_rows": null,
            "grid_column": null,
            "grid_gap": null,
            "grid_row": null,
            "grid_template_areas": null,
            "grid_template_columns": null,
            "grid_template_rows": null,
            "height": null,
            "justify_content": null,
            "justify_items": null,
            "left": null,
            "margin": null,
            "max_height": null,
            "max_width": null,
            "min_height": null,
            "min_width": null,
            "object_fit": null,
            "object_position": null,
            "order": null,
            "overflow": null,
            "overflow_x": null,
            "overflow_y": null,
            "padding": null,
            "right": null,
            "top": null,
            "visibility": null,
            "width": null
          }
        },
        "52319d15a12b4e9ea5aec2541f199b83": {
          "model_module": "@jupyter-widgets/controls",
          "model_name": "ProgressStyleModel",
          "model_module_version": "1.5.0",
          "state": {
            "_model_module": "@jupyter-widgets/controls",
            "_model_module_version": "1.5.0",
            "_model_name": "ProgressStyleModel",
            "_view_count": null,
            "_view_module": "@jupyter-widgets/base",
            "_view_module_version": "1.2.0",
            "_view_name": "StyleView",
            "bar_color": null,
            "description_width": ""
          }
        },
        "9e24de61e3aa4b128b807d8580233bf8": {
          "model_module": "@jupyter-widgets/base",
          "model_name": "LayoutModel",
          "model_module_version": "1.2.0",
          "state": {
            "_model_module": "@jupyter-widgets/base",
            "_model_module_version": "1.2.0",
            "_model_name": "LayoutModel",
            "_view_count": null,
            "_view_module": "@jupyter-widgets/base",
            "_view_module_version": "1.2.0",
            "_view_name": "LayoutView",
            "align_content": null,
            "align_items": null,
            "align_self": null,
            "border": null,
            "bottom": null,
            "display": null,
            "flex": null,
            "flex_flow": null,
            "grid_area": null,
            "grid_auto_columns": null,
            "grid_auto_flow": null,
            "grid_auto_rows": null,
            "grid_column": null,
            "grid_gap": null,
            "grid_row": null,
            "grid_template_areas": null,
            "grid_template_columns": null,
            "grid_template_rows": null,
            "height": null,
            "justify_content": null,
            "justify_items": null,
            "left": null,
            "margin": null,
            "max_height": null,
            "max_width": null,
            "min_height": null,
            "min_width": null,
            "object_fit": null,
            "object_position": null,
            "order": null,
            "overflow": null,
            "overflow_x": null,
            "overflow_y": null,
            "padding": null,
            "right": null,
            "top": null,
            "visibility": null,
            "width": null
          }
        },
        "e00b08699b4942fa94fd92d35e4f9189": {
          "model_module": "@jupyter-widgets/controls",
          "model_name": "DescriptionStyleModel",
          "model_module_version": "1.5.0",
          "state": {
            "_model_module": "@jupyter-widgets/controls",
            "_model_module_version": "1.5.0",
            "_model_name": "DescriptionStyleModel",
            "_view_count": null,
            "_view_module": "@jupyter-widgets/base",
            "_view_module_version": "1.2.0",
            "_view_name": "StyleView",
            "description_width": ""
          }
        },
        "fdfecf95688a4a6fa05593de037c50ca": {
          "model_module": "@jupyter-widgets/controls",
          "model_name": "HBoxModel",
          "model_module_version": "1.5.0",
          "state": {
            "_dom_classes": [],
            "_model_module": "@jupyter-widgets/controls",
            "_model_module_version": "1.5.0",
            "_model_name": "HBoxModel",
            "_view_count": null,
            "_view_module": "@jupyter-widgets/controls",
            "_view_module_version": "1.5.0",
            "_view_name": "HBoxView",
            "box_style": "",
            "children": [
              "IPY_MODEL_19b2f69081be42ec8d7c4dc267040927",
              "IPY_MODEL_4c7749ccbd574597a0b679504420071b",
              "IPY_MODEL_7cf81bec2ddc49a8a9c733d77b86c63c"
            ],
            "layout": "IPY_MODEL_226554d11f2d42c0825dea9771d1fce8"
          }
        },
        "19b2f69081be42ec8d7c4dc267040927": {
          "model_module": "@jupyter-widgets/controls",
          "model_name": "HTMLModel",
          "model_module_version": "1.5.0",
          "state": {
            "_dom_classes": [],
            "_model_module": "@jupyter-widgets/controls",
            "_model_module_version": "1.5.0",
            "_model_name": "HTMLModel",
            "_view_count": null,
            "_view_module": "@jupyter-widgets/controls",
            "_view_module_version": "1.5.0",
            "_view_name": "HTMLView",
            "description": "",
            "description_tooltip": null,
            "layout": "IPY_MODEL_cd74e7e4ad744c02afbc6015c017c2a1",
            "placeholder": "​",
            "style": "IPY_MODEL_e673db673b9442038f68e3bcd67dfb53",
            "value": "100%"
          }
        },
        "4c7749ccbd574597a0b679504420071b": {
          "model_module": "@jupyter-widgets/controls",
          "model_name": "FloatProgressModel",
          "model_module_version": "1.5.0",
          "state": {
            "_dom_classes": [],
            "_model_module": "@jupyter-widgets/controls",
            "_model_module_version": "1.5.0",
            "_model_name": "FloatProgressModel",
            "_view_count": null,
            "_view_module": "@jupyter-widgets/controls",
            "_view_module_version": "1.5.0",
            "_view_name": "ProgressView",
            "bar_style": "success",
            "description": "",
            "description_tooltip": null,
            "layout": "IPY_MODEL_5119fa379a47420a9499460f051c7a38",
            "max": 50,
            "min": 0,
            "orientation": "horizontal",
            "style": "IPY_MODEL_3d34e14c75574eea8372305418d93761",
            "value": 50
          }
        },
        "7cf81bec2ddc49a8a9c733d77b86c63c": {
          "model_module": "@jupyter-widgets/controls",
          "model_name": "HTMLModel",
          "model_module_version": "1.5.0",
          "state": {
            "_dom_classes": [],
            "_model_module": "@jupyter-widgets/controls",
            "_model_module_version": "1.5.0",
            "_model_name": "HTMLModel",
            "_view_count": null,
            "_view_module": "@jupyter-widgets/controls",
            "_view_module_version": "1.5.0",
            "_view_name": "HTMLView",
            "description": "",
            "description_tooltip": null,
            "layout": "IPY_MODEL_01b0ca9c68064007b2a79d49603cafb4",
            "placeholder": "​",
            "style": "IPY_MODEL_4062b055e83b4bbf82507f61e1dfed4d",
            "value": " 50/50 [00:01&lt;00:00, 26.05it/s]"
          }
        },
        "226554d11f2d42c0825dea9771d1fce8": {
          "model_module": "@jupyter-widgets/base",
          "model_name": "LayoutModel",
          "model_module_version": "1.2.0",
          "state": {
            "_model_module": "@jupyter-widgets/base",
            "_model_module_version": "1.2.0",
            "_model_name": "LayoutModel",
            "_view_count": null,
            "_view_module": "@jupyter-widgets/base",
            "_view_module_version": "1.2.0",
            "_view_name": "LayoutView",
            "align_content": null,
            "align_items": null,
            "align_self": null,
            "border": null,
            "bottom": null,
            "display": null,
            "flex": null,
            "flex_flow": null,
            "grid_area": null,
            "grid_auto_columns": null,
            "grid_auto_flow": null,
            "grid_auto_rows": null,
            "grid_column": null,
            "grid_gap": null,
            "grid_row": null,
            "grid_template_areas": null,
            "grid_template_columns": null,
            "grid_template_rows": null,
            "height": null,
            "justify_content": null,
            "justify_items": null,
            "left": null,
            "margin": null,
            "max_height": null,
            "max_width": null,
            "min_height": null,
            "min_width": null,
            "object_fit": null,
            "object_position": null,
            "order": null,
            "overflow": null,
            "overflow_x": null,
            "overflow_y": null,
            "padding": null,
            "right": null,
            "top": null,
            "visibility": null,
            "width": null
          }
        },
        "cd74e7e4ad744c02afbc6015c017c2a1": {
          "model_module": "@jupyter-widgets/base",
          "model_name": "LayoutModel",
          "model_module_version": "1.2.0",
          "state": {
            "_model_module": "@jupyter-widgets/base",
            "_model_module_version": "1.2.0",
            "_model_name": "LayoutModel",
            "_view_count": null,
            "_view_module": "@jupyter-widgets/base",
            "_view_module_version": "1.2.0",
            "_view_name": "LayoutView",
            "align_content": null,
            "align_items": null,
            "align_self": null,
            "border": null,
            "bottom": null,
            "display": null,
            "flex": null,
            "flex_flow": null,
            "grid_area": null,
            "grid_auto_columns": null,
            "grid_auto_flow": null,
            "grid_auto_rows": null,
            "grid_column": null,
            "grid_gap": null,
            "grid_row": null,
            "grid_template_areas": null,
            "grid_template_columns": null,
            "grid_template_rows": null,
            "height": null,
            "justify_content": null,
            "justify_items": null,
            "left": null,
            "margin": null,
            "max_height": null,
            "max_width": null,
            "min_height": null,
            "min_width": null,
            "object_fit": null,
            "object_position": null,
            "order": null,
            "overflow": null,
            "overflow_x": null,
            "overflow_y": null,
            "padding": null,
            "right": null,
            "top": null,
            "visibility": null,
            "width": null
          }
        },
        "e673db673b9442038f68e3bcd67dfb53": {
          "model_module": "@jupyter-widgets/controls",
          "model_name": "DescriptionStyleModel",
          "model_module_version": "1.5.0",
          "state": {
            "_model_module": "@jupyter-widgets/controls",
            "_model_module_version": "1.5.0",
            "_model_name": "DescriptionStyleModel",
            "_view_count": null,
            "_view_module": "@jupyter-widgets/base",
            "_view_module_version": "1.2.0",
            "_view_name": "StyleView",
            "description_width": ""
          }
        },
        "5119fa379a47420a9499460f051c7a38": {
          "model_module": "@jupyter-widgets/base",
          "model_name": "LayoutModel",
          "model_module_version": "1.2.0",
          "state": {
            "_model_module": "@jupyter-widgets/base",
            "_model_module_version": "1.2.0",
            "_model_name": "LayoutModel",
            "_view_count": null,
            "_view_module": "@jupyter-widgets/base",
            "_view_module_version": "1.2.0",
            "_view_name": "LayoutView",
            "align_content": null,
            "align_items": null,
            "align_self": null,
            "border": null,
            "bottom": null,
            "display": null,
            "flex": null,
            "flex_flow": null,
            "grid_area": null,
            "grid_auto_columns": null,
            "grid_auto_flow": null,
            "grid_auto_rows": null,
            "grid_column": null,
            "grid_gap": null,
            "grid_row": null,
            "grid_template_areas": null,
            "grid_template_columns": null,
            "grid_template_rows": null,
            "height": null,
            "justify_content": null,
            "justify_items": null,
            "left": null,
            "margin": null,
            "max_height": null,
            "max_width": null,
            "min_height": null,
            "min_width": null,
            "object_fit": null,
            "object_position": null,
            "order": null,
            "overflow": null,
            "overflow_x": null,
            "overflow_y": null,
            "padding": null,
            "right": null,
            "top": null,
            "visibility": null,
            "width": null
          }
        },
        "3d34e14c75574eea8372305418d93761": {
          "model_module": "@jupyter-widgets/controls",
          "model_name": "ProgressStyleModel",
          "model_module_version": "1.5.0",
          "state": {
            "_model_module": "@jupyter-widgets/controls",
            "_model_module_version": "1.5.0",
            "_model_name": "ProgressStyleModel",
            "_view_count": null,
            "_view_module": "@jupyter-widgets/base",
            "_view_module_version": "1.2.0",
            "_view_name": "StyleView",
            "bar_color": null,
            "description_width": ""
          }
        },
        "01b0ca9c68064007b2a79d49603cafb4": {
          "model_module": "@jupyter-widgets/base",
          "model_name": "LayoutModel",
          "model_module_version": "1.2.0",
          "state": {
            "_model_module": "@jupyter-widgets/base",
            "_model_module_version": "1.2.0",
            "_model_name": "LayoutModel",
            "_view_count": null,
            "_view_module": "@jupyter-widgets/base",
            "_view_module_version": "1.2.0",
            "_view_name": "LayoutView",
            "align_content": null,
            "align_items": null,
            "align_self": null,
            "border": null,
            "bottom": null,
            "display": null,
            "flex": null,
            "flex_flow": null,
            "grid_area": null,
            "grid_auto_columns": null,
            "grid_auto_flow": null,
            "grid_auto_rows": null,
            "grid_column": null,
            "grid_gap": null,
            "grid_row": null,
            "grid_template_areas": null,
            "grid_template_columns": null,
            "grid_template_rows": null,
            "height": null,
            "justify_content": null,
            "justify_items": null,
            "left": null,
            "margin": null,
            "max_height": null,
            "max_width": null,
            "min_height": null,
            "min_width": null,
            "object_fit": null,
            "object_position": null,
            "order": null,
            "overflow": null,
            "overflow_x": null,
            "overflow_y": null,
            "padding": null,
            "right": null,
            "top": null,
            "visibility": null,
            "width": null
          }
        },
        "4062b055e83b4bbf82507f61e1dfed4d": {
          "model_module": "@jupyter-widgets/controls",
          "model_name": "DescriptionStyleModel",
          "model_module_version": "1.5.0",
          "state": {
            "_model_module": "@jupyter-widgets/controls",
            "_model_module_version": "1.5.0",
            "_model_name": "DescriptionStyleModel",
            "_view_count": null,
            "_view_module": "@jupyter-widgets/base",
            "_view_module_version": "1.2.0",
            "_view_name": "StyleView",
            "description_width": ""
          }
        },
        "56aee39ee0254cd399caa8b65fec895e": {
          "model_module": "@jupyter-widgets/controls",
          "model_name": "HBoxModel",
          "model_module_version": "1.5.0",
          "state": {
            "_dom_classes": [],
            "_model_module": "@jupyter-widgets/controls",
            "_model_module_version": "1.5.0",
            "_model_name": "HBoxModel",
            "_view_count": null,
            "_view_module": "@jupyter-widgets/controls",
            "_view_module_version": "1.5.0",
            "_view_name": "HBoxView",
            "box_style": "",
            "children": [
              "IPY_MODEL_aff73e1b1dbd46938fea5b83ccf74b48",
              "IPY_MODEL_9102c99d7af64ca4bf8d9851d5b906d3",
              "IPY_MODEL_6440cd6ebc324d77980512436218be17"
            ],
            "layout": "IPY_MODEL_e7c9ec0125a340728f0c648d401a2cd0"
          }
        },
        "aff73e1b1dbd46938fea5b83ccf74b48": {
          "model_module": "@jupyter-widgets/controls",
          "model_name": "HTMLModel",
          "model_module_version": "1.5.0",
          "state": {
            "_dom_classes": [],
            "_model_module": "@jupyter-widgets/controls",
            "_model_module_version": "1.5.0",
            "_model_name": "HTMLModel",
            "_view_count": null,
            "_view_module": "@jupyter-widgets/controls",
            "_view_module_version": "1.5.0",
            "_view_name": "HTMLView",
            "description": "",
            "description_tooltip": null,
            "layout": "IPY_MODEL_40bb5457d01c4369b5d163f43883f6c9",
            "placeholder": "​",
            "style": "IPY_MODEL_c9ca543cd49f43789db4b1529a6b4ad1",
            "value": "100%"
          }
        },
        "9102c99d7af64ca4bf8d9851d5b906d3": {
          "model_module": "@jupyter-widgets/controls",
          "model_name": "FloatProgressModel",
          "model_module_version": "1.5.0",
          "state": {
            "_dom_classes": [],
            "_model_module": "@jupyter-widgets/controls",
            "_model_module_version": "1.5.0",
            "_model_name": "FloatProgressModel",
            "_view_count": null,
            "_view_module": "@jupyter-widgets/controls",
            "_view_module_version": "1.5.0",
            "_view_name": "ProgressView",
            "bar_style": "success",
            "description": "",
            "description_tooltip": null,
            "layout": "IPY_MODEL_46561ab44cd34582a31aa4369f201a5a",
            "max": 50,
            "min": 0,
            "orientation": "horizontal",
            "style": "IPY_MODEL_166dd2bf6a07415d8a0edbc56c208bb7",
            "value": 50
          }
        },
        "6440cd6ebc324d77980512436218be17": {
          "model_module": "@jupyter-widgets/controls",
          "model_name": "HTMLModel",
          "model_module_version": "1.5.0",
          "state": {
            "_dom_classes": [],
            "_model_module": "@jupyter-widgets/controls",
            "_model_module_version": "1.5.0",
            "_model_name": "HTMLModel",
            "_view_count": null,
            "_view_module": "@jupyter-widgets/controls",
            "_view_module_version": "1.5.0",
            "_view_name": "HTMLView",
            "description": "",
            "description_tooltip": null,
            "layout": "IPY_MODEL_8d382228ae22445392ff1c05a7aa566b",
            "placeholder": "​",
            "style": "IPY_MODEL_68ca2890af2841c7954b9855cd43389a",
            "value": " 50/50 [00:02&lt;00:00, 20.07it/s]"
          }
        },
        "e7c9ec0125a340728f0c648d401a2cd0": {
          "model_module": "@jupyter-widgets/base",
          "model_name": "LayoutModel",
          "model_module_version": "1.2.0",
          "state": {
            "_model_module": "@jupyter-widgets/base",
            "_model_module_version": "1.2.0",
            "_model_name": "LayoutModel",
            "_view_count": null,
            "_view_module": "@jupyter-widgets/base",
            "_view_module_version": "1.2.0",
            "_view_name": "LayoutView",
            "align_content": null,
            "align_items": null,
            "align_self": null,
            "border": null,
            "bottom": null,
            "display": null,
            "flex": null,
            "flex_flow": null,
            "grid_area": null,
            "grid_auto_columns": null,
            "grid_auto_flow": null,
            "grid_auto_rows": null,
            "grid_column": null,
            "grid_gap": null,
            "grid_row": null,
            "grid_template_areas": null,
            "grid_template_columns": null,
            "grid_template_rows": null,
            "height": null,
            "justify_content": null,
            "justify_items": null,
            "left": null,
            "margin": null,
            "max_height": null,
            "max_width": null,
            "min_height": null,
            "min_width": null,
            "object_fit": null,
            "object_position": null,
            "order": null,
            "overflow": null,
            "overflow_x": null,
            "overflow_y": null,
            "padding": null,
            "right": null,
            "top": null,
            "visibility": null,
            "width": null
          }
        },
        "40bb5457d01c4369b5d163f43883f6c9": {
          "model_module": "@jupyter-widgets/base",
          "model_name": "LayoutModel",
          "model_module_version": "1.2.0",
          "state": {
            "_model_module": "@jupyter-widgets/base",
            "_model_module_version": "1.2.0",
            "_model_name": "LayoutModel",
            "_view_count": null,
            "_view_module": "@jupyter-widgets/base",
            "_view_module_version": "1.2.0",
            "_view_name": "LayoutView",
            "align_content": null,
            "align_items": null,
            "align_self": null,
            "border": null,
            "bottom": null,
            "display": null,
            "flex": null,
            "flex_flow": null,
            "grid_area": null,
            "grid_auto_columns": null,
            "grid_auto_flow": null,
            "grid_auto_rows": null,
            "grid_column": null,
            "grid_gap": null,
            "grid_row": null,
            "grid_template_areas": null,
            "grid_template_columns": null,
            "grid_template_rows": null,
            "height": null,
            "justify_content": null,
            "justify_items": null,
            "left": null,
            "margin": null,
            "max_height": null,
            "max_width": null,
            "min_height": null,
            "min_width": null,
            "object_fit": null,
            "object_position": null,
            "order": null,
            "overflow": null,
            "overflow_x": null,
            "overflow_y": null,
            "padding": null,
            "right": null,
            "top": null,
            "visibility": null,
            "width": null
          }
        },
        "c9ca543cd49f43789db4b1529a6b4ad1": {
          "model_module": "@jupyter-widgets/controls",
          "model_name": "DescriptionStyleModel",
          "model_module_version": "1.5.0",
          "state": {
            "_model_module": "@jupyter-widgets/controls",
            "_model_module_version": "1.5.0",
            "_model_name": "DescriptionStyleModel",
            "_view_count": null,
            "_view_module": "@jupyter-widgets/base",
            "_view_module_version": "1.2.0",
            "_view_name": "StyleView",
            "description_width": ""
          }
        },
        "46561ab44cd34582a31aa4369f201a5a": {
          "model_module": "@jupyter-widgets/base",
          "model_name": "LayoutModel",
          "model_module_version": "1.2.0",
          "state": {
            "_model_module": "@jupyter-widgets/base",
            "_model_module_version": "1.2.0",
            "_model_name": "LayoutModel",
            "_view_count": null,
            "_view_module": "@jupyter-widgets/base",
            "_view_module_version": "1.2.0",
            "_view_name": "LayoutView",
            "align_content": null,
            "align_items": null,
            "align_self": null,
            "border": null,
            "bottom": null,
            "display": null,
            "flex": null,
            "flex_flow": null,
            "grid_area": null,
            "grid_auto_columns": null,
            "grid_auto_flow": null,
            "grid_auto_rows": null,
            "grid_column": null,
            "grid_gap": null,
            "grid_row": null,
            "grid_template_areas": null,
            "grid_template_columns": null,
            "grid_template_rows": null,
            "height": null,
            "justify_content": null,
            "justify_items": null,
            "left": null,
            "margin": null,
            "max_height": null,
            "max_width": null,
            "min_height": null,
            "min_width": null,
            "object_fit": null,
            "object_position": null,
            "order": null,
            "overflow": null,
            "overflow_x": null,
            "overflow_y": null,
            "padding": null,
            "right": null,
            "top": null,
            "visibility": null,
            "width": null
          }
        },
        "166dd2bf6a07415d8a0edbc56c208bb7": {
          "model_module": "@jupyter-widgets/controls",
          "model_name": "ProgressStyleModel",
          "model_module_version": "1.5.0",
          "state": {
            "_model_module": "@jupyter-widgets/controls",
            "_model_module_version": "1.5.0",
            "_model_name": "ProgressStyleModel",
            "_view_count": null,
            "_view_module": "@jupyter-widgets/base",
            "_view_module_version": "1.2.0",
            "_view_name": "StyleView",
            "bar_color": null,
            "description_width": ""
          }
        },
        "8d382228ae22445392ff1c05a7aa566b": {
          "model_module": "@jupyter-widgets/base",
          "model_name": "LayoutModel",
          "model_module_version": "1.2.0",
          "state": {
            "_model_module": "@jupyter-widgets/base",
            "_model_module_version": "1.2.0",
            "_model_name": "LayoutModel",
            "_view_count": null,
            "_view_module": "@jupyter-widgets/base",
            "_view_module_version": "1.2.0",
            "_view_name": "LayoutView",
            "align_content": null,
            "align_items": null,
            "align_self": null,
            "border": null,
            "bottom": null,
            "display": null,
            "flex": null,
            "flex_flow": null,
            "grid_area": null,
            "grid_auto_columns": null,
            "grid_auto_flow": null,
            "grid_auto_rows": null,
            "grid_column": null,
            "grid_gap": null,
            "grid_row": null,
            "grid_template_areas": null,
            "grid_template_columns": null,
            "grid_template_rows": null,
            "height": null,
            "justify_content": null,
            "justify_items": null,
            "left": null,
            "margin": null,
            "max_height": null,
            "max_width": null,
            "min_height": null,
            "min_width": null,
            "object_fit": null,
            "object_position": null,
            "order": null,
            "overflow": null,
            "overflow_x": null,
            "overflow_y": null,
            "padding": null,
            "right": null,
            "top": null,
            "visibility": null,
            "width": null
          }
        },
        "68ca2890af2841c7954b9855cd43389a": {
          "model_module": "@jupyter-widgets/controls",
          "model_name": "DescriptionStyleModel",
          "model_module_version": "1.5.0",
          "state": {
            "_model_module": "@jupyter-widgets/controls",
            "_model_module_version": "1.5.0",
            "_model_name": "DescriptionStyleModel",
            "_view_count": null,
            "_view_module": "@jupyter-widgets/base",
            "_view_module_version": "1.2.0",
            "_view_name": "StyleView",
            "description_width": ""
          }
        }
      }
    }
  },
  "cells": [
    {
      "cell_type": "markdown",
      "source": [
        "# Few Shot Learning Tutorial\n",
        "\n",
        "#### This tutorial was prepared by Yuli Slavutsky as part of the Few-Shot leaning workshop for the Israeli Statistical Association.\n",
        "#### Contact: yuli.slavutsky@mail.huji.ac.il\n",
        "#### Git: https://github.com/YuliSl"
      ],
      "metadata": {
        "id": "vv7qtSVEL4Ua"
      }
    },
    {
      "cell_type": "markdown",
      "source": [
        "All notation in this notebook follows the tutorial slides. For convinience, some of the relevant functions and definitions are provided here. <br>\n",
        "\n",
        "This tutorial is implemented in tensorflow. Since some participants may not be familiar with the syntax, all the needed tensorflow functions are provided. Through the tutorial there are also a few comments explaining basic commands you may need to experiment with the provided code.\n",
        "\n"
      ],
      "metadata": {
        "id": "vtXstrHHwSOj"
      }
    },
    {
      "cell_type": "code",
      "source": [
        "! pip install tensorflow_addons"
      ],
      "metadata": {
        "colab": {
          "base_uri": "https://localhost:8080/"
        },
        "id": "FlmaEiro6kZp",
        "outputId": "eb728a6b-36f7-4e68-8395-e6fe48200796"
      },
      "execution_count": null,
      "outputs": [
        {
          "output_type": "stream",
          "name": "stdout",
          "text": [
            "Looking in indexes: https://pypi.org/simple, https://us-python.pkg.dev/colab-wheels/public/simple/\n",
            "Requirement already satisfied: tensorflow_addons in /usr/local/lib/python3.8/dist-packages (0.18.0)\n",
            "Requirement already satisfied: typeguard>=2.7 in /usr/local/lib/python3.8/dist-packages (from tensorflow_addons) (2.7.1)\n",
            "Requirement already satisfied: packaging in /usr/local/lib/python3.8/dist-packages (from tensorflow_addons) (21.3)\n",
            "Requirement already satisfied: pyparsing!=3.0.5,>=2.0.2 in /usr/local/lib/python3.8/dist-packages (from packaging->tensorflow_addons) (3.0.9)\n"
          ]
        }
      ]
    },
    {
      "cell_type": "code",
      "execution_count": null,
      "metadata": {
        "id": "Qi1jwDPm4DK6"
      },
      "outputs": [],
      "source": [
        "import numpy as np\n",
        "import tensorflow as tf\n",
        "import tensorflow_addons as tfa\n",
        "import tensorflow_datasets as tfds\n",
        "\n",
        "import matplotlib.pyplot as plt\n",
        "from tqdm.notebook import tqdm \n",
        "\n",
        "import random"
      ]
    },
    {
      "cell_type": "markdown",
      "source": [
        "The following cell prints the versions of the main libraries used in this tutorial. \n",
        "Please ensure the libraries are loaded in the versions detailed in the following comment. If that is not the case, you can install the specific versions using a pip command in a new cell. For example:\n",
        "\n",
        "```\n",
        "! pip install tensorflow==2.9.2 \n",
        "```\n",
        "\n"
      ],
      "metadata": {
        "id": "WTX7Tcfnuic-"
      }
    },
    {
      "cell_type": "code",
      "source": [
        "print(\"tensorflow version: {}, tensorflow_addons version: {}, numpy version: {}\".format(tf.__version__, tfa.__version__, np.__version__)) \n",
        "# tensorflow version: 2.9.2, tensorflow_addons version: 0.18.0, numpy version: 1.21.6"
      ],
      "metadata": {
        "colab": {
          "base_uri": "https://localhost:8080/"
        },
        "id": "hP-03KHKzMxS",
        "outputId": "fca0b8ce-91f8-4768-a2c7-fdc79d651792"
      },
      "execution_count": null,
      "outputs": [
        {
          "output_type": "stream",
          "name": "stdout",
          "text": [
            "tensorflow version: 2.9.2, tensorflow_addons version: 0.18.0, numpy version: 1.21.6\n"
          ]
        }
      ]
    },
    {
      "cell_type": "code",
      "source": [
        "random.seed(1)\n",
        "np.random.seed(1)\n",
        "tf.random.set_seed(1)"
      ],
      "metadata": {
        "id": "C4dsm5zSUpMl"
      },
      "execution_count": null,
      "outputs": []
    },
    {
      "cell_type": "markdown",
      "source": [
        "## Loss functions <br>"
      ],
      "metadata": {
        "id": "k3U0J4tj6uRs"
      }
    },
    {
      "cell_type": "markdown",
      "source": [
        "We start with the cross-entropy loss which is commonly used for standard classification tasks (that is with large amounts of labeled examples from each class).  <br>\n",
        "$\\ell(x_i, y_i)=-\\sum_{k=1}^K -y_i^{(m)} \\log h(x_i)$   \n",
        "$L_T = \\sum_i \\ell(x_i, y_i)$ <br>\n",
        "where $K$ the number of classes, $y_i$ is a one-hot label vactor (of length $K$, equals 1 at the component corresponding to the correct class, and 0 otherwise), and h(x_i) is a vector of the scores the classifier assigns for $x_i$ to belong to each class. <br>\n",
        "We will use it for comparison purposes."
      ],
      "metadata": {
        "id": "eKVgDGwoI5wr"
      }
    },
    {
      "cell_type": "code",
      "source": [
        "def softamx_loss(X_hat, Y):\n",
        "  return tf.nn.softmax_cross_entropy_with_logits(labels=Y, logits=X_hat)"
      ],
      "metadata": {
        "id": "ficG0QhkI5Qr"
      },
      "execution_count": null,
      "outputs": []
    },
    {
      "cell_type": "markdown",
      "source": [
        "Sometimes we will need to flatten Y to a vector $Y \\in \\mathbb{R}^{N}$ rather than a a matrix with N rows and column $Y \\in \\mathbb{R}^{N \\times 1}$. <br>\n",
        "We can do this by the following command: \n",
        "\n",
        "```\n",
        "tf.reshape(Y, -1)\n",
        "```\n",
        "\n",
        "or\n",
        "\n",
        "\n",
        "```\n",
        "tf.reshape(Y, [-1,1])\n",
        "```\n",
        "to convert a vector into a matrix. <br>"
      ],
      "metadata": {
        "id": "9VrXiqbFtiId"
      }
    },
    {
      "cell_type": "code",
      "source": [
        "def binary_to_onehot(Y):\n",
        "  Y_flat = tf.reshape(Y, -1)\n",
        "  onehot = tf.stack([Y_flat, 1-Y_flat], axis=1)\n",
        "  return onehot"
      ],
      "metadata": {
        "id": "NDsALcjudNTu"
      },
      "execution_count": null,
      "outputs": []
    },
    {
      "cell_type": "markdown",
      "source": [
        "Most deep learning libraries (including tensorflow) include built in functions for the few-shot loss functions we learned. <br>\n",
        "The same is true for the learning process. \n",
        "However, to gain better intuition here we will implement everything ourselves.<br>\n",
        "\n",
        "All the few-shot loss functions we learned rely on the distance between data-points. Therefore we first implement the distance function."
      ],
      "metadata": {
        "id": "xpJz9FBOo00d"
      }
    },
    {
      "cell_type": "code",
      "source": [
        "def square_norm(w, axs=[1]):\n",
        "    return tf.reduce_sum(tf.math.square(w), axis=axs)"
      ],
      "metadata": {
        "id": "hmMVG_IuHnAd"
      },
      "execution_count": null,
      "outputs": []
    },
    {
      "cell_type": "markdown",
      "source": [
        "Tensorflow commands for summary metrics such as sum, mean, and max have the following syntax. More details can be found here: [https://www.tensorflow.org/api_docs/python/tf/math](https://www.tensorflow.org/api_docs/python/tf/math)\n",
        "\n",
        "```\n",
        "tf.reduce_sum(), tf.reduce_mean(), tf.reduce_max()\n",
        "```"
      ],
      "metadata": {
        "id": "L_Ub89X2vfQR"
      }
    },
    {
      "cell_type": "markdown",
      "source": [
        "### Siamese loss"
      ],
      "metadata": {
        "id": "5rACcPSMxfDR"
      }
    },
    {
      "cell_type": "markdown",
      "source": [
        "For some representation function $g$ parametrized by $\\theta$, we denote the representation of a single instance $x$ by $\\hat{x} = g(x; \\theta)$"
      ],
      "metadata": {
        "id": "XJ1fAxTFx-XO"
      }
    },
    {
      "cell_type": "markdown",
      "source": [
        "$d_{ij}=\\Vert \\hat{X_i} - \\hat{X_j} \\Vert ^2$ <br>\n",
        "$\\ell(x_i, x_j) =  -\\left[ I_{\\{y_i=y_j\\}} \\log \\sigma(d_{ij}) +\\left(1-I_{\\{y_i=y_j\\}} \\log\\left(1-\\sigma(d_{ij}) \\right) \\right) \\right]$ <br>\n",
        "$ L_T\t=\\sum_{i,j}\\ell\\left(X_i, X_j; \\theta \\right)$"
      ],
      "metadata": {
        "id": "nWhFQTFbnE-W"
      }
    },
    {
      "cell_type": "code",
      "source": [
        "def siamese_loss(X, Y):\n",
        "  dists = -tf.cast(square_norm(X[0] - X[1]), tf.float32)\n",
        "  loss = tf.nn.sigmoid_cross_entropy_with_logits(labels=tf.reshape(Y,-1), logits=dists) #applies logistic loss on negative distances as logits\n",
        "  return loss"
      ],
      "metadata": {
        "id": "NQVMD-Y0n_z6"
      },
      "execution_count": null,
      "outputs": []
    },
    {
      "cell_type": "markdown",
      "source": [
        "### Triplet Loss: <br>\n",
        " $ \\ell(X_a, X_p, X_n; \\theta) = \\max\\left(\\left\\Vert \\hat{X}_a - \\hat{X}_p\\right\\Vert^2  -\n",
        "\\left\\Vert \\hat{X}_a - \\hat{X}_n\\right\\Vert^2 + \\alpha, 0\\right)$ <br>\n",
        "$L_T = \\frac{1}{N} \\sum_{i=1}^{N}  \\ell \\left(X_{a}^{(i)},X_{p}^{(i)},X_{n}^{(i)};\\theta \\right)$\n"
      ],
      "metadata": {
        "id": "y2oSZEm_5C1j"
      }
    },
    {
      "cell_type": "code",
      "source": [
        "def triplet_loss(Xa, Xp, Xn, alpha=1.0):\n",
        "  D = len(Xa)\n",
        "  loss = tf.cast(square_norm(Xa - Xp) - square_norm(Xa - Xn) + alpha, tf.float32)\n",
        "  loss = tf.reduce_max([loss, tf.zeros(D)], axis=0)\n",
        "  return loss"
      ],
      "metadata": {
        "id": "R5sqfw_i7L76"
      },
      "execution_count": null,
      "outputs": []
    },
    {
      "cell_type": "markdown",
      "source": [
        "### Contrastive loss: <br>\n",
        "$ \\ell(X_i, X_j; \\theta) =  (1-I_{\\{y_i=y_j\\}}) \\frac{1}{2} \\left\\Vert \\hat{X}_i - \\hat{X}_j\\right\\Vert^2 + I_{\\{y_i=y_j\\}} \\frac{1}{2} \\left[ \\max \\left(\\alpha -  \\left\\Vert \\hat{X}_i - \\hat{X}_j\\right\\Vert, 0 \\right)\\right]^2 $ \n",
        "<br>\n",
        "*$ L_T\t=\\sum_{i,j}\\ell\\left(X_i, X_j; \\theta \\right)$*"
      ],
      "metadata": {
        "id": "3KiaAXllVioJ"
      }
    },
    {
      "cell_type": "code",
      "source": [
        "def contrastive_loss(X, Y, alpha=1.0):\n",
        "  D = X.shape[1]\n",
        "  dist = square_norm(X[0] - X[1])\n",
        "  l0 = tf.reshape(1-Y, -1) * tf.reduce_max([alpha - dist,  tf.zeros(D)], axis=0)**2 \n",
        "  l1 = tf.reshape(Y, -1) * dist\n",
        "  loss = 0.5 * (l0 + l1)\n",
        "  return loss"
      ],
      "metadata": {
        "id": "yzcmE3s5c50p"
      },
      "execution_count": null,
      "outputs": []
    },
    {
      "cell_type": "markdown",
      "source": [
        "### Data arrangement"
      ],
      "metadata": {
        "id": "YhxFffqvtiaz"
      }
    },
    {
      "cell_type": "markdown",
      "source": [
        "For siamese-networks we will need pairs of data points, and for triplet-networks triplets. <br>\n",
        "We will therefore generate triplets (from which we can subset pairs). "
      ],
      "metadata": {
        "id": "PvKuRkTFKZSM"
      }
    },
    {
      "cell_type": "markdown",
      "source": [
        "We will often use the function\n",
        "```\n",
        "tf.gather(array, indices) \n",
        "```\n",
        "that returns the values of the array at the indicated indices (see\n",
        "[https://www.tensorflow.org/api_docs/python/tf/gather](https://www.tensorflow.org/api_docs/python/tf/gather))\n"
      ],
      "metadata": {
        "id": "8GBun56Xy5I-"
      }
    },
    {
      "cell_type": "code",
      "source": [
        "def make_triplets(X, Y, n_triplets=None):\n",
        "  N = len(X)\n",
        "  if n_triplets is None:\n",
        "    n_triplets = N\n",
        "\n",
        "  # sample anchors\n",
        "  idx = np.random.choice(N, n_triplets)\n",
        "  anchors = tf.gather(X, idx)\n",
        "  anchor_classes = tf.gather(Y, idx)\n",
        "\n",
        "  positives = []\n",
        "  negatives = []\n",
        "  for i, x in enumerate(anchors):\n",
        "    y = tf.gather(anchor_classes, i)\n",
        "    # select one data point from the same class as the anchor\n",
        "    positives.append(tf.gather(X, np.random.choice(np.where(Y==y)[0])))\n",
        "    # select one data point from a different class from the anchor's class\n",
        "    negatives.append(tf.gather(X, np.random.choice(np.where(Y!=y)[0])))\n",
        "\n",
        "  return anchors, tf.stack(positives), tf.stack(negatives)"
      ],
      "metadata": {
        "id": "ftl-TBTfK3Px"
      },
      "execution_count": null,
      "outputs": []
    },
    {
      "cell_type": "code",
      "source": [
        "def make_pairs(Xa, Xp, Xn):\n",
        "  N = len(Xa)\n",
        "  half_N = N//2\n",
        "  #shuffle\n",
        "  random_idx = np.random.choice(N, N)\n",
        "  Xa, Xp, Xn = tf.gather(Xa, random_idx), tf.gather(Xp, random_idx), tf.gather(Xn, random_idx)\n",
        "  # take half of pairs to be positive and half negative\n",
        "  X_pos = tf.stack([tf.gather(Xa, np.array(range(0,half_N))), tf.gather(Xp, np.array(range(0,half_N)))])\n",
        "  X_neg = tf.stack([tf.gather(Xa, np.array(range(half_N,N))), tf.gather(Xn, np.array(range(half_N,N)))])\n",
        "  X = tf.concat([X_pos, X_neg], axis=1)\n",
        "  Y = tf.reshape(tf.concat([tf.ones(half_N), tf.zeros(half_N)], axis=0), [-1,1])\n",
        "  return X,Y"
      ],
      "metadata": {
        "id": "niLI8AmWY0Ji"
      },
      "execution_count": null,
      "outputs": []
    },
    {
      "cell_type": "code",
      "source": [
        "def compute_loss(X_hat, Y, method, alpha=None):\n",
        "  if method=='cross-entropy':\n",
        "    loss = tf.reduce_mean(softamx_loss(X_hat, Y))\n",
        "  else:\n",
        "    # create triplets\n",
        "    Xa, Xp, Xn = make_triplets(X_hat, Y)\n",
        "    if method=='triplet':\n",
        "      # compute triplet loss\n",
        "      loss = tf.reduce_mean(triplet_loss(Xa, Xp, Xn, alpha))\n",
        "    else:\n",
        "      # subset pairs\n",
        "      pairs_X, pairs_Y = make_pairs(Xa, Xp, Xn)\n",
        "      # compute loss by required method\n",
        "      if method == 'siamese':\n",
        "        loss = tf.reduce_mean(siamese_loss(pairs_X, pairs_Y))\n",
        "      elif method =='contrastive':\n",
        "        loss = tf.reduce_mean(contrastive_loss(pairs_X, pairs_Y, alpha))\n",
        "      else:\n",
        "        raise Exception('unsupported loss')\n",
        "  return loss"
      ],
      "metadata": {
        "id": "ZASntBNbr9Wd"
      },
      "execution_count": null,
      "outputs": []
    },
    {
      "cell_type": "markdown",
      "source": [
        "## 1 Synthetic data <br>"
      ],
      "metadata": {
        "id": "psL94Fnh00k3"
      }
    },
    {
      "cell_type": "markdown",
      "source": [
        "### 1.1 Understanding the loss functions on a binary classification task\n",
        "\n",
        "```\n",
        "# This is formatted as code\n",
        "```\n",
        "\n"
      ],
      "metadata": {
        "id": "AmqS2IA003_K"
      }
    },
    {
      "cell_type": "markdown",
      "source": [
        "We will start with a relatively simple example. <br>\n",
        "Our first data-set will consist of 5-dimensional vectors from 2 classes.\n",
        "The first two dimensions (signal) will be sampled from 2-dimensional Normal distributions:<br>\n",
        "$\\mathcal{N}\\left(\\mu_{1},\\sum_1\\right),\\: \\mathcal{N}\\left(\\mu_{2},\\sum_2\\right)$\n",
        "where $\\mu_1,\\mu_2 \\in \\mathbb{R}^2$ and $\\sum_1, \\sum_2 \\in \\mathbb{R}^{2 \\times 2}$.<br>\n",
        "The additional 3 dimensions will include noise sampled from the same distribution for both classes."
      ],
      "metadata": {
        "id": "rpQeiGye7p1_"
      }
    },
    {
      "cell_type": "code",
      "source": [
        "mus = np.array([[-1.5, -2], [1.5, 1.5]]) # expectations\n",
        "signal_d = len(mus[0]) # signal dimension\n",
        "sigmas = [np.eye(signal_d), np.array([[1, 0.5], [0.5,1]])] # covariances\n",
        "\n",
        "noise_d = 3 # noise dimension\n",
        "\n",
        "noise_mu = np.zeros(noise_d) # noise expectation\n",
        "noise_sigma = 0.1*np.eye(noise_d) # noise covariance"
      ],
      "metadata": {
        "id": "SfeJYTu3e9o7"
      },
      "execution_count": null,
      "outputs": []
    },
    {
      "cell_type": "code",
      "source": [
        "k = 2 # number of classes\n",
        "n = 5000 # number of data points in each class in train_set\n",
        "n_test = 1000 # number of data points in each class in test\n",
        "N = n*k # total number of data points in train\n",
        "D = signal_d + noise_d # data dimension\n",
        "\n",
        "# sample signal and noise from respective gaussian distributions\n",
        "train_signal = np.array([np.random.multivariate_normal(mus[i], sigmas[i], size=n) for i in range(k)])\n",
        "train_noise = np.array([np.random.multivariate_normal(noise_mu, noise_sigma, size=n) for i in range(k)])\n",
        "\n",
        "test_signal = np.array([np.random.multivariate_normal(mus[i], sigmas[i], size=n_test) for i in range(k)])\n",
        "test_noise = np.array([np.random.multivariate_normal(noise_mu, noise_sigma, size=n_test) for i in range(k)])\n"
      ],
      "metadata": {
        "id": "n8RA_XJfA6eP"
      },
      "execution_count": null,
      "outputs": []
    },
    {
      "cell_type": "markdown",
      "source": [
        "The data we generate is relatively well separated in the first two (signal) dimensions:"
      ],
      "metadata": {
        "id": "WncF_tKj2yPh"
      }
    },
    {
      "cell_type": "code",
      "source": [
        "plt.scatter(train_signal[0,:,0], train_signal[0,:,1], label=\"class 0\", alpha=0.5)\n",
        "plt.scatter(train_signal[1,:,0], train_signal[1,:,1], label=\"class 1\", alpha=0.5)\n",
        "plt.legend()\n",
        "plt.title(\"Train signal data\");"
      ],
      "metadata": {
        "colab": {
          "base_uri": "https://localhost:8080/"
        },
        "id": "EtrYS8fR1pOV",
        "outputId": "1377399c-ae6d-48d9-f958-b9defadeb1c2"
      },
      "execution_count": null,
      "outputs": [
        {
          "output_type": "display_data",
          "data": {
            "text/plain": [
              "<Figure size 432x288 with 1 Axes>"
            ],
            "image/png": "[encoded data removed]"
          },
          "metadata": {
            "needs_background": "light"
          }
        }
      ]
    },
    {
      "cell_type": "code",
      "source": [
        "# data marix with noise padding \n",
        "\n",
        "def generate_data(signal, noise, generate_Y=True):\n",
        "  n = signal.shape[1]\n",
        "  X = np.concatenate([signal, noise], axis=2) # concatenate 2-dimensional signal and 3-dimensional noise into 5-dimensional array\n",
        "  X = np.concatenate(X, axis=0) # concatenate the separate arrays of each class (n rows each) to one array with 2n rows\n",
        "  Y = np.hstack([np.zeros(n), np.ones(n)]).reshape(-1, 1) # create label indicating from which class (0 or 1) each data point is. Assumes ordered X array.\n",
        "  if generate_Y:\n",
        "    res = X, Y\n",
        "  else:\n",
        "    res = X\n",
        "  return res"
      ],
      "metadata": {
        "id": "zbnHO3jHCx8K"
      },
      "execution_count": null,
      "outputs": []
    },
    {
      "cell_type": "code",
      "source": [
        "train_X, train_Y =  generate_data(train_signal, train_noise)\n",
        "test_X, test_Y =  generate_data(test_signal, test_noise)"
      ],
      "metadata": {
        "id": "1_BRZF8LJN5Y"
      },
      "execution_count": null,
      "outputs": []
    },
    {
      "cell_type": "markdown",
      "source": [
        "#### Data representation"
      ],
      "metadata": {
        "id": "3M8rNSWtKVj2"
      }
    },
    {
      "cell_type": "markdown",
      "source": [
        "To apply the loss functions, we will need a representation function with some parameters $\\theta$. <br>\n",
        "We will use a neural network with a single two-dimensional layer, and consider it weights as $\\theta$. <br>\n",
        "\n",
        "Note that when using cross-entropy loss a single-layer neural network is simply a logistic regression (optimized via gradient descent). That is not the case anymore for the rest of the loss functions we implemented here."
      ],
      "metadata": {
        "id": "uk0Z1ZDCFCQS"
      }
    },
    {
      "cell_type": "code",
      "source": [
        "def init_representation(additional_layer_size=0):\n",
        "    g = tf.keras.models.Sequential()\n",
        "    g.add(tf.keras.layers.Dense(2))\n",
        "    return g"
      ],
      "metadata": {
        "id": "FhSSr1TVFBQJ"
      },
      "execution_count": null,
      "outputs": []
    },
    {
      "cell_type": "markdown",
      "source": [
        "To apply the representation function on a set of examples you can use\n",
        "\n",
        "```\n",
        "Xs_hat = g(Xs)\n",
        "```\n",
        "\n"
      ],
      "metadata": {
        "id": "7Mm4iWACe0yU"
      }
    },
    {
      "cell_type": "markdown",
      "source": [
        "#### Training"
      ],
      "metadata": {
        "id": "X8yoWdUef__q"
      }
    },
    {
      "cell_type": "code",
      "source": [
        "def sample_batch(X, Y, batch_size):\n",
        "    N = len(X)\n",
        "    batch_idx = np.random.choice(N, batch_size, replace=False)\n",
        "    return tf.gather(X, batch_idx), tf.gather(Y, batch_idx)"
      ],
      "metadata": {
        "id": "QUuF1zULT78c"
      },
      "execution_count": null,
      "outputs": []
    },
    {
      "cell_type": "code",
      "source": [
        "def train(train_X, train_Y, test_X, test_Y, itrs, loss_method, alpha=1.0, lr=0.01, batch_size=32, additional_layer_size=0, initialize=True, validate=True, pretrained_model=None):\n",
        "  \n",
        "  if initialize:\n",
        "    # initialize representation\n",
        "    g = init_representation(additional_layer_size)\n",
        "  else:\n",
        "    g = pretrained_model\n",
        "\n",
        "  optimizer = tf.keras.optimizers.Adam(learning_rate=lr)\n",
        "\n",
        "  for itr in tqdm(range(itrs)):\n",
        "    \n",
        "    batch_classes = 0\n",
        "    # sample batch, ensuring to have at least 2 different classes\n",
        "    while batch_classes < 2:\n",
        "      batch_X, batch_Y = sample_batch(train_X, train_Y, batch_size)\n",
        "      batch_classes = len(np.unique(batch_Y))\n",
        "\n",
        "    with tf.GradientTape() as tape:\n",
        "      # apply representation\n",
        "      batch_X_hat = g(batch_X) \n",
        "\n",
        "      # compute loss\n",
        "      loss = compute_loss(batch_X_hat, batch_Y, loss_method, alpha)\n",
        "      theta = g.trainable_weights\n",
        "\n",
        "    # optimization step\n",
        "    grads = tape.gradient(loss, theta)\n",
        "    optimizer.apply_gradients(zip(grads, theta))\n",
        "\n",
        "    if itr % 25 == 0:\n",
        "      print(\"iteration {}, train loss {:.3f}\".format(itr, loss.numpy()))\n",
        "\n",
        "    test_X_hat = None\n",
        "    if validate:\n",
        "      if itr == itrs -1:\n",
        "        # evaluate loss on test set\n",
        "        test_X_hat = g(test_X)\n",
        "        test_loss = compute_loss(test_X_hat, test_Y, loss_method, alpha).numpy()\n",
        "        print(\"iteration {}, train loss {:.3f}, test loss {:.3f}\".format(itr, loss.numpy(), test_loss))\n",
        "\n",
        "    if loss < -1e20:\n",
        "      break\n",
        "    \n",
        "  return g, test_X_hat"
      ],
      "metadata": {
        "id": "48asB0uRgWGl"
      },
      "execution_count": null,
      "outputs": []
    },
    {
      "cell_type": "markdown",
      "source": [
        "## <font color='purple'> Using the \"train\" function we can compare results and representations leared by the different losses.  Try it out. You can also try changing the margin $\\alpha$ and the data parameters."
      ],
      "metadata": {
        "id": "U9gJiUoG57x4"
      }
    },
    {
      "cell_type": "markdown",
      "source": [
        "For example, you can use\n",
        "\n",
        "\n",
        "```\n",
        "siamese_model, siamese_X_hat = train(train_X, train_Y, test_X, test_Y, itrs=500, loss_method=\"siamese\", \n",
        "                                     alpha=1.0, lr=0.01, batch_size=32)\n",
        "```\n",
        "\n",
        "A good inndication that the model succeeds to learn is when the loss id reduced along the iterations. While you see a significant reduction, the model may benefit from adding iterations. You can continue the training from where you left off by using the flag \n",
        "\n",
        "```\n",
        "initialize = False\n",
        "```\n",
        "and passing the model\n",
        "```\n",
        "pretrained_model = siamese_model\n",
        "```"
      ],
      "metadata": {
        "id": "WKvvHjyb6hCL"
      }
    },
    {
      "cell_type": "code",
      "source": [
        "# Your code comes here"
      ],
      "metadata": {
        "id": "H2sVppfhNo0X"
      },
      "execution_count": null,
      "outputs": []
    },
    {
      "cell_type": "markdown",
      "source": [
        "This is a  simple  binary classification task, and therefore all the models should perform relatively welll. Now we will to a setting with more classes, and only a few training examples for each class."
      ],
      "metadata": {
        "id": "F5cYXera0c56"
      }
    },
    {
      "cell_type": "markdown",
      "source": [
        "### 1.2 Multi-class classification with few examples\n"
      ],
      "metadata": {
        "id": "CEtU_Oxt1M4K"
      }
    },
    {
      "cell_type": "markdown",
      "source": [
        "For this part we will continue using 5-dimensional vectors, where the first two dimensions (signal) will be sampled from 2-dimensional Normal distributions:\n",
        "$\\mathcal{N}\\left(\\mu_{j},\\Sigma_j\\right), \\; 1 \\leq j \\leq K $ where $\\mu_j\\in \\mathbb{R}^2$ and $\\Sigma_j \\in \\mathbb{R}^{2 \\times 2}$.<br>\n",
        "As before, The additional 3 dimensions will include noise sampled from the same distribution for all classes. <br>\n",
        "\n",
        "However, this time we will use K different classes and generate the corresponding distributions $\\mathcal{N}\\left(\\mu_{j},\\Sigma_j\\right)$ randomly. <br>\n",
        "We will sample the means $\\mu_j$ from a Normal bi-variate distribution $\\mathcal{N}\\left(0,kI\\right)$. <br>\n",
        "For the covariance matricies we will generate matricies $A_j$ with uniform values $U(0,1)$. To get symmetric positive-semidefinite matrices we will set $\\Sigma_j = A_j^TA_j.$\n",
        "\n"
      ],
      "metadata": {
        "id": "hj4KicS01-lt"
      }
    },
    {
      "cell_type": "code",
      "source": [
        "k = 50 # number of classes\n",
        "n = 5 # number of data points in each class in train_set\n",
        "n_test = 5 # number of data points in each class in test\n",
        "N = n*k # total number of data points in train"
      ],
      "metadata": {
        "id": "pZGemE1417UB"
      },
      "execution_count": null,
      "outputs": []
    },
    {
      "cell_type": "code",
      "source": [
        "# sample expectations from bi-variate normal distribution\n",
        "mus = np.random.multivariate_normal(np.zeros(2), k*np.eye(2), size=k)\n",
        "\n",
        "# sample 2x2 matricies with values sampled from U(0,1)\n",
        "A_matricies = np.random.rand(k, 2, 2)\n",
        "# quadratic form to transform each A matrix to a symmetric positive-semidefinite matrix\n",
        "sigmas = np.array([np.dot(A, A.transpose()) for A in A_matricies])"
      ],
      "metadata": {
        "id": "-vLYD-I05ggG"
      },
      "execution_count": null,
      "outputs": []
    },
    {
      "cell_type": "code",
      "source": [
        "# sample signal and noise from respective gaussian distributions\n",
        "train_signal = np.array([np.random.multivariate_normal(mus[i], sigmas[i], size=n) for i in range(k)])\n",
        "train_noise = np.array([np.random.multivariate_normal(noise_mu, noise_sigma, size=n) for i in range(k)])\n",
        "\n",
        "test_signal = np.array([np.random.multivariate_normal(mus[i], sigmas[i], size=n_test) for i in range(k)])\n",
        "test_noise = np.array([np.random.multivariate_normal(noise_mu, noise_sigma, size=n_test) for i in range(k)])"
      ],
      "metadata": {
        "id": "SZqQzNxP0cZ8"
      },
      "execution_count": null,
      "outputs": []
    },
    {
      "cell_type": "code",
      "source": [
        "# plot train signal data\n",
        "for i in range(k):\n",
        "  plt.scatter(train_signal[i,:,0], train_signal[i,:,1], alpha=0.5)\n",
        "plt.title(\"Train signal data\");"
      ],
      "metadata": {
        "colab": {
          "base_uri": "https://localhost:8080/"
        },
        "id": "JTPraltv8S4y",
        "outputId": "6da3211a-4e85-45dd-e520-705e3060897d"
      },
      "execution_count": null,
      "outputs": [
        {
          "output_type": "display_data",
          "data": {
            "text/plain": [
              "<Figure size 432x288 with 1 Axes>"
            ],
            "image/png": "[encoded data removed]"
          },
          "metadata": {
            "needs_background": "light"
          }
        }
      ]
    },
    {
      "cell_type": "code",
      "source": [
        "train_X =  generate_data(train_signal, train_noise, generate_Y=False)\n",
        "train_Y = np.stack([np.ones(n)*i for i in range(k)]).reshape(n*k,1)\n",
        "\n",
        "test_X =  generate_data(test_signal, test_noise, generate_Y=False)\n",
        "test_Y = np.stack([np.ones(n_test)*i for i in range(k)]).reshape(n*k,1)"
      ],
      "metadata": {
        "id": "YbVI8gsV9rQg"
      },
      "execution_count": null,
      "outputs": []
    },
    {
      "cell_type": "code",
      "source": [
        "def multi_to_onehot(Y):\n",
        "  Y = Y.flatten().astype(int)\n",
        "  onehot = np.zeros((Y.size, Y.max() + 1))\n",
        "  onehot[np.arange(Y.size), Y] = 1\n",
        "  return onehot"
      ],
      "metadata": {
        "id": "Xi0krVcMZBIX"
      },
      "execution_count": null,
      "outputs": []
    },
    {
      "cell_type": "code",
      "source": [
        "oh_train_Y, oh_test_Y = multi_to_onehot(train_Y), multi_to_onehot(test_Y)"
      ],
      "metadata": {
        "id": "Y1gnRI4uZBnM"
      },
      "execution_count": null,
      "outputs": []
    },
    {
      "cell_type": "markdown",
      "source": [
        "In the binary setting to get a logistic regression we could apply the cross-entropy loss directly on the 2-dimensional representation. The multi-class setting requires the model's output to be in the same dimension as the number of classes. Therefore, we need to add another layer of size $k$. However, training a larger model would make the comparison to other models more difficult, and therefore we set the weights of the additional layer to non-trainable. That is, as in the other methods, only the 2-dimensional representation is trained."
      ],
      "metadata": {
        "id": "jq4r_ixJA9u9"
      }
    },
    {
      "cell_type": "code",
      "source": [
        "def init_representation(additional_layer_size=0):\n",
        "  layer = tf.keras.layers.Dense(2)\n",
        "  if additional_layer_size==0:\n",
        "    g = tf.keras.Sequential([layer])\n",
        "  else: \n",
        "    frozen_layer = tf.keras.layers.Dense(additional_layer_size)\n",
        "    frozen_layer.trainable = False\n",
        "    g = tf.keras.Sequential([layer, frozen_layer])\n",
        "  return g"
      ],
      "metadata": {
        "id": "WovwaAD9LVpw"
      },
      "execution_count": null,
      "outputs": []
    },
    {
      "cell_type": "code",
      "source": [
        "logistic_model, logistic_X_hat = train(train_X, oh_train_Y, test_X, oh_test_Y, 300, \"cross-entropy\", alpha=1.0, lr = 0.01, batch_size=32, additional_layer_size=k)"
      ],
      "metadata": {
        "colab": {
          "base_uri": "https://localhost:8080/",
          "referenced_widgets": [
            "49bdfe9851e44c1dbebb7d47b25e5780",
            "e5071912bb3f4a0da1f40eb7499c3bda",
            "4b5377655f744bf0a06c57573c88c997",
            "40d471128213429ca4b746dfb00e5e7b",
            "cbf931628cc94a13aae90038ca25f086",
            "916384babdef4cdc82cdf210289a8ebf",
            "c460a333a9214732b4a1d74a04e8cd64",
            "f1d21f33f5e5427ca492b7cbd5a12125",
            "9683f0360e144015884fcee6d1efe43a",
            "ae0158ed1f1344b984834ac5e83ed964",
            "808c6f7090af47ff8b850111c00abb3e"
          ]
        },
        "id": "5z3HFaEC9lx3",
        "outputId": "8d720b68-6ec8-4e73-b594-f8e800035e08"
      },
      "execution_count": null,
      "outputs": [
        {
          "output_type": "display_data",
          "data": {
            "text/plain": [
              "  0%|          | 0/300 [00:00<?, ?it/s]"
            ],
            "application/vnd.jupyter.widget-view+json": {
              "version_major": 2,
              "version_minor": 0,
              "model_id": "49bdfe9851e44c1dbebb7d47b25e5780"
            }
          },
          "metadata": {}
        },
        {
          "output_type": "stream",
          "name": "stdout",
          "text": [
            "iteration 0, train loss 5.224\n",
            "iteration 25, train loss 4.157\n",
            "iteration 50, train loss 4.010\n",
            "iteration 75, train loss 3.988\n",
            "iteration 100, train loss 3.935\n",
            "iteration 125, train loss 3.906\n",
            "iteration 150, train loss 3.762\n",
            "iteration 175, train loss 3.639\n",
            "iteration 200, train loss 3.681\n",
            "iteration 225, train loss 3.911\n",
            "iteration 250, train loss 3.856\n",
            "iteration 275, train loss 3.786\n",
            "iteration 299, train loss 3.786, test loss 3.832\n"
          ]
        }
      ]
    },
    {
      "cell_type": "markdown",
      "source": [
        "To compute the 2-dimensional representation (instead of the output of the additional layer for the logistic regression) we extract layer outputs"
      ],
      "metadata": {
        "id": "QeZNTI0qgiIG"
      }
    },
    {
      "cell_type": "code",
      "source": [
        "def logistic_representation(X):\n",
        "  return logistic_model.layers[0](X)"
      ],
      "metadata": {
        "id": "4tOPapthjgny"
      },
      "execution_count": null,
      "outputs": []
    },
    {
      "cell_type": "code",
      "source": [
        "plot_representation(test_X, test_Y, logistic_representation, show_legend=False)"
      ],
      "metadata": {
        "colab": {
          "base_uri": "https://localhost:8080/"
        },
        "id": "aFRiHh6CfEZO",
        "outputId": "e40aabd9-0bc2-4522-a941-2d2c99eb4bfa"
      },
      "execution_count": null,
      "outputs": [
        {
          "output_type": "display_data",
          "data": {
            "text/plain": [
              "<Figure size 432x288 with 1 Axes>"
            ],
            "image/png": "[encoded data removed]"
          },
          "metadata": {
            "needs_background": "light"
          }
        }
      ]
    },
    {
      "cell_type": "code",
      "source": [
        "true_label = tf.cast(tf.reshape(test_Y, -1), tf.int64)\n",
        "\n",
        "Y_hat = tf.nn.softmax(logistic_model(test_X))\n",
        "predicted_label = tf.math.argmax(Y_hat, axis=1)\n",
        "\n",
        "accuracy = np.mean(true_label.numpy() == predicted_label.numpy())\n",
        "accuracy"
      ],
      "metadata": {
        "colab": {
          "base_uri": "https://localhost:8080/"
        },
        "id": "wdm8ItWslJUR",
        "outputId": "fbc48c8f-7161-4822-e286-20ca4da6f7d7"
      },
      "execution_count": null,
      "outputs": [
        {
          "output_type": "execute_result",
          "data": {
            "text/plain": [
              "0.04"
            ]
          },
          "metadata": {},
          "execution_count": 61
        }
      ]
    },
    {
      "cell_type": "markdown",
      "source": [
        "As you can see, the logistic model now fails. "
      ],
      "metadata": {
        "id": "kG8ljYXcmMpL"
      }
    },
    {
      "cell_type": "markdown",
      "source": [
        "## <font color='purple'> Try out few-shot losses and see how they do\n"
      ],
      "metadata": {
        "id": "c8I9nzmImpQJ"
      }
    },
    {
      "cell_type": "code",
      "source": [
        "# Your code comes here"
      ],
      "metadata": {
        "id": "CueE_oQhN4rL"
      },
      "execution_count": null,
      "outputs": []
    },
    {
      "cell_type": "markdown",
      "source": [
        "## 2 Few-shot learning on real data "
      ],
      "metadata": {
        "id": "n-qSyyunfwwQ"
      }
    },
    {
      "cell_type": "markdown",
      "source": [
        "Now we will move on to a few-shot scenario of character classification. <br> \n",
        "We will work on the Omniglot dataset, that includes 1623 characters (classes) from 50 different alphabets.<br>\n",
        "In the original data division none of the 659 characters from the test appears in the train set.\n"
      ],
      "metadata": {
        "id": "6e63jgX_f0rs"
      }
    },
    {
      "cell_type": "code",
      "source": [
        "train_data = tfds.load(\"omniglot\", as_supervised=True, split=\"train\")\n",
        "test_data = tfds.load(\"omniglot\", as_supervised=True, split=\"test\")"
      ],
      "metadata": {
        "id": "eN5J7pVsgMcv"
      },
      "execution_count": null,
      "outputs": []
    },
    {
      "cell_type": "code",
      "source": [
        "def extraction(image, label):\n",
        "    image = tf.image.convert_image_dtype(image, tf.float32)\n",
        "    image = tf.image.rgb_to_grayscale(image)\n",
        "    image = tf.image.resize(image, [28, 28])\n",
        "    return image, label"
      ],
      "metadata": {
        "id": "72Cqwh9_hgyY"
      },
      "execution_count": null,
      "outputs": []
    },
    {
      "cell_type": "code",
      "source": [
        "def get_data(data_set):\n",
        "    images = []\n",
        "    labels = []\n",
        "    for image, label in tqdm(data_set.map(extraction)):\n",
        "        image = image.numpy()\n",
        "        label = str(label.numpy())\n",
        "        images.append(image)\n",
        "        labels.append(label)   \n",
        "    images = np.array(images)\n",
        "    labels = np.array(labels).astype('int')\n",
        "    return images, labels"
      ],
      "metadata": {
        "id": "-W7qzccvhVlC"
      },
      "execution_count": null,
      "outputs": []
    },
    {
      "cell_type": "code",
      "source": [
        "x_train, y_train = get_data(train_data)\n",
        "x_test, y_test = get_data(test_data)"
      ],
      "metadata": {
        "colab": {
          "base_uri": "https://localhost:8080/",
          "height": 81,
          "referenced_widgets": [
            "f0e1af0f9cc74e00bbdccba8ba5c9421",
            "12cb35c580754d09b1164556a7b81196",
            "ff3537a0270645d29fa812530477c6dc",
            "9e03ca5de5524a218bf62e4b704fe6bc",
            "3c33c26ebb4841dd9ae03511a83a9b55",
            "cf0f1efb63154dc28418f0d0a695f9f0",
            "6f82d1b6e53a48388f79226c8d042a4b",
            "191ff33be7d94b0ca70de1277956f5cf",
            "e7bf263ad2014be688d66602f94f132e",
            "9ddb97b8b37e441f998f10265e567e70",
            "7af92ba78be246a1912768b5a1c56cd6",
            "71974aae179c43c9a4b7528974a89dfa",
            "f3dd6a361c6f4ff9afd1f52b9e7e29d4",
            "014e1aa0fe844beda8be7d3ca0be66d6",
            "25c2b775cbd948309fcddaa65b4774d7",
            "58d81e37934548d1a542f775d4048d25",
            "d06db511d8064d5abd6e3e65b921af6a",
            "087806fc23e84346888650d27f24d372",
            "f6643288d7c846d3b9cfdba8bc815281",
            "0378b2cf0b944e0da6e7f08b6eb440b2",
            "7c4f6ef7f584458a910d46093cfa0e1a",
            "3064ff3f9b344d6dadf9d994e1a7efa3"
          ]
        },
        "id": "-v2KaagGhcDB",
        "outputId": "1383dbb8-5dbf-4fc8-bc22-85ce98941a7c"
      },
      "execution_count": null,
      "outputs": [
        {
          "output_type": "display_data",
          "data": {
            "text/plain": [
              "  0%|          | 0/19280 [00:00<?, ?it/s]"
            ],
            "application/vnd.jupyter.widget-view+json": {
              "version_major": 2,
              "version_minor": 0,
              "model_id": "f0e1af0f9cc74e00bbdccba8ba5c9421"
            }
          },
          "metadata": {}
        },
        {
          "output_type": "display_data",
          "data": {
            "text/plain": [
              "  0%|          | 0/13180 [00:00<?, ?it/s]"
            ],
            "application/vnd.jupyter.widget-view+json": {
              "version_major": 2,
              "version_minor": 0,
              "model_id": "71974aae179c43c9a4b7528974a89dfa"
            }
          },
          "metadata": {}
        }
      ]
    },
    {
      "cell_type": "code",
      "source": [
        "# unique classes in train and test\n",
        "unq_y_train = np.unique(y_train)\n",
        "unq_y_test = np.unique(y_test)"
      ],
      "metadata": {
        "id": "rE0l9UhJqTZd"
      },
      "execution_count": null,
      "outputs": []
    },
    {
      "cell_type": "code",
      "source": [
        "# visualize some examples\n",
        "fig, axs = plt.subplots(5, 5, figsize=(10,10))\n",
        "for i, cls in enumerate(np.random.choice(unq_y_train, size=5)):\n",
        "    for j in range(5):\n",
        "        temp_image = x_train[y_train==cls][j].reshape(28, 28)\n",
        "        temp_image *= 255\n",
        "        temp_image = np.clip(temp_image, 0, 255).astype(\"uint8\")\n",
        "        axs[i,j].imshow(temp_image, cmap='gray')\n",
        "        axs[i,j].xaxis.set_visible(False)\n",
        "        axs[i,j].yaxis.set_visible(False);"
      ],
      "metadata": {
        "colab": {
          "base_uri": "https://localhost:8080/",
          "height": 578
        },
        "id": "TavgMKdnhsJE",
        "outputId": "898d0a62-128a-4720-a166-0b6a30e29294"
      },
      "execution_count": null,
      "outputs": [
        {
          "output_type": "display_data",
          "data": {
            "text/plain": [
              "<Figure size 720x720 with 25 Axes>"
            ],
            "image/png": "[encoded data removed]"
          },
          "metadata": {
            "needs_background": "light"
          }
        }
      ]
    },
    {
      "cell_type": "markdown",
      "source": [
        "We will practice a 5-way 1-shot scenario. That is, we will have:\n",
        "\n",
        "\n",
        "*   Training set - 20 images for each of the 964 \"old\" classes\n",
        "*   Support set - 1 image for each of 5 \"new\" classes\n",
        "*   Qery set - 19 images for each of 5 \"new\" classes\n",
        "\n",
        "We will begin by training a representation over the training set, and later on will fine-tune it on the additional examples. <br>\n",
        "\n",
        "For this data we will need a more complex representation. We will use a relatively shallow convolutional neural network."
      ],
      "metadata": {
        "id": "xHZ58R7oyVh5"
      }
    },
    {
      "cell_type": "code",
      "source": [
        "def init_representation(additional_layer_size=0):\n",
        "    model = tf.keras.Sequential()\n",
        "    model.add(tf.keras.layers.Input(shape=(28, 28, 1)))\n",
        "    # round 1\n",
        "    model.add(tf.keras.layers.Conv2D(filters=64, kernel_size=3, strides=2, padding=\"same\"))\n",
        "    model.add(tf.keras.layers.BatchNormalization())\n",
        "    model.add(tf.keras.layers.ReLU())\n",
        "    # round 2\n",
        "    model.add(tf.keras.layers.Conv2D(filters=64, kernel_size=3, strides=2, padding=\"same\"))\n",
        "    model.add(tf.keras.layers.BatchNormalization())\n",
        "    model.add(tf.keras.layers.ReLU())\n",
        "    # round 3\n",
        "    model.add(tf.keras.layers.Conv2D(filters=64, kernel_size=3, strides=2, padding=\"same\"))\n",
        "    model.add(tf.keras.layers.BatchNormalization())\n",
        "    model.add(tf.keras.layers.ReLU())\n",
        "    \n",
        "    model.add(tf.keras.layers.Flatten())\n",
        "    model.add(tf.keras.layers.Dense(32, kernel_initializer='glorot_uniform', bias_initializer='zeros'))\n",
        "  \n",
        "    return model"
      ],
      "metadata": {
        "id": "4WQR_W9tiWz7"
      },
      "execution_count": null,
      "outputs": []
    },
    {
      "cell_type": "markdown",
      "source": [
        "We begin by training a model on the whole training set. We will arbitrarily use here triplet networks.\n"
      ],
      "metadata": {
        "id": "13Nvzi5C9JXD"
      }
    },
    {
      "cell_type": "code",
      "source": [
        "omng_triplet_model, omng_triplet_X_hat = train(x_train, y_train, None, None, 100, \"triplet\", alpha=1.0, lr = 0.01, batch_size=64, validate=False)"
      ],
      "metadata": {
        "colab": {
          "base_uri": "https://localhost:8080/",
          "height": 122,
          "referenced_widgets": [
            "ef509991f5fa4c8da6e3400439cc03e5",
            "6e178c1ef2bb4d2587f861f5c226eee3",
            "b841c884e1a949f28de1608d99a62db0",
            "7996cf9f58d64661a7e6771cece25cf1",
            "ec622922718740859812cd22cd4c34d8",
            "c3ed06023ed14283b49e97da68d40fac",
            "ec8014d7d31043dd90d46242c70c0c39",
            "db4985ddf45b4554a680f44c9f721f81",
            "e45a4c6db6694ffba9f3b35201719e38",
            "4ff664517afb465fab4b225cd729a2f1",
            "dc017db108b54a3db1787c7bcfdbddbc"
          ]
        },
        "id": "4ZGybXpG4VxU",
        "outputId": "c97fc34a-b5b1-4bf8-dab1-a37e9a22cfd3"
      },
      "execution_count": null,
      "outputs": [
        {
          "output_type": "display_data",
          "data": {
            "text/plain": [
              "  0%|          | 0/100 [00:00<?, ?it/s]"
            ],
            "application/vnd.jupyter.widget-view+json": {
              "version_major": 2,
              "version_minor": 0,
              "model_id": "ef509991f5fa4c8da6e3400439cc03e5"
            }
          },
          "metadata": {}
        },
        {
          "output_type": "stream",
          "name": "stdout",
          "text": [
            "iteration 0, train loss 0.990\n",
            "iteration 25, train loss 0.000\n",
            "iteration 50, train loss 0.092\n",
            "iteration 75, train loss 0.000\n"
          ]
        }
      ]
    },
    {
      "cell_type": "markdown",
      "source": [
        "Now we will fine-tune this model on the support set. For this we will first freeze all the network layers, except the last one. \n"
      ],
      "metadata": {
        "id": "EiW-aXUT-QhR"
      }
    },
    {
      "cell_type": "code",
      "source": [
        "for layer in omng_triplet_model.layers[:-1]:\n",
        "  layer.trainable = False"
      ],
      "metadata": {
        "id": "U0eIof2bDSsj"
      },
      "execution_count": null,
      "outputs": []
    },
    {
      "cell_type": "code",
      "source": [
        "n_classes = 5"
      ],
      "metadata": {
        "id": "Hp-8j8TsH3NE"
      },
      "execution_count": null,
      "outputs": []
    },
    {
      "cell_type": "markdown",
      "source": [
        "For evaluation we will train multiple times, each time sampling a different set of 5 classes."
      ],
      "metadata": {
        "id": "iTVrQe3JDi4g"
      }
    },
    {
      "cell_type": "code",
      "source": [
        "repeat = 10\n",
        "\n",
        "classes = []\n",
        "models = []\n",
        "query_xs = []\n",
        "query_ys = []\n",
        "\n",
        "for i in range(repeat):\n",
        "\n",
        "  # sample 5 test classes\n",
        "  few_classes = y_test[np.random.choice(len(unq_y_test), 5, replace=False)]\n",
        "\n",
        "  support_x = []\n",
        "  support_y = []\n",
        "  query_x = []\n",
        "  query_y = []\n",
        "\n",
        "  for y in few_classes:\n",
        "    # indices of x values from the chosen classes\n",
        "    idx = np.where(y_test==y)[0]\n",
        "\n",
        "    # choose one of the for support\n",
        "    t = np.random.choice(n_classes, 1)\n",
        "    support_x.append(x_test[idx[t]])\n",
        "    support_y.append(y)\n",
        "\n",
        "    # set the rest to query\n",
        "    query_idx = [v for v in idx if v!=idx[t]]\n",
        "    query_n = len(query_idx)\n",
        "    query_x.append(x_test[query_idx])\n",
        "    query_y.append(np.repeat(y, query_n))\n",
        "\n",
        "  # lists to numpy arrays  \n",
        "  support_x = np.array(support_x).reshape(n_classes, 28, 28, 1)\n",
        "  support_y = np.array(support_y)\n",
        "  query_x = np.array(query_x).reshape(n_classes*query_n, 28, 28, 1)\n",
        "  query_y = np.array(query_y).reshape(-1)\n",
        "\n",
        "  model, _ = train(support_x, support_y, None, None, 50, \"triplet\", alpha=1.0, lr = 0.01, batch_size=n_classes, validate=False, pretrained_model=omng_triplet_model)\n",
        "\n",
        "  classes.append(few_classes)\n",
        "  models.append(model)\n",
        "  query_xs.append(query_x)\n",
        "  query_ys.append(query_y)"
      ],
      "metadata": {
        "colab": {
          "base_uri": "https://localhost:8080/",
          "height": 704,
          "referenced_widgets": [
            "b081b63f4f124279a97671a6af163bcb",
            "28647ad8973549a68a35913c8b97e686",
            "fcb842e63a634df8b3d8a16def1d3afe",
            "135e26134bcd4e639bbeae6dbbe79681",
            "abb299e7772249e481356711392dd751",
            "2c0d8c150ee24f73a61c04a34a22e6a8",
            "48c046f8c2a442b196b283f2c3575e6c",
            "7267127200814800b267176e9ed30685",
            "eee757ac0e9843bfa698c88b0658f294",
            "3c41c646a5b848969a6ee9d78b0e00b9",
            "4ed2f1522d904c699913d1e5ef574df3",
            "f70c991bf09149ac940b1bee61561812",
            "3a03d140156f4cb491df927be489cbbe",
            "6960f2bfe3ce4802b156c7ad41a69603",
            "7b33a048f8084f12955ca3444dd574ec",
            "2bf23a87815a47c9a6e23a793470788c",
            "b159852b7c41457abeea684228d1a9bc",
            "cca8f059610b4a1283fb008a2649e9f7",
            "ccb663ffcc624be7b552e2979cb4fa3a",
            "6a5508f94cbc4a44bead8141825d7002",
            "fa523700ee5f483c9a49a60dcbcf307b",
            "5df283849cc44a0eb7e2807917b1b623",
            "f819b079019240aabee941a5c83fc68a",
            "6ebaef3461714788aac53305c52c0ed0",
            "5946edaa827d48c883532ff26b075f81",
            "e3ff012175a44ab8ab35d2043019ddd6",
            "af582f4310b44608aaaf3dab0ac14b6b",
            "6dc3cb49fa7f4940be8e2299397e4a00",
            "490ff3cf881d4bf9b318e8a3f0c5c0b3",
            "cf47ae1b2e33477f85d0e781611ac90d",
            "a54fd3374b294a46911dc08475d02ccc",
            "f88d78e5b83d4bd49cd5f575ce200776",
            "73223052fe8b445cadeb2cd28e5cec80",
            "7db4e4228f9040afa22b3ac6ace8889e",
            "9d53153a97824e1e8a6cc9239713441a",
            "cfc6a9b55af04b8199d1aba4e77b6b2c",
            "c1b74d933adc4fdb81f7dd07b8abc06a",
            "c40d53fe508347deadfa8f811b87750f",
            "881a2f45a82a4513a78032130831a8b0",
            "7e4857b00613458d93a6c46bf24a7410",
            "8958fa33a26e4dd88ce4e7a42465b970",
            "de1364a9c6a741ccb92ef2f79e6f69e4",
            "7f77d68d568146d68da92e180f652047",
            "c81b71ea5cd547bea521152fb7a700df",
            "26b1fa71a688491193669abd991276e8",
            "74db776f9ee04ce48d844e2421a14fee",
            "98fe988761b04046971c766fb114fba8",
            "e0274ae69f4c4c7f81198b174dbae45c",
            "ea1843dc2cae44bdbc5976e1da5b84b7",
            "860719a59f614d919c94ab8f77aac866",
            "988c1e4f882a40d7bf19d64e3775087c",
            "ce6c75e2da864bdc94f31010e4673c86",
            "8a90d0d7cf504ee480e46c5da49a6f72",
            "8a31621e939a45edb4375a5ff92b7c1a",
            "5156a78a81444d0288c3e2580a73ddad",
            "6ed6c074d6bb4c47b5004cf5c773d934",
            "264bb773e916469baa89f766aafa2ad5",
            "71403bfb558b432696e83f9fac8b070b",
            "9a1f7c0846754285836c759368f33ce3",
            "f06986035c8046eda3268814f0a9e9ac",
            "eb4af2eea5fd45d486519791edf69a31",
            "0cb4b1329eae489b92f27224816f1504",
            "1748f835e3f84023a344d32162ff3ab9",
            "58b0d382a24448ebbed793174f17cf16",
            "561c146c35774f0f9c1470b764c8f80f",
            "d0de36a0ffb2402ba7a5284c75fe41f1",
            "2c37326ed27144d38d93392238691ac1",
            "9fa13568d11641bead7dd6ebcc2e20f6",
            "fbc7cb7e11b14ad88798d7cd937fc4b1",
            "e51667607f6c4b6c9956a9a570284b5f",
            "ed92b8c906584a6d82a3c97ce758afa2",
            "7151830e1154440c977aa6b02ad8d931",
            "8bc6dadd45f1499da491e7d532e02f3f",
            "7fab63610a1b4e238d3118cff409c854",
            "ad033ddb7f9c417b8b4d9da63d069769",
            "84a04bb84ca541cf8b2733831432fd55",
            "7b7072410af04851af272ccafa547f8f",
            "2f4f3cdee99946dcb9a36c6fe034704b",
            "6f7cad610d6247e1af96989ac4cb954e",
            "f8de7728c47545e2a57f62f1a6ed4880",
            "3c9372961bce44dc8da634b3a231a625",
            "9c14508cd750419b84b052ff2f327cd7",
            "c5393245517f4ba391d40c41bc6a5cb4",
            "6c81ecc1635a40ffbfc2103566e4419b",
            "d4682153993344fe908af460e908fbb1",
            "52319d15a12b4e9ea5aec2541f199b83",
            "9e24de61e3aa4b128b807d8580233bf8",
            "e00b08699b4942fa94fd92d35e4f9189",
            "fdfecf95688a4a6fa05593de037c50ca",
            "19b2f69081be42ec8d7c4dc267040927",
            "4c7749ccbd574597a0b679504420071b",
            "7cf81bec2ddc49a8a9c733d77b86c63c",
            "226554d11f2d42c0825dea9771d1fce8",
            "cd74e7e4ad744c02afbc6015c017c2a1",
            "e673db673b9442038f68e3bcd67dfb53",
            "5119fa379a47420a9499460f051c7a38",
            "3d34e14c75574eea8372305418d93761",
            "01b0ca9c68064007b2a79d49603cafb4",
            "4062b055e83b4bbf82507f61e1dfed4d",
            "56aee39ee0254cd399caa8b65fec895e",
            "aff73e1b1dbd46938fea5b83ccf74b48",
            "9102c99d7af64ca4bf8d9851d5b906d3",
            "6440cd6ebc324d77980512436218be17",
            "e7c9ec0125a340728f0c648d401a2cd0",
            "40bb5457d01c4369b5d163f43883f6c9",
            "c9ca543cd49f43789db4b1529a6b4ad1",
            "46561ab44cd34582a31aa4369f201a5a",
            "166dd2bf6a07415d8a0edbc56c208bb7",
            "8d382228ae22445392ff1c05a7aa566b",
            "68ca2890af2841c7954b9855cd43389a"
          ]
        },
        "id": "zN2oPMuk4U_1",
        "outputId": "79266909-86bb-4a25-c274-84de10b8a98f"
      },
      "execution_count": null,
      "outputs": [
        {
          "output_type": "display_data",
          "data": {
            "text/plain": [
              "  0%|          | 0/50 [00:00<?, ?it/s]"
            ],
            "application/vnd.jupyter.widget-view+json": {
              "version_major": 2,
              "version_minor": 0,
              "model_id": "b081b63f4f124279a97671a6af163bcb"
            }
          },
          "metadata": {}
        },
        {
          "output_type": "stream",
          "name": "stdout",
          "text": [
            "iteration 0, train loss 0.983\n",
            "iteration 25, train loss 0.000\n"
          ]
        },
        {
          "output_type": "display_data",
          "data": {
            "text/plain": [
              "  0%|          | 0/50 [00:00<?, ?it/s]"
            ],
            "application/vnd.jupyter.widget-view+json": {
              "version_major": 2,
              "version_minor": 0,
              "model_id": "f70c991bf09149ac940b1bee61561812"
            }
          },
          "metadata": {}
        },
        {
          "output_type": "stream",
          "name": "stdout",
          "text": [
            "iteration 0, train loss 0.983\n",
            "iteration 25, train loss 0.000\n"
          ]
        },
        {
          "output_type": "display_data",
          "data": {
            "text/plain": [
              "  0%|          | 0/50 [00:00<?, ?it/s]"
            ],
            "application/vnd.jupyter.widget-view+json": {
              "version_major": 2,
              "version_minor": 0,
              "model_id": "f819b079019240aabee941a5c83fc68a"
            }
          },
          "metadata": {}
        },
        {
          "output_type": "stream",
          "name": "stdout",
          "text": [
            "iteration 0, train loss 0.980\n",
            "iteration 25, train loss 0.000\n"
          ]
        },
        {
          "output_type": "display_data",
          "data": {
            "text/plain": [
              "  0%|          | 0/50 [00:00<?, ?it/s]"
            ],
            "application/vnd.jupyter.widget-view+json": {
              "version_major": 2,
              "version_minor": 0,
              "model_id": "7db4e4228f9040afa22b3ac6ace8889e"
            }
          },
          "metadata": {}
        },
        {
          "output_type": "stream",
          "name": "stdout",
          "text": [
            "iteration 0, train loss 0.988\n",
            "iteration 25, train loss 0.000\n"
          ]
        },
        {
          "output_type": "display_data",
          "data": {
            "text/plain": [
              "  0%|          | 0/50 [00:00<?, ?it/s]"
            ],
            "application/vnd.jupyter.widget-view+json": {
              "version_major": 2,
              "version_minor": 0,
              "model_id": "26b1fa71a688491193669abd991276e8"
            }
          },
          "metadata": {}
        },
        {
          "output_type": "stream",
          "name": "stdout",
          "text": [
            "iteration 0, train loss 0.985\n",
            "iteration 25, train loss 0.000\n"
          ]
        },
        {
          "output_type": "display_data",
          "data": {
            "text/plain": [
              "  0%|          | 0/50 [00:00<?, ?it/s]"
            ],
            "application/vnd.jupyter.widget-view+json": {
              "version_major": 2,
              "version_minor": 0,
              "model_id": "6ed6c074d6bb4c47b5004cf5c773d934"
            }
          },
          "metadata": {}
        },
        {
          "output_type": "stream",
          "name": "stdout",
          "text": [
            "iteration 0, train loss 0.992\n",
            "iteration 25, train loss 0.000\n"
          ]
        },
        {
          "output_type": "display_data",
          "data": {
            "text/plain": [
              "  0%|          | 0/50 [00:00<?, ?it/s]"
            ],
            "application/vnd.jupyter.widget-view+json": {
              "version_major": 2,
              "version_minor": 0,
              "model_id": "2c37326ed27144d38d93392238691ac1"
            }
          },
          "metadata": {}
        },
        {
          "output_type": "stream",
          "name": "stdout",
          "text": [
            "iteration 0, train loss 0.972\n",
            "iteration 25, train loss 0.000\n"
          ]
        },
        {
          "output_type": "display_data",
          "data": {
            "text/plain": [
              "  0%|          | 0/50 [00:00<?, ?it/s]"
            ],
            "application/vnd.jupyter.widget-view+json": {
              "version_major": 2,
              "version_minor": 0,
              "model_id": "2f4f3cdee99946dcb9a36c6fe034704b"
            }
          },
          "metadata": {}
        },
        {
          "output_type": "stream",
          "name": "stdout",
          "text": [
            "iteration 0, train loss 0.974\n",
            "iteration 25, train loss 0.000\n"
          ]
        },
        {
          "output_type": "display_data",
          "data": {
            "text/plain": [
              "  0%|          | 0/50 [00:00<?, ?it/s]"
            ],
            "application/vnd.jupyter.widget-view+json": {
              "version_major": 2,
              "version_minor": 0,
              "model_id": "fdfecf95688a4a6fa05593de037c50ca"
            }
          },
          "metadata": {}
        },
        {
          "output_type": "stream",
          "name": "stdout",
          "text": [
            "iteration 0, train loss 0.983\n",
            "iteration 25, train loss 0.000\n"
          ]
        },
        {
          "output_type": "display_data",
          "data": {
            "text/plain": [
              "  0%|          | 0/50 [00:00<?, ?it/s]"
            ],
            "application/vnd.jupyter.widget-view+json": {
              "version_major": 2,
              "version_minor": 0,
              "model_id": "56aee39ee0254cd399caa8b65fec895e"
            }
          },
          "metadata": {}
        },
        {
          "output_type": "stream",
          "name": "stdout",
          "text": [
            "iteration 0, train loss 0.988\n",
            "iteration 25, train loss 0.000\n"
          ]
        }
      ]
    },
    {
      "cell_type": "markdown",
      "source": [
        "## <font color='purple'> Analyze the results\n"
      ],
      "metadata": {
        "id": "jmRa6RqgNTSd"
      }
    },
    {
      "cell_type": "markdown",
      "source": [
        "You can get the classes model, and test X and Y values of the i-th repetition by: \n",
        "\n",
        "```\n",
        "classes[i], models[i], query_xs[i], query_ys[i]\n",
        "```\n",
        "\n",
        "\n"
      ],
      "metadata": {
        "id": "a94RxYKdNckY"
      }
    },
    {
      "cell_type": "code",
      "source": [
        "# Your code comes here"
      ],
      "metadata": {
        "id": "DJrC_9StNyAI"
      },
      "execution_count": null,
      "outputs": []
    }
  ]
}